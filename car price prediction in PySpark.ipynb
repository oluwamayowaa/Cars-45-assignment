{
  "cells": [
    {
      "cell_type": "code",
      "source": [
        "!sudo apt update\n",
        "!apt-get install openjdk-8-jdk-headless -qq > /dev/null\n",
        "\n",
        "# Get the latest version of Spark from the official website\n",
        "!wget -q https://dlcdn.apache.org/spark/spark-3.5.2/spark-3.5.2-bin-hadoop3.tgz\n",
        "!tar xf spark-3.5.2-bin-hadoop3.tgz\n",
        "\n",
        "!pip install -q findspark\n",
        "!pip install pyspark --upgrade\n",
        "!pip install py4j\n",
        "\n",
        "import os\n",
        "import sys\n",
        "# os.environ[\"JAVA_HOME\"] = \"/usr/lib/jvm/java-8-openjdk-amd64\"\n",
        "# os.environ[\"SPARK_HOME\"] = \"/content/spark-3.5.2-bin-hadoop3\"\n",
        "\n",
        "import findspark\n",
        "findspark.init()\n",
        "findspark.find()\n",
        "\n",
        "import pyspark\n",
        "\n",
        "from pyspark.sql import DataFrame, SparkSession\n",
        "from typing import List\n",
        "import pyspark.sql.types as T\n",
        "import pyspark.sql.functions as F\n",
        "\n",
        "spark = SparkSession \\\n",
        "       .builder \\\n",
        "       .appName(\"Data Science Assignment\") \\\n",
        "       .getOrCreate()\n",
        "\n",
        "spark"
      ],
      "metadata": {
        "colab": {
          "base_uri": "https://localhost:8080/",
          "height": 948
        },
        "id": "KQ-kKNtp3sLF",
        "outputId": "192be478-71e1-4ff9-8ff4-df52c49badfc"
      },
      "execution_count": 1,
      "outputs": [
        {
          "output_type": "stream",
          "name": "stdout",
          "text": [
            "\u001b[33m\r0% [Working]\u001b[0m\r            \rGet:1 http://security.ubuntu.com/ubuntu jammy-security InRelease [129 kB]\n",
            "\u001b[33m\r0% [Waiting for headers] [1 InRelease 12.7 kB/129 kB 10%] [Connected to cloud.r\u001b[0m\r                                                                               \rHit:2 http://archive.ubuntu.com/ubuntu jammy InRelease\n",
            "\u001b[33m\r0% [1 InRelease 75.0 kB/129 kB 58%] [Waiting for headers] [Connected to r2u.sta\u001b[0m\r                                                                               \rGet:3 http://archive.ubuntu.com/ubuntu jammy-updates InRelease [128 kB]\n",
            "\r                                                                               \rGet:4 https://cloud.r-project.org/bin/linux/ubuntu jammy-cran40/ InRelease [3,626 B]\n",
            "\u001b[33m\r0% [3 InRelease 15.6 kB/128 kB 12%] [1 InRelease 75.0 kB/129 kB 58%] [Waiting f\u001b[0m\r                                                                               \rHit:5 https://developer.download.nvidia.com/compute/cuda/repos/ubuntu2204/x86_64  InRelease\n",
            "\u001b[33m\r0% [3 InRelease 15.6 kB/128 kB 12%] [1 InRelease 75.0 kB/129 kB 58%] [Waiting f\u001b[0m\u001b[33m\r0% [3 InRelease 41.7 kB/128 kB 33%] [Waiting for headers] [Connecting to ppa.la\u001b[0m\r                                                                               \rIgn:6 https://r2u.stat.illinois.edu/ubuntu jammy InRelease\n",
            "\u001b[33m\r0% [3 InRelease 69.2 kB/128 kB 54%] [Connecting to ppa.launchpadcontent.net (18\u001b[0m\r                                                                               \rGet:7 https://r2u.stat.illinois.edu/ubuntu jammy Release [5,713 B]\n",
            "\u001b[33m\r0% [3 InRelease 101 kB/128 kB 79%] [7 Release 4,096 B/5,713 B 72%] [Connected t\u001b[0m\u001b[33m\r0% [3 InRelease 105 kB/128 kB 82%] [Connected to ppa.launchpadcontent.net (185.\u001b[0m\u001b[33m\r0% [Waiting for headers] [Waiting for headers] [Connected to ppa.launchpadconte\u001b[0m\r                                                                               \rGet:8 https://r2u.stat.illinois.edu/ubuntu jammy Release.gpg [793 B]\n",
            "Hit:9 http://archive.ubuntu.com/ubuntu jammy-backports InRelease\n",
            "Hit:10 https://ppa.launchpadcontent.net/deadsnakes/ppa/ubuntu jammy InRelease\n",
            "Get:11 https://ppa.launchpadcontent.net/graphics-drivers/ppa/ubuntu jammy InRelease [24.3 kB]\n",
            "Get:12 http://security.ubuntu.com/ubuntu jammy-security/multiverse amd64 Packages [44.7 kB]\n",
            "Hit:13 https://ppa.launchpadcontent.net/ubuntugis/ppa/ubuntu jammy InRelease\n",
            "Get:14 http://security.ubuntu.com/ubuntu jammy-security/universe amd64 Packages [1,146 kB]\n",
            "Get:15 http://security.ubuntu.com/ubuntu jammy-security/restricted amd64 Packages [2,967 kB]\n",
            "Get:16 http://archive.ubuntu.com/ubuntu jammy-updates/restricted amd64 Packages [3,045 kB]\n",
            "Get:17 http://security.ubuntu.com/ubuntu jammy-security/main amd64 Packages [2,224 kB]\n",
            "Get:18 http://archive.ubuntu.com/ubuntu jammy-updates/main amd64 Packages [2,499 kB]\n",
            "Get:19 http://archive.ubuntu.com/ubuntu jammy-updates/multiverse amd64 Packages [51.8 kB]\n",
            "Get:20 http://archive.ubuntu.com/ubuntu jammy-updates/universe amd64 Packages [1,435 kB]\n",
            "Get:21 https://r2u.stat.illinois.edu/ubuntu jammy/main amd64 Packages [2,572 kB]\n",
            "Get:22 https://r2u.stat.illinois.edu/ubuntu jammy/main all Packages [8,281 kB]\n",
            "Get:23 https://ppa.launchpadcontent.net/graphics-drivers/ppa/ubuntu jammy/main amd64 Packages [53.3 kB]\n",
            "Fetched 24.6 MB in 4s (5,986 kB/s)\n",
            "Reading package lists... Done\n",
            "Building dependency tree... Done\n",
            "Reading state information... Done\n",
            "52 packages can be upgraded. Run 'apt list --upgradable' to see them.\n",
            "\u001b[1;33mW: \u001b[0mSkipping acquire of configured file 'main/source/Sources' as repository 'https://r2u.stat.illinois.edu/ubuntu jammy InRelease' does not seem to provide it (sources.list entry misspelt?)\u001b[0m\n",
            "Collecting pyspark\n",
            "  Downloading pyspark-3.5.2.tar.gz (317.3 MB)\n",
            "\u001b[2K     \u001b[90m━━━━━━━━━━━━━━━━━━━━━━━━━━━━━━━━━━━━━━━━\u001b[0m \u001b[32m317.3/317.3 MB\u001b[0m \u001b[31m4.6 MB/s\u001b[0m eta \u001b[36m0:00:00\u001b[0m\n",
            "\u001b[?25h  Preparing metadata (setup.py) ... \u001b[?25l\u001b[?25hdone\n",
            "Requirement already satisfied: py4j==0.10.9.7 in /usr/local/lib/python3.10/dist-packages (from pyspark) (0.10.9.7)\n",
            "Building wheels for collected packages: pyspark\n",
            "  Building wheel for pyspark (setup.py) ... \u001b[?25l\u001b[?25hdone\n",
            "  Created wheel for pyspark: filename=pyspark-3.5.2-py2.py3-none-any.whl size=317812365 sha256=58a4acc9203fde72f0b629affdaac31589729b2edfd3d95b0d55135d610caed8\n",
            "  Stored in directory: /root/.cache/pip/wheels/34/34/bd/03944534c44b677cd5859f248090daa9fb27b3c8f8e5f49574\n",
            "Successfully built pyspark\n",
            "Installing collected packages: pyspark\n",
            "Successfully installed pyspark-3.5.2\n",
            "Requirement already satisfied: py4j in /usr/local/lib/python3.10/dist-packages (0.10.9.7)\n"
          ]
        },
        {
          "output_type": "execute_result",
          "data": {
            "text/plain": [
              "<pyspark.sql.session.SparkSession at 0x7ee029dec550>"
            ],
            "text/html": [
              "\n",
              "            <div>\n",
              "                <p><b>SparkSession - in-memory</b></p>\n",
              "                \n",
              "        <div>\n",
              "            <p><b>SparkContext</b></p>\n",
              "\n",
              "            <p><a href=\"http://de60efbcf11c:4040\">Spark UI</a></p>\n",
              "\n",
              "            <dl>\n",
              "              <dt>Version</dt>\n",
              "                <dd><code>v3.5.2</code></dd>\n",
              "              <dt>Master</dt>\n",
              "                <dd><code>local[*]</code></dd>\n",
              "              <dt>AppName</dt>\n",
              "                <dd><code>Data Science Assignment</code></dd>\n",
              "            </dl>\n",
              "        </div>\n",
              "        \n",
              "            </div>\n",
              "        "
            ]
          },
          "metadata": {},
          "execution_count": 1
        }
      ]
    },
    {
      "cell_type": "markdown",
      "metadata": {
        "id": "n4nH6pxisEtf"
      },
      "source": [
        "## Importing libraries"
      ]
    },
    {
      "cell_type": "code",
      "execution_count": 2,
      "metadata": {
        "id": "GC3CuhXMgu6a"
      },
      "outputs": [],
      "source": [
        "import numpy as np\n",
        "import pandas as pd\n",
        "import matplotlib.pyplot as plt\n",
        "import seaborn as sns\n",
        "%matplotlib inline"
      ]
    },
    {
      "cell_type": "code",
      "execution_count": 3,
      "metadata": {
        "id": "qYd5cLrNYe3y"
      },
      "outputs": [],
      "source": [
        "import pyspark.sql.functions as F\n",
        "from pyspark.sql.functions import *\n",
        "from pyspark.sql.types import *"
      ]
    },
    {
      "cell_type": "code",
      "execution_count": 4,
      "metadata": {
        "id": "cQgttal1BaZ_"
      },
      "outputs": [],
      "source": [
        "sns.set_theme(context= 'paper', style= 'whitegrid', palette= 'deep', font= 'monospace', font_scale= 1)"
      ]
    },
    {
      "cell_type": "code",
      "execution_count": 5,
      "metadata": {
        "id": "jptTUwSTTRUh"
      },
      "outputs": [],
      "source": [
        "#schema= StructType([\n",
        "#    StructField('make', StringType()),\n",
        "#                StructField('model', StringType()),\n",
        "#                StructField('mileage', IntegerType()),\n",
        "#                StructField('manufacture_year', IntegerType()),\n",
        "#                StructField('engine_displacement', IntegerType()),\n",
        "#                StructField('engine_power', IntegerType()),\n",
        "#                StructField('body_type', StringType()),\n",
        "#                StructField('color_slug', StringType()),\n",
        "#                StructField('transmission', StringType()),\n",
        "#                StructField('door_count', IntegerType()),\n",
        "#                StructField('seat_count', IntegerType()),\n",
        "#                StructField('date_created', TimestampType()),\n",
        "#                StructField('price_NGN', IntegerType())\n",
        "#])"
      ]
    },
    {
      "cell_type": "code",
      "execution_count": 6,
      "metadata": {
        "id": "U2L-7FkOmtoO"
      },
      "outputs": [],
      "source": [
        "# Read the CSV file into a DataFrame\n",
        "df = spark.read.csv('/content/drive/MyDrive/ds assignment/Cars_Data_CSV.csv', header=True)\n",
        "\n",
        "# Write the DataFrame to a Parquet file in a different location\n",
        "df.write.parquet('/content/drive/MyDrive/ds assignment/Cars_Data_Parquet.parquet', mode='overwrite')\n",
        "\n",
        "# Read the Parquet file back into a DataFrame\n",
        "df = spark.read.parquet('/content/drive/MyDrive/ds assignment/Cars_Data_Parquet.parquet')"
      ]
    },
    {
      "cell_type": "code",
      "execution_count": 7,
      "metadata": {
        "colab": {
          "base_uri": "https://localhost:8080/"
        },
        "id": "7Cq-RsnQl2_r",
        "outputId": "595f3173-e07b-45cb-8f4d-3c3c153f5aa5"
      },
      "outputs": [
        {
          "output_type": "stream",
          "name": "stdout",
          "text": [
            "+----+-----+-------+----------------+-------------------+------------+---------+----------+------------+----------+----------+---------+--------------------+---------+\n",
            "|make|model|mileage|manufacture_year|engine_displacement|engine_power|body_type|color_slug|transmission|door_count|seat_count|fuel_type|        date_created|price_NGN|\n",
            "+----+-----+-------+----------------+-------------------+------------+---------+----------+------------+----------+----------+---------+--------------------+---------+\n",
            "|audi| NULL| 330000|            1995|               2600|         110|  compact|      NULL|        auto|      None|      None| gasoline|2015-11-14 20:10:...|   873428|\n",
            "|audi|  200|   NULL|            1995|               NULL|        NULL|  compact|      NULL|        NULL|      None|      None| gasoline|2015-11-14 20:11:...|    66616|\n",
            "|audi| NULL|   NULL|            1995|              11199|        NULL|  compact|      NULL|        NULL|      None|      None| gasoline|2015-11-14 20:11:...|    66616|\n",
            "|audi| NULL|   NULL|            1995|               NULL|        NULL|  compact|      NULL|        NULL|      None|      None| gasoline|2015-11-14 20:11:...|    66604|\n",
            "|audi|   a6| 347000|            1995|               NULL|          85|  compact|      NULL|        auto|      None|      None| gasoline|2015-11-14 20:12:...|   843820|\n",
            "|audi|   a4| 325000|            1995|               NULL|        NULL|  compact|      NULL|        NULL|      None|      None| gasoline|2015-11-14 20:24:...|   222056|\n",
            "|audi|   a4|   NULL|            1995|               NULL|        NULL|  compact|      NULL|        NULL|      None|      None| gasoline|2015-11-14 20:30:...|   266468|\n",
            "|audi|   a6|   NULL|            1995|               NULL|          85|  compact|      NULL|        NULL|      None|      None| gasoline|2015-11-14 20:40:...|   518136|\n",
            "|audi|   a4|   NULL|            1995|               NULL|        NULL|  compact|      NULL|        NULL|      None|      None| gasoline|2015-11-14 20:45:...|   251664|\n",
            "|audi|   a6|   NULL|            1995|               NULL|         103|  compact|      NULL|        NULL|      None|      None| gasoline|2015-11-14 20:45:...|   296076|\n",
            "|audi|   a4|   NULL|            1995|              12500|        NULL|  compact|      NULL|        NULL|      None|      None| gasoline|2015-11-14 20:46:...|   185048|\n",
            "|audi|   a6|   NULL|            1995|               2500|         103|  compact|      NULL|        NULL|      None|      None| gasoline|2015-11-14 20:50:...|   296076|\n",
            "|audi|   a6| 351000|            1995|               NULL|        NULL|  compact|      NULL|        NULL|      None|      None| gasoline|2015-11-14 20:52:...|   814212|\n",
            "|audi|   a4|   NULL|            1995|               NULL|        NULL|  compact|      NULL|        NULL|      None|      None| gasoline|2015-11-14 20:57:...|   370096|\n",
            "|audi|   a4|   NULL|            1995|               NULL|        NULL|  compact|      NULL|        NULL|      None|      None| gasoline|2015-11-14 21:00:...|   177648|\n",
            "|audi|   a4|   NULL|            1995|               1800|        NULL|  compact|      NULL|        NULL|      None|      None| gasoline|2015-11-14 21:01:...|       16|\n",
            "|audi|   a8|   NULL|            1995|               8200|        NULL|  compact|      NULL|        NULL|      None|      None| gasoline|2015-11-14 21:05:...|   310880|\n",
            "|audi|   a4|   NULL|            1995|               NULL|          74|  compact|      NULL|        NULL|      None|      None| gasoline|2015-11-14 21:06:...|   488528|\n",
            "|audi|   a4| 282547|            1995|               NULL|        NULL|     NULL|      NULL|        NULL|      None|      None| gasoline|2015-11-14 21:59:...|   220104|\n",
            "|audi|   a4| 256307|            1995|               NULL|        NULL|     NULL|      NULL|        NULL|      None|      None| gasoline|2015-11-14 22:00:...|   678296|\n",
            "+----+-----+-------+----------------+-------------------+------------+---------+----------+------------+----------+----------+---------+--------------------+---------+\n",
            "only showing top 20 rows\n",
            "\n"
          ]
        }
      ],
      "source": [
        "df.show()"
      ]
    },
    {
      "cell_type": "code",
      "execution_count": 8,
      "metadata": {
        "colab": {
          "base_uri": "https://localhost:8080/"
        },
        "id": "cox_oEEkm-Tn",
        "outputId": "91025496-cfe4-46ca-af09-1e074acf598d"
      },
      "outputs": [
        {
          "output_type": "stream",
          "name": "stdout",
          "text": [
            "root\n",
            " |-- make: string (nullable = true)\n",
            " |-- model: string (nullable = true)\n",
            " |-- mileage: string (nullable = true)\n",
            " |-- manufacture_year: string (nullable = true)\n",
            " |-- engine_displacement: string (nullable = true)\n",
            " |-- engine_power: string (nullable = true)\n",
            " |-- body_type: string (nullable = true)\n",
            " |-- color_slug: string (nullable = true)\n",
            " |-- transmission: string (nullable = true)\n",
            " |-- door_count: string (nullable = true)\n",
            " |-- seat_count: string (nullable = true)\n",
            " |-- fuel_type: string (nullable = true)\n",
            " |-- date_created: string (nullable = true)\n",
            " |-- price_NGN: string (nullable = true)\n",
            "\n"
          ]
        }
      ],
      "source": [
        "# inspecting the column dtypes\n",
        "\n",
        "df.printSchema()"
      ]
    },
    {
      "cell_type": "code",
      "execution_count": 9,
      "metadata": {
        "id": "XNkFYG8rtHze"
      },
      "outputs": [],
      "source": [
        "# converting the columns to the aprropriate dtypes\n",
        "\n",
        "df= df.withColumn('mileage', df['mileage'].cast('int'))\n",
        "df= df.withColumn('manufacture_year', df['manufacture_year'].cast('int'))\n",
        "df= df.withColumn('engine_displacement', df['engine_displacement'].cast('int'))\n",
        "df= df.withColumn('engine_power', df['engine_power'].cast('int'))\n",
        "df= df.withColumn('door_count', df['door_count'].cast('int'))\n",
        "df= df.withColumn('seat_count', df['seat_count'].cast('int'))\n",
        "df= df.withColumn('date_created', df['date_created'].cast('timestamp'))\n",
        "df= df.withColumn('price_NGN', df['price_NGN'].cast('long'))"
      ]
    },
    {
      "cell_type": "code",
      "execution_count": 10,
      "metadata": {
        "colab": {
          "base_uri": "https://localhost:8080/"
        },
        "id": "CWSVxapgtLob",
        "outputId": "9096f55b-5ac2-4570-9cd1-d9701137cd16"
      },
      "outputs": [
        {
          "output_type": "stream",
          "name": "stdout",
          "text": [
            "root\n",
            " |-- make: string (nullable = true)\n",
            " |-- model: string (nullable = true)\n",
            " |-- mileage: integer (nullable = true)\n",
            " |-- manufacture_year: integer (nullable = true)\n",
            " |-- engine_displacement: integer (nullable = true)\n",
            " |-- engine_power: integer (nullable = true)\n",
            " |-- body_type: string (nullable = true)\n",
            " |-- color_slug: string (nullable = true)\n",
            " |-- transmission: string (nullable = true)\n",
            " |-- door_count: integer (nullable = true)\n",
            " |-- seat_count: integer (nullable = true)\n",
            " |-- fuel_type: string (nullable = true)\n",
            " |-- date_created: timestamp (nullable = true)\n",
            " |-- price_NGN: long (nullable = true)\n",
            "\n"
          ]
        }
      ],
      "source": [
        "df.printSchema()"
      ]
    },
    {
      "cell_type": "code",
      "execution_count": 11,
      "metadata": {
        "colab": {
          "base_uri": "https://localhost:8080/"
        },
        "id": "-K8QYzUycS6s",
        "outputId": "f030e6af-03b1-40ea-e407-518accdda1b0"
      },
      "outputs": [
        {
          "output_type": "stream",
          "name": "stdout",
          "text": [
            "+-------+------+------------------+------------------+-----------------+-------------------+------------------+---------+----------+------------+------------------+------------------+---------+--------------------+\n",
            "|summary|  make|             model|           mileage| manufacture_year|engine_displacement|      engine_power|body_type|color_slug|transmission|        door_count|        seat_count|fuel_type|           price_NGN|\n",
            "+-------+------+------------------+------------------+-----------------+-------------------+------------------+---------+----------+------------+------------------+------------------+---------+--------------------+\n",
            "|  count|638562|            454990|            603981|           638562|             489134|            537375|    72636|         0|      541441|            451206|            409865|   638562|              638562|\n",
            "|   mean|  NULL|306.40944189228816|115283.86027209465|2008.724717411935| 2100.2289311313466|105.05205117469178|     NULL|      NULL|        NULL| 3.679583161571433| 4.867810132604638|     NULL|   6171796.440903154|\n",
            "| stddev|  NULL| 315.5725913205059| 365012.4206961075| 5.49549003180245| 1931.0723759889524| 53.30300585077408|     NULL|      NULL|        NULL|0.8441266801049992|0.8618768205936925|     NULL|1.7985859242684588E8|\n",
            "|    min|  audi|               100|                 0|             1995|                 10|                 3|  compact|      NULL|        auto|                 1|                 1|   diesel|                  16|\n",
            "|    25%|  NULL|               5.0|             22000|             2005|               1461|                73|     NULL|      NULL|        NULL|                 4|                 5|     NULL|             1600592|\n",
            "|    50%|  NULL|             200.0|             82500|             2010|               1898|                94|     NULL|      NULL|        NULL|                 4|                 5|     NULL|             3980296|\n",
            "|    75%|  NULL|             500.0|            150000|             2014|               2143|               125|     NULL|      NULL|        NULL|                 4|                 5|     NULL|             7375928|\n",
            "|    max| volvo|                zx|           9999999|             2016|              32000|               999|      van|      NULL|         man|                 6|                74| gasoline|         82310297260|\n",
            "+-------+------+------------------+------------------+-----------------+-------------------+------------------+---------+----------+------------+------------------+------------------+---------+--------------------+\n",
            "\n"
          ]
        }
      ],
      "source": [
        "df.summary().show()"
      ]
    },
    {
      "cell_type": "markdown",
      "metadata": {
        "id": "OeEd2Yb4bzYY"
      },
      "source": [
        "## Handling Missing Values"
      ]
    },
    {
      "cell_type": "code",
      "execution_count": 12,
      "metadata": {
        "colab": {
          "base_uri": "https://localhost:8080/"
        },
        "id": "T4HLSKEKYciU",
        "outputId": "56e4c4e6-ed11-4e3d-aeea-e3db1c0e7651"
      },
      "outputs": [
        {
          "output_type": "stream",
          "name": "stdout",
          "text": [
            "+----+-----------------+----------------+----------------+-------------------+------------------+----------------+----------+------------------+------------------+-----------------+---------+------------+---------+\n",
            "|make|            model|         mileage|manufacture_year|engine_displacement|      engine_power|       body_type|color_slug|      transmission|        door_count|       seat_count|fuel_type|date_created|price_NGN|\n",
            "+----+-----------------+----------------+----------------+-------------------+------------------+----------------+----------+------------------+------------------+-----------------+---------+------------+---------+\n",
            "| 0.0|28.74771752782032|5.41544908716773|             0.0|  23.40070345557675|15.846072895036034|88.6250669472972|     100.0|15.209329712698219|29.340298984280306|35.81437667759747|      0.0|         0.0|      0.0|\n",
            "+----+-----------------+----------------+----------------+-------------------+------------------+----------------+----------+------------------+------------------+-----------------+---------+------------+---------+\n",
            "\n"
          ]
        }
      ],
      "source": [
        "# Calculate the percentage of null values for each column in the DataFrame\n",
        "\n",
        "null_percentage_df = df.select([\n",
        "    (count(when(col(c).isNull(), c)) / df.count() * 100).alias(c)\n",
        "    for c in df.columns\n",
        "])\n",
        "\n",
        "null_percentage_df.show()"
      ]
    },
    {
      "cell_type": "code",
      "execution_count": 13,
      "metadata": {
        "colab": {
          "base_uri": "https://localhost:8080/",
          "height": 488
        },
        "id": "a41AoPb6dEDq",
        "outputId": "f96b8f09-f357-4b1c-a71f-e2a7a7192804"
      },
      "outputs": [
        {
          "output_type": "execute_result",
          "data": {
            "text/plain": [
              "                       %\n",
              "make                   0\n",
              "model                 28\n",
              "mileage                5\n",
              "manufacture_year       0\n",
              "engine_displacement   23\n",
              "engine_power          15\n",
              "body_type             88\n",
              "color_slug           100\n",
              "transmission          15\n",
              "door_count            29\n",
              "seat_count            35\n",
              "fuel_type              0\n",
              "date_created           0\n",
              "price_NGN              0"
            ],
            "text/html": [
              "\n",
              "  <div id=\"df-fe380f8a-a984-4f05-8a7a-89020819323b\" class=\"colab-df-container\">\n",
              "    <div>\n",
              "<style scoped>\n",
              "    .dataframe tbody tr th:only-of-type {\n",
              "        vertical-align: middle;\n",
              "    }\n",
              "\n",
              "    .dataframe tbody tr th {\n",
              "        vertical-align: top;\n",
              "    }\n",
              "\n",
              "    .dataframe thead th {\n",
              "        text-align: right;\n",
              "    }\n",
              "</style>\n",
              "<table border=\"1\" class=\"dataframe\">\n",
              "  <thead>\n",
              "    <tr style=\"text-align: right;\">\n",
              "      <th></th>\n",
              "      <th>%</th>\n",
              "    </tr>\n",
              "  </thead>\n",
              "  <tbody>\n",
              "    <tr>\n",
              "      <th>make</th>\n",
              "      <td>0</td>\n",
              "    </tr>\n",
              "    <tr>\n",
              "      <th>model</th>\n",
              "      <td>28</td>\n",
              "    </tr>\n",
              "    <tr>\n",
              "      <th>mileage</th>\n",
              "      <td>5</td>\n",
              "    </tr>\n",
              "    <tr>\n",
              "      <th>manufacture_year</th>\n",
              "      <td>0</td>\n",
              "    </tr>\n",
              "    <tr>\n",
              "      <th>engine_displacement</th>\n",
              "      <td>23</td>\n",
              "    </tr>\n",
              "    <tr>\n",
              "      <th>engine_power</th>\n",
              "      <td>15</td>\n",
              "    </tr>\n",
              "    <tr>\n",
              "      <th>body_type</th>\n",
              "      <td>88</td>\n",
              "    </tr>\n",
              "    <tr>\n",
              "      <th>color_slug</th>\n",
              "      <td>100</td>\n",
              "    </tr>\n",
              "    <tr>\n",
              "      <th>transmission</th>\n",
              "      <td>15</td>\n",
              "    </tr>\n",
              "    <tr>\n",
              "      <th>door_count</th>\n",
              "      <td>29</td>\n",
              "    </tr>\n",
              "    <tr>\n",
              "      <th>seat_count</th>\n",
              "      <td>35</td>\n",
              "    </tr>\n",
              "    <tr>\n",
              "      <th>fuel_type</th>\n",
              "      <td>0</td>\n",
              "    </tr>\n",
              "    <tr>\n",
              "      <th>date_created</th>\n",
              "      <td>0</td>\n",
              "    </tr>\n",
              "    <tr>\n",
              "      <th>price_NGN</th>\n",
              "      <td>0</td>\n",
              "    </tr>\n",
              "  </tbody>\n",
              "</table>\n",
              "</div>\n",
              "    <div class=\"colab-df-buttons\">\n",
              "\n",
              "  <div class=\"colab-df-container\">\n",
              "    <button class=\"colab-df-convert\" onclick=\"convertToInteractive('df-fe380f8a-a984-4f05-8a7a-89020819323b')\"\n",
              "            title=\"Convert this dataframe to an interactive table.\"\n",
              "            style=\"display:none;\">\n",
              "\n",
              "  <svg xmlns=\"http://www.w3.org/2000/svg\" height=\"24px\" viewBox=\"0 -960 960 960\">\n",
              "    <path d=\"M120-120v-720h720v720H120Zm60-500h600v-160H180v160Zm220 220h160v-160H400v160Zm0 220h160v-160H400v160ZM180-400h160v-160H180v160Zm440 0h160v-160H620v160ZM180-180h160v-160H180v160Zm440 0h160v-160H620v160Z\"/>\n",
              "  </svg>\n",
              "    </button>\n",
              "\n",
              "  <style>\n",
              "    .colab-df-container {\n",
              "      display:flex;\n",
              "      gap: 12px;\n",
              "    }\n",
              "\n",
              "    .colab-df-convert {\n",
              "      background-color: #E8F0FE;\n",
              "      border: none;\n",
              "      border-radius: 50%;\n",
              "      cursor: pointer;\n",
              "      display: none;\n",
              "      fill: #1967D2;\n",
              "      height: 32px;\n",
              "      padding: 0 0 0 0;\n",
              "      width: 32px;\n",
              "    }\n",
              "\n",
              "    .colab-df-convert:hover {\n",
              "      background-color: #E2EBFA;\n",
              "      box-shadow: 0px 1px 2px rgba(60, 64, 67, 0.3), 0px 1px 3px 1px rgba(60, 64, 67, 0.15);\n",
              "      fill: #174EA6;\n",
              "    }\n",
              "\n",
              "    .colab-df-buttons div {\n",
              "      margin-bottom: 4px;\n",
              "    }\n",
              "\n",
              "    [theme=dark] .colab-df-convert {\n",
              "      background-color: #3B4455;\n",
              "      fill: #D2E3FC;\n",
              "    }\n",
              "\n",
              "    [theme=dark] .colab-df-convert:hover {\n",
              "      background-color: #434B5C;\n",
              "      box-shadow: 0px 1px 3px 1px rgba(0, 0, 0, 0.15);\n",
              "      filter: drop-shadow(0px 1px 2px rgba(0, 0, 0, 0.3));\n",
              "      fill: #FFFFFF;\n",
              "    }\n",
              "  </style>\n",
              "\n",
              "    <script>\n",
              "      const buttonEl =\n",
              "        document.querySelector('#df-fe380f8a-a984-4f05-8a7a-89020819323b button.colab-df-convert');\n",
              "      buttonEl.style.display =\n",
              "        google.colab.kernel.accessAllowed ? 'block' : 'none';\n",
              "\n",
              "      async function convertToInteractive(key) {\n",
              "        const element = document.querySelector('#df-fe380f8a-a984-4f05-8a7a-89020819323b');\n",
              "        const dataTable =\n",
              "          await google.colab.kernel.invokeFunction('convertToInteractive',\n",
              "                                                    [key], {});\n",
              "        if (!dataTable) return;\n",
              "\n",
              "        const docLinkHtml = 'Like what you see? Visit the ' +\n",
              "          '<a target=\"_blank\" href=https://colab.research.google.com/notebooks/data_table.ipynb>data table notebook</a>'\n",
              "          + ' to learn more about interactive tables.';\n",
              "        element.innerHTML = '';\n",
              "        dataTable['output_type'] = 'display_data';\n",
              "        await google.colab.output.renderOutput(dataTable, element);\n",
              "        const docLink = document.createElement('div');\n",
              "        docLink.innerHTML = docLinkHtml;\n",
              "        element.appendChild(docLink);\n",
              "      }\n",
              "    </script>\n",
              "  </div>\n",
              "\n",
              "\n",
              "<div id=\"df-576378cd-5f53-4fb1-a66b-0a321beb9f0b\">\n",
              "  <button class=\"colab-df-quickchart\" onclick=\"quickchart('df-576378cd-5f53-4fb1-a66b-0a321beb9f0b')\"\n",
              "            title=\"Suggest charts\"\n",
              "            style=\"display:none;\">\n",
              "\n",
              "<svg xmlns=\"http://www.w3.org/2000/svg\" height=\"24px\"viewBox=\"0 0 24 24\"\n",
              "     width=\"24px\">\n",
              "    <g>\n",
              "        <path d=\"M19 3H5c-1.1 0-2 .9-2 2v14c0 1.1.9 2 2 2h14c1.1 0 2-.9 2-2V5c0-1.1-.9-2-2-2zM9 17H7v-7h2v7zm4 0h-2V7h2v10zm4 0h-2v-4h2v4z\"/>\n",
              "    </g>\n",
              "</svg>\n",
              "  </button>\n",
              "\n",
              "<style>\n",
              "  .colab-df-quickchart {\n",
              "      --bg-color: #E8F0FE;\n",
              "      --fill-color: #1967D2;\n",
              "      --hover-bg-color: #E2EBFA;\n",
              "      --hover-fill-color: #174EA6;\n",
              "      --disabled-fill-color: #AAA;\n",
              "      --disabled-bg-color: #DDD;\n",
              "  }\n",
              "\n",
              "  [theme=dark] .colab-df-quickchart {\n",
              "      --bg-color: #3B4455;\n",
              "      --fill-color: #D2E3FC;\n",
              "      --hover-bg-color: #434B5C;\n",
              "      --hover-fill-color: #FFFFFF;\n",
              "      --disabled-bg-color: #3B4455;\n",
              "      --disabled-fill-color: #666;\n",
              "  }\n",
              "\n",
              "  .colab-df-quickchart {\n",
              "    background-color: var(--bg-color);\n",
              "    border: none;\n",
              "    border-radius: 50%;\n",
              "    cursor: pointer;\n",
              "    display: none;\n",
              "    fill: var(--fill-color);\n",
              "    height: 32px;\n",
              "    padding: 0;\n",
              "    width: 32px;\n",
              "  }\n",
              "\n",
              "  .colab-df-quickchart:hover {\n",
              "    background-color: var(--hover-bg-color);\n",
              "    box-shadow: 0 1px 2px rgba(60, 64, 67, 0.3), 0 1px 3px 1px rgba(60, 64, 67, 0.15);\n",
              "    fill: var(--button-hover-fill-color);\n",
              "  }\n",
              "\n",
              "  .colab-df-quickchart-complete:disabled,\n",
              "  .colab-df-quickchart-complete:disabled:hover {\n",
              "    background-color: var(--disabled-bg-color);\n",
              "    fill: var(--disabled-fill-color);\n",
              "    box-shadow: none;\n",
              "  }\n",
              "\n",
              "  .colab-df-spinner {\n",
              "    border: 2px solid var(--fill-color);\n",
              "    border-color: transparent;\n",
              "    border-bottom-color: var(--fill-color);\n",
              "    animation:\n",
              "      spin 1s steps(1) infinite;\n",
              "  }\n",
              "\n",
              "  @keyframes spin {\n",
              "    0% {\n",
              "      border-color: transparent;\n",
              "      border-bottom-color: var(--fill-color);\n",
              "      border-left-color: var(--fill-color);\n",
              "    }\n",
              "    20% {\n",
              "      border-color: transparent;\n",
              "      border-left-color: var(--fill-color);\n",
              "      border-top-color: var(--fill-color);\n",
              "    }\n",
              "    30% {\n",
              "      border-color: transparent;\n",
              "      border-left-color: var(--fill-color);\n",
              "      border-top-color: var(--fill-color);\n",
              "      border-right-color: var(--fill-color);\n",
              "    }\n",
              "    40% {\n",
              "      border-color: transparent;\n",
              "      border-right-color: var(--fill-color);\n",
              "      border-top-color: var(--fill-color);\n",
              "    }\n",
              "    60% {\n",
              "      border-color: transparent;\n",
              "      border-right-color: var(--fill-color);\n",
              "    }\n",
              "    80% {\n",
              "      border-color: transparent;\n",
              "      border-right-color: var(--fill-color);\n",
              "      border-bottom-color: var(--fill-color);\n",
              "    }\n",
              "    90% {\n",
              "      border-color: transparent;\n",
              "      border-bottom-color: var(--fill-color);\n",
              "    }\n",
              "  }\n",
              "</style>\n",
              "\n",
              "  <script>\n",
              "    async function quickchart(key) {\n",
              "      const quickchartButtonEl =\n",
              "        document.querySelector('#' + key + ' button');\n",
              "      quickchartButtonEl.disabled = true;  // To prevent multiple clicks.\n",
              "      quickchartButtonEl.classList.add('colab-df-spinner');\n",
              "      try {\n",
              "        const charts = await google.colab.kernel.invokeFunction(\n",
              "            'suggestCharts', [key], {});\n",
              "      } catch (error) {\n",
              "        console.error('Error during call to suggestCharts:', error);\n",
              "      }\n",
              "      quickchartButtonEl.classList.remove('colab-df-spinner');\n",
              "      quickchartButtonEl.classList.add('colab-df-quickchart-complete');\n",
              "    }\n",
              "    (() => {\n",
              "      let quickchartButtonEl =\n",
              "        document.querySelector('#df-576378cd-5f53-4fb1-a66b-0a321beb9f0b button');\n",
              "      quickchartButtonEl.style.display =\n",
              "        google.colab.kernel.accessAllowed ? 'block' : 'none';\n",
              "    })();\n",
              "  </script>\n",
              "</div>\n",
              "\n",
              "    </div>\n",
              "  </div>\n"
            ],
            "application/vnd.google.colaboratory.intrinsic+json": {
              "type": "dataframe",
              "summary": "{\n  \"name\": \"missing_df[:]\",\n  \"rows\": 14,\n  \"fields\": [\n    {\n      \"column\": \"%\",\n      \"properties\": {\n        \"dtype\": \"number\",\n        \"std\": 32,\n        \"min\": 0,\n        \"max\": 100,\n        \"num_unique_values\": 9,\n        \"samples\": [\n          29,\n          28,\n          88\n        ],\n        \"semantic_type\": \"\",\n        \"description\": \"\"\n      }\n    }\n  ]\n}"
            }
          },
          "metadata": {},
          "execution_count": 13
        }
      ],
      "source": [
        "total_rows= df.count() # the total numbers of enteries in the dataset\n",
        "missing_perct= df.select([((count(when(col(c).isNull(), c)) / total_rows * 100)).alias(c) for c in df.columns])\n",
        "missing_df= missing_perct.toPandas().astype('int').T\n",
        "missing_df.columns = ['%']\n",
        "missing_df[:]"
      ]
    },
    {
      "cell_type": "markdown",
      "metadata": {
        "id": "zG-5_Spwtnqy"
      },
      "source": [
        "Visualizing the plot of missing values per column:"
      ]
    },
    {
      "cell_type": "code",
      "execution_count": 14,
      "metadata": {
        "colab": {
          "base_uri": "https://localhost:8080/",
          "height": 609
        },
        "id": "GSIzes3qEkEA",
        "outputId": "6753977e-d344-4982-fe1c-69f92d3ddd26"
      },
      "outputs": [
        {
          "output_type": "display_data",
          "data": {
            "text/plain": [
              "<Figure size 640x480 with 1 Axes>"
            ],
            "image/png": "[encoded data removed]"
          },
          "metadata": {}
        }
      ],
      "source": [
        "sns.barplot(data= missing_df, x= missing_df.index, y= '%')\n",
        "sns.despine(offset=10, trim=True)\n",
        "plt.xticks(rotation= 90)\n",
        "plt.ylabel('Percent missing')\n",
        "plt.xlabel('Column')\n",
        "plt.title('Missing Value Plot')\n",
        "plt.show()"
      ]
    },
    {
      "cell_type": "markdown",
      "metadata": {
        "id": "F-BlpIu2CmaR"
      },
      "source": [
        "The analysis of the dataset reveals that the `body_type` and `color_slug` columns have a significant proportion of missing values—88% and 100%, respectively. I will drop columns with 30% or more missing values. Additionally, the `date_created` column is not useful for modeling. Consequently, the `body_type`, `color_slug`, `seat_count`, and `date_created` columns will be removed from the dataframe.\n"
      ]
    },
    {
      "cell_type": "code",
      "execution_count": 15,
      "metadata": {
        "id": "LVEah6QCEdV9"
      },
      "outputs": [],
      "source": [
        "# dropping the columns from the dataframe\n",
        "\n",
        "df= df.drop('body_type')\\\n",
        ".drop('color_slug')\\\n",
        ".drop('date_created')\\\n",
        ".drop('seat_count')"
      ]
    },
    {
      "cell_type": "markdown",
      "metadata": {
        "id": "ezRfFXeexqK6"
      },
      "source": [
        "### Handling missing values in categorical columns."
      ]
    },
    {
      "cell_type": "markdown",
      "metadata": {
        "id": "WyUn4UK3z3AP"
      },
      "source": [
        "**Model**"
      ]
    },
    {
      "cell_type": "code",
      "execution_count": 16,
      "metadata": {
        "colab": {
          "base_uri": "https://localhost:8080/"
        },
        "id": "e3KUr9Zl0DuA",
        "outputId": "c70448d2-91d6-4074-a461-2c41e817757f"
      },
      "outputs": [
        {
          "output_type": "stream",
          "name": "stdout",
          "text": [
            "There are 183572 null values in the model colum\n"
          ]
        }
      ],
      "source": [
        "missing_model_count= df.filter(col('model').isNull()).count()\n",
        "print(f'There are {missing_model_count} null values in the model colum')"
      ]
    },
    {
      "cell_type": "markdown",
      "metadata": {
        "id": "L1kHSy5S2NPG"
      },
      "source": [
        "\n",
        "I will create a new column in the DataFrame to indicate whether the `model` column contains null values.\n"
      ]
    },
    {
      "cell_type": "code",
      "execution_count": 17,
      "metadata": {
        "id": "k8NgkIG30klT"
      },
      "outputs": [],
      "source": [
        "df= df.withColumn('known_model', when(df.model.isNotNull(), 1).otherwise(0))"
      ]
    },
    {
      "cell_type": "markdown",
      "metadata": {
        "id": "OyEXrzN69CVU"
      },
      "source": [
        "**Transmission**"
      ]
    },
    {
      "cell_type": "code",
      "execution_count": 18,
      "metadata": {
        "colab": {
          "base_uri": "https://localhost:8080/"
        },
        "id": "tSn3UCtH9lgt",
        "outputId": "211a6f97-77ea-48cf-fdc5-09ae79f94214"
      },
      "outputs": [
        {
          "output_type": "stream",
          "name": "stdout",
          "text": [
            "+------------+---------+----------+\n",
            "|transmission|frequency|null_count|\n",
            "+------------+---------+----------+\n",
            "|         man|   360588|         0|\n",
            "|        auto|   180853|         0|\n",
            "|        NULL|        0|     97121|\n",
            "+------------+---------+----------+\n",
            "\n"
          ]
        }
      ],
      "source": [
        "# finding the number of missing values in the transmission column\n",
        "\n",
        "transmission_count= df.groupBy('transmission').agg(\n",
        "    count('transmission').alias('frequency'),\n",
        "    count(when(col('transmission').isNull(), 1)).alias('null_count'))\n",
        "\n",
        "transmission_count.show()"
      ]
    },
    {
      "cell_type": "markdown",
      "metadata": {
        "id": "-HYU8E7oqYs3"
      },
      "source": [
        "\n",
        "\n",
        "I will add a new column to the DataFrame to indicate the presence of unknown transmission types.\n"
      ]
    },
    {
      "cell_type": "code",
      "execution_count": 19,
      "metadata": {
        "id": "NQDThoTPqQ6F"
      },
      "outputs": [],
      "source": [
        "df= df.withColumn(\n",
        "    'new_transmission',\n",
        "    when(df.transmission == 'man', 'manual')\n",
        "    .when(df.transmission == 'auto', 'automatic')\n",
        "    .otherwise('unknown')\n",
        ")"
      ]
    },
    {
      "cell_type": "markdown",
      "metadata": {
        "id": "F2678LBgE4au"
      },
      "source": [
        "**Fuel Type**"
      ]
    },
    {
      "cell_type": "code",
      "execution_count": 20,
      "metadata": {
        "colab": {
          "base_uri": "https://localhost:8080/"
        },
        "id": "mfkHJFv2E3sI",
        "outputId": "f46f2107-c2ac-42ac-d6f5-11b11b6113d4"
      },
      "outputs": [
        {
          "output_type": "stream",
          "name": "stdout",
          "text": [
            "+---------+---------+----------+\n",
            "|fuel_type|frequency|null_count|\n",
            "+---------+---------+----------+\n",
            "| gasoline|   340676|         0|\n",
            "|   diesel|   297886|         0|\n",
            "+---------+---------+----------+\n",
            "\n"
          ]
        }
      ],
      "source": [
        "# Group by fuel_type\n",
        "\n",
        "fuel_type_count= df.groupBy('fuel_type').agg(\n",
        "    count('fuel_type').alias('frequency'),\n",
        "    count(when(col('fuel_type').isNull(), 1)).alias('null_count')\n",
        ")\n",
        "\n",
        "fuel_type_count.show()"
      ]
    },
    {
      "cell_type": "markdown",
      "metadata": {
        "id": "--AAV3AZrBii"
      },
      "source": [
        "I will utilize Spark's StringIndexer to transform the `new_transmission` and `fuel_type` columns into indexed values."
      ]
    },
    {
      "cell_type": "code",
      "execution_count": 21,
      "metadata": {
        "id": "ZfOQSPhbQ420"
      },
      "outputs": [],
      "source": [
        "from pyspark.ml.feature import Imputer\n",
        "from pyspark.ml.feature import StandardScaler\n",
        "from pyspark.ml.feature import StringIndexer\n",
        "from pyspark.ml.feature import VectorAssembler"
      ]
    },
    {
      "cell_type": "code",
      "execution_count": 22,
      "metadata": {
        "id": "V0vajr2FpS1R"
      },
      "outputs": [],
      "source": [
        "categorical_cols= ['new_transmission', 'fuel_type']\n",
        "\n",
        "indexer= StringIndexer(\n",
        "    inputCols= categorical_cols,\n",
        "    outputCols= [c + '_index' for c in categorical_cols]\n",
        ")\n",
        "\n",
        "df= indexer.fit(df).transform(df)"
      ]
    },
    {
      "cell_type": "code",
      "execution_count": 23,
      "metadata": {
        "colab": {
          "base_uri": "https://localhost:8080/"
        },
        "id": "alel_BpyxfDP",
        "outputId": "08467a22-4d83-4556-9b5e-265a640a5d9c"
      },
      "outputs": [
        {
          "output_type": "stream",
          "name": "stdout",
          "text": [
            "+----+-----+-------+----------------+-------------------+------------+------------+----------+---------+---------+-----------+----------------+----------------------+---------------+\n",
            "|make|model|mileage|manufacture_year|engine_displacement|engine_power|transmission|door_count|fuel_type|price_NGN|known_model|new_transmission|new_transmission_index|fuel_type_index|\n",
            "+----+-----+-------+----------------+-------------------+------------+------------+----------+---------+---------+-----------+----------------+----------------------+---------------+\n",
            "|audi| NULL| 330000|            1995|               2600|         110|        auto|      NULL| gasoline|   873428|          0|       automatic|                   1.0|            0.0|\n",
            "|audi|  200|   NULL|            1995|               NULL|        NULL|        NULL|      NULL| gasoline|    66616|          1|         unknown|                   2.0|            0.0|\n",
            "|audi| NULL|   NULL|            1995|              11199|        NULL|        NULL|      NULL| gasoline|    66616|          0|         unknown|                   2.0|            0.0|\n",
            "|audi| NULL|   NULL|            1995|               NULL|        NULL|        NULL|      NULL| gasoline|    66604|          0|         unknown|                   2.0|            0.0|\n",
            "|audi|   a6| 347000|            1995|               NULL|          85|        auto|      NULL| gasoline|   843820|          1|       automatic|                   1.0|            0.0|\n",
            "+----+-----+-------+----------------+-------------------+------------+------------+----------+---------+---------+-----------+----------------+----------------------+---------------+\n",
            "only showing top 5 rows\n",
            "\n"
          ]
        }
      ],
      "source": [
        "# Inspecting the dataframe\n",
        "\n",
        "df.show(5)"
      ]
    },
    {
      "cell_type": "markdown",
      "metadata": {
        "id": "2X-bEIhC0vE6"
      },
      "source": [
        "### Handling missing values in numerical columns."
      ]
    },
    {
      "cell_type": "code",
      "execution_count": 24,
      "metadata": {
        "colab": {
          "base_uri": "https://localhost:8080/"
        },
        "id": "a-Ch8_jvsXbf",
        "outputId": "ab9169b8-83e3-4891-c6a3-33f29eb08501"
      },
      "outputs": [
        {
          "output_type": "stream",
          "name": "stdout",
          "text": [
            "+-------------+\n",
            "|         make|\n",
            "+-------------+\n",
            "|       jaguar|\n",
            "|       hummer|\n",
            "|   mitsubishi|\n",
            "|        lexus|\n",
            "|       toyota|\n",
            "|         seat|\n",
            "|     chrysler|\n",
            "|      citroen|\n",
            "|  lamborghini|\n",
            "|        tesla|\n",
            "|        lotus|\n",
            "|         audi|\n",
            "|          bmw|\n",
            "|         jeep|\n",
            "|       lancia|\n",
            "|        dodge|\n",
            "|      bentley|\n",
            "|        skoda|\n",
            "|        rover|\n",
            "|      hyundai|\n",
            "|         ford|\n",
            "|        mazda|\n",
            "|          kia|\n",
            "|mercedes-benz|\n",
            "|        isuzu|\n",
            "|      porsche|\n",
            "|    chevrolet|\n",
            "|         opel|\n",
            "|        honda|\n",
            "|         mini|\n",
            "|         fiat|\n",
            "|       suzuki|\n",
            "|        smart|\n",
            "|       nissan|\n",
            "|       subaru|\n",
            "|        volvo|\n",
            "|     maserati|\n",
            "+-------------+\n",
            "\n"
          ]
        }
      ],
      "source": [
        "# Inspecting the unique car brands in the dataframe\n",
        "\n",
        "df.select('make').distinct().show(50)"
      ]
    },
    {
      "cell_type": "code",
      "execution_count": 25,
      "metadata": {
        "colab": {
          "base_uri": "https://localhost:8080/"
        },
        "id": "ySIr70KiXBEu",
        "outputId": "1dd40562-61fb-4f81-e570-10e882d43ae7"
      },
      "outputs": [
        {
          "output_type": "stream",
          "name": "stdout",
          "text": [
            "+----+-------+----------------+-------------------+------------+----------+-----------+----------------------+---------------+------+\n",
            "|make|mileage|manufacture_year|engine_displacement|engine_power|door_count|known_model|new_transmission_index|fuel_type_index| price|\n",
            "+----+-------+----------------+-------------------+------------+----------+-----------+----------------------+---------------+------+\n",
            "|audi| 330000|            1995|               2600|         110|      NULL|          0|                   1.0|            0.0|873428|\n",
            "|audi|   NULL|            1995|               NULL|        NULL|      NULL|          1|                   2.0|            0.0| 66616|\n",
            "|audi|   NULL|            1995|              11199|        NULL|      NULL|          0|                   2.0|            0.0| 66616|\n",
            "|audi|   NULL|            1995|               NULL|        NULL|      NULL|          0|                   2.0|            0.0| 66604|\n",
            "|audi| 347000|            1995|               NULL|          85|      NULL|          1|                   1.0|            0.0|843820|\n",
            "|audi| 325000|            1995|               NULL|        NULL|      NULL|          1|                   2.0|            0.0|222056|\n",
            "|audi|   NULL|            1995|               NULL|        NULL|      NULL|          1|                   2.0|            0.0|266468|\n",
            "|audi|   NULL|            1995|               NULL|          85|      NULL|          1|                   2.0|            0.0|518136|\n",
            "|audi|   NULL|            1995|               NULL|        NULL|      NULL|          1|                   2.0|            0.0|251664|\n",
            "|audi|   NULL|            1995|               NULL|         103|      NULL|          1|                   2.0|            0.0|296076|\n",
            "|audi|   NULL|            1995|              12500|        NULL|      NULL|          1|                   2.0|            0.0|185048|\n",
            "|audi|   NULL|            1995|               2500|         103|      NULL|          1|                   2.0|            0.0|296076|\n",
            "|audi| 351000|            1995|               NULL|        NULL|      NULL|          1|                   2.0|            0.0|814212|\n",
            "|audi|   NULL|            1995|               NULL|        NULL|      NULL|          1|                   2.0|            0.0|370096|\n",
            "|audi|   NULL|            1995|               NULL|        NULL|      NULL|          1|                   2.0|            0.0|177648|\n",
            "|audi|   NULL|            1995|               1800|        NULL|      NULL|          1|                   2.0|            0.0|    16|\n",
            "|audi|   NULL|            1995|               8200|        NULL|      NULL|          1|                   2.0|            0.0|310880|\n",
            "|audi|   NULL|            1995|               NULL|          74|      NULL|          1|                   2.0|            0.0|488528|\n",
            "|audi| 282547|            1995|               NULL|        NULL|      NULL|          1|                   2.0|            0.0|220104|\n",
            "|audi| 256307|            1995|               NULL|        NULL|      NULL|          1|                   2.0|            0.0|678296|\n",
            "+----+-------+----------------+-------------------+------------+----------+-----------+----------------------+---------------+------+\n",
            "only showing top 20 rows\n",
            "\n"
          ]
        }
      ],
      "source": [
        "df2= df.select(\n",
        "    'make', 'mileage', 'manufacture_year', 'engine_displacement', 'engine_power', 'door_count', 'known_model', 'new_transmission_index', 'fuel_type_index', (df.price_NGN).alias('price')\n",
        ")\n",
        "\n",
        "df2.show()"
      ]
    },
    {
      "cell_type": "code",
      "execution_count": 26,
      "metadata": {
        "id": "pzDS4p6dqxdT"
      },
      "outputs": [],
      "source": [
        "# Creating a list object that contains distinct car brands\n",
        "\n",
        "brands= df2.select('make').distinct().rdd.flatMap(lambda x: x).collect()"
      ]
    },
    {
      "cell_type": "code",
      "execution_count": 27,
      "metadata": {
        "id": "dGo7ZsrfZJ6y"
      },
      "outputs": [],
      "source": [
        "# Splitting the dataset into subsets containing distinct brands alone\n",
        "\n",
        "audi_df = df2.filter(col('make') == 'audi')\n",
        "bentley_df = df2.filter(col('make') == 'bentley')\n",
        "bmw_df = df2.filter(col('make') == 'bmw')\n",
        "chevrolet_df = df2.filter(col('make') == 'chevrolet')\n",
        "chrysler_df = df2.filter(col('make') == 'chrysler')\n",
        "citroen_df = df2.filter(col('make') == 'citroen')\n",
        "dodge_df = df2.filter(col('make') == 'dodge')\n",
        "fiat_df = df2.filter(col('make') == 'fiat')\n",
        "ford_df = df2.filter(col('make') == 'ford')\n",
        "honda_df = df2.filter(col('make') == 'honda')\n",
        "hummer_df = df2.filter(col('make') == 'hummer')\n",
        "hyundai_df = df2.filter(col('make') == 'hyundai')\n",
        "isuzu_df = df2.filter(col('make') == 'isuzu')\n",
        "jaguar_df = df2.filter(col('make') == 'jaguar')\n",
        "jeep_df = df2.filter(col('make') == 'jeep')\n",
        "kia_df = df2.filter(col('make') == 'kia')\n",
        "lamborghini_df = df2.filter(col('make') == 'lamborghini')\n",
        "lancia_df = df2.filter(col('make') == 'lancia')\n",
        "lexus_df = df2.filter(col('make') == 'lexus')\n",
        "lotus_df = df2.filter(col('make') == 'lotus')\n",
        "maserati_df = df2.filter(col('make') == 'maserati')\n",
        "mazda_df = df2.filter(col('make') == 'mazda')\n",
        "mercedes_df = df2.filter(col('make') == 'mercedes-benz')\n",
        "mini_df = df2.filter(col('make') == 'mini')\n",
        "mitsubishi_df = df2.filter(col('make') == 'mitsubishi')\n",
        "nissan_df = df2.filter(col('make') == 'nissan')\n",
        "opel_df = df2.filter(col('make') == 'opel')\n",
        "porsche_df = df2.filter(col('make') == 'porsche')\n",
        "rover_df = df2.filter(col('make') == 'rover')\n",
        "seat_df = df2.filter(col('make') == 'seat')\n",
        "skoda_df = df2.filter(col('make') == 'skoda')\n",
        "smart_df = df2.filter(col('make') == 'smart')\n",
        "subaru_df = df2.filter(col('make') == 'subaru')\n",
        "suzuki_df = df2.filter(col('make') == 'suzuki')\n",
        "tesla_df = df2.filter(col('make') == 'tesla')\n",
        "toyota_df = df2.filter(col('make') == 'toyota')\n",
        "volvo_df = df2.filter(col('make') == 'volvo')"
      ]
    },
    {
      "cell_type": "code",
      "execution_count": 28,
      "metadata": {
        "id": "QeCONVHXgQPt"
      },
      "outputs": [],
      "source": [
        "feature_columns= ['mileage', 'engine_displacement', 'engine_power', 'door_count']\n",
        "\n",
        "# Initiating the imputer\n",
        "\n",
        "imputer= Imputer(inputCols= feature_columns, outputCols= [c+'_index' for c in feature_columns])"
      ]
    },
    {
      "cell_type": "code",
      "execution_count": 29,
      "metadata": {
        "id": "4qF0O_Mcou3q"
      },
      "outputs": [],
      "source": [
        "# Imputting the missing values in each column with the median\n",
        "\n",
        "audi_df= imputer.setStrategy('median').fit(audi_df).transform(audi_df)\n",
        "bentley_df= imputer.setStrategy('median').fit(bentley_df).transform(bentley_df)\n",
        "bmw_df= imputer.setStrategy('median').fit(bmw_df).transform(bmw_df)\n",
        "chevrolet_df= imputer.setStrategy('median').fit(chevrolet_df).transform(chevrolet_df)\n",
        "chrysler_df= imputer.setStrategy('median').fit(chrysler_df).transform(chrysler_df)\n",
        "citroen_df= imputer.setStrategy('median').fit(citroen_df).transform(citroen_df)\n",
        "dodge_df= imputer.setStrategy('median').fit(dodge_df).transform(dodge_df)\n",
        "fiat_df= imputer.setStrategy('median').fit(fiat_df).transform(fiat_df)\n",
        "ford_df= imputer.setStrategy('median').fit(ford_df).transform(ford_df)\n",
        "honda_df= imputer.setStrategy('median').fit(honda_df).transform(honda_df)\n",
        "hummer_df= imputer.setStrategy('median').fit(hummer_df).transform(hummer_df)\n",
        "hyundai_df= imputer.setStrategy('median').fit(hyundai_df).transform(hyundai_df)\n",
        "isuzu_df= imputer.setStrategy('median').fit(isuzu_df).transform(isuzu_df)\n",
        "jaguar_df= imputer.setStrategy('median').fit(jaguar_df).transform(jaguar_df)\n",
        "jeep_df= imputer.setStrategy('median').fit(jeep_df).transform(jeep_df)\n",
        "kia_df= imputer.setStrategy('median').fit(kia_df).transform(kia_df)\n",
        "lamborghini_df= imputer.setStrategy('median').fit(lamborghini_df).transform(lamborghini_df)\n",
        "lancia_df= imputer.setStrategy('median').fit(lancia_df).transform(lancia_df)\n",
        "lexus_df= imputer.setStrategy('median').fit(lexus_df).transform(lexus_df)\n",
        "lotus_df= imputer.setStrategy('median').fit(lotus_df).transform(lotus_df)\n",
        "maserati_df= imputer.setStrategy('median').fit(maserati_df).transform(maserati_df)\n",
        "mazda_df= imputer.setStrategy('median').fit(mazda_df).transform(mazda_df)\n",
        "mercedes_df= imputer.setStrategy('median').fit(mercedes_df).transform(mercedes_df)\n",
        "mini_df= imputer.setStrategy('median').fit(mini_df).transform(mini_df)\n",
        "mitsubishi_df= imputer.setStrategy('median').fit(mitsubishi_df).transform(mitsubishi_df)\n",
        "nissan_df= imputer.setStrategy('median').fit(nissan_df).transform(nissan_df)\n",
        "opel_df= imputer.setStrategy('median').fit(opel_df).transform(opel_df)\n",
        "porsche_df= imputer.setStrategy('median').fit(porsche_df).transform(porsche_df)\n",
        "rover_df= imputer.setStrategy('median').fit(rover_df).transform(rover_df)\n",
        "seat_df= imputer.setStrategy('median').fit(seat_df).transform(seat_df)\n",
        "skoda_df= imputer.setStrategy('median').fit(skoda_df).transform(skoda_df)\n",
        "smart_df= imputer.setStrategy('median').fit(smart_df).transform(smart_df)\n",
        "subaru_df= imputer.setStrategy('median').fit(subaru_df).transform(subaru_df)\n",
        "suzuki_df= imputer.setStrategy('median').fit(suzuki_df).transform(suzuki_df)\n",
        "tesla_df= imputer.setStrategy('median').fit(tesla_df).transform(tesla_df)\n",
        "toyota_df= imputer.setStrategy('median').fit(toyota_df).transform(toyota_df)\n",
        "volvo_df= imputer.setStrategy('median').fit(volvo_df).transform(volvo_df)"
      ]
    },
    {
      "cell_type": "markdown",
      "metadata": {
        "id": "wzfBLdaHq0zF"
      },
      "source": [
        "## Handling Outliers in the dataset."
      ]
    },
    {
      "cell_type": "code",
      "execution_count": 30,
      "metadata": {
        "colab": {
          "base_uri": "https://localhost:8080/"
        },
        "id": "gt0ixwHXxvph",
        "outputId": "79b3c0ae-a24f-492e-b692-f0b48d580566"
      },
      "outputs": [
        {
          "output_type": "execute_result",
          "data": {
            "text/plain": [
              "['make',\n",
              " 'mileage',\n",
              " 'manufacture_year',\n",
              " 'engine_displacement',\n",
              " 'engine_power',\n",
              " 'door_count',\n",
              " 'known_model',\n",
              " 'new_transmission_index',\n",
              " 'fuel_type_index',\n",
              " 'price']"
            ]
          },
          "metadata": {},
          "execution_count": 30
        }
      ],
      "source": [
        "df2.columns"
      ]
    },
    {
      "cell_type": "code",
      "execution_count": 31,
      "metadata": {
        "colab": {
          "base_uri": "https://localhost:8080/"
        },
        "id": "FE7ZblNgv_UT",
        "outputId": "fe9a170b-5163-4d61-910b-498e4f1423f3"
      },
      "outputs": [
        {
          "output_type": "stream",
          "name": "stdout",
          "text": [
            "+-------+------------------+-------------------+------------------+------------------+--------------------+\n",
            "|summary|           mileage|engine_displacement|      engine_power|        door_count|               price|\n",
            "+-------+------------------+-------------------+------------------+------------------+--------------------+\n",
            "|  count|            603981|             489134|            537375|            451206|              638562|\n",
            "|   mean|115283.86027209465| 2100.2289311313466|105.05205117469178| 3.679583161571433|   6171796.440903154|\n",
            "| stddev| 365012.4206961075| 1931.0723759889524| 53.30300585077408|0.8441266801049992|1.7985859242684588E8|\n",
            "|    min|                 0|                 10|                 3|                 1|                  16|\n",
            "|    25%|             22000|               1461|                73|                 4|             1600592|\n",
            "|    50%|             82500|               1898|                94|                 4|             3980296|\n",
            "|    75%|            150000|               2143|               125|                 4|             7375928|\n",
            "|    max|           9999999|              32000|               999|                 6|         82310297260|\n",
            "+-------+------------------+-------------------+------------------+------------------+--------------------+\n",
            "\n"
          ]
        }
      ],
      "source": [
        "# Inspecting the columns with numerical values\n",
        "\n",
        "df2.select(\n",
        "    'mileage', 'engine_displacement', 'engine_power', 'door_count', 'price'\n",
        ").summary().show()"
      ]
    },
    {
      "cell_type": "markdown",
      "metadata": {
        "id": "RyUtKnm4tDhs"
      },
      "source": [
        "Key observations based on the information obtained:\n",
        "\n",
        "\n",
        "1.   The dataset exhibits a significant disparity between the minimum and maximum car prices.\n",
        "2.   The `mileage` column also displays a substantial range between its third quantile and maximum values, indicating the presence of potential outliers. Same with `engine_displacement`.\n",
        "3.   A maximum value of 999 HP for `engine_power` is also very high. While some cars might pack such power, one could assume that this is a data entry error.\n"
      ]
    },
    {
      "cell_type": "markdown",
      "metadata": {
        "id": "azIGHXWr_PpW"
      },
      "source": [
        "**Handling Outliers in the `price` column using the interquartile reange method.**"
      ]
    },
    {
      "cell_type": "code",
      "execution_count": 32,
      "metadata": {
        "colab": {
          "base_uri": "https://localhost:8080/"
        },
        "id": "KJygx4wU06_c",
        "outputId": "0ae53a3f-f5ae-4038-eaf5-55cf0b4608a6"
      },
      "outputs": [
        {
          "output_type": "stream",
          "name": "stdout",
          "text": [
            "The lower bound is -8498166.0 and the upper bound is 21229978.0\n"
          ]
        }
      ],
      "source": [
        "quantiles= audi_df.approxQuantile(\n",
        "    ['price'],\n",
        "    [0.25, 0.75],\n",
        "    0.05\n",
        ")\n",
        "q1= quantiles[0][0]\n",
        "q3= quantiles[0][1]\n",
        "iqr= q3-q1\n",
        "lower_bound= q1 - (1.5 * iqr)\n",
        "upper_bound= q3 + (1.5 * iqr)\n",
        "\n",
        "print(f'The lower bound is {lower_bound} and the upper bound is {upper_bound}')"
      ]
    },
    {
      "cell_type": "markdown",
      "metadata": {
        "id": "NdR7JVAG_Xfg"
      },
      "source": [
        "The lower bound is a negative number so this method would not be used to handle the outliers."
      ]
    },
    {
      "cell_type": "code",
      "execution_count": 33,
      "metadata": {
        "id": "xucSVAAjvZn4"
      },
      "outputs": [],
      "source": [
        "# creating a list of the names of all the brand dataframes\n",
        "\n",
        "brands_list= [brand+'_df' for brand in sorted(brands)]\n",
        "\n",
        "# renaming the mercedes-benz dataframe to it's correct nomenclature\n",
        "\n",
        "brands_list[brands_list.index('mercedes-benz_df')] = 'mercedes_df'"
      ]
    },
    {
      "cell_type": "markdown",
      "metadata": {
        "id": "CD0ulAZpzwMc"
      },
      "source": [
        "To handle outliers in the dataset, I will apply winsorization. This technique involves capping the extreme values in the data to reduce the effect of possibly outliers. By limiting the range of the data, winsorization helps to ensure that the analysis is not influenced by extreme values, leading to more reliable results."
      ]
    },
    {
      "cell_type": "code",
      "execution_count": 34,
      "metadata": {
        "id": "CY0Xn75e-1qp"
      },
      "outputs": [],
      "source": [
        "# Creating a function to find the 10th and 90th approximate percentile values for the price in each dataframe\n",
        "\n",
        "def find_percentiles(df):\n",
        "    quantiles= df.approxQuantile(\n",
        "        ['price'],\n",
        "        [0.1, 0.9],\n",
        "        0.05\n",
        "    )\n",
        "    percentile_list= []\n",
        "    for i in quantiles:\n",
        "        for j in i:\n",
        "            percentile_list.append(j)\n",
        "    return percentile_list\n",
        "\n",
        "# Creating a function to find the 20th and 80th approximate percentile values for the mileage in each dataframe\n",
        "\n",
        "\n",
        "def cap_mileage(df):\n",
        "    quantiles= df.approxQuantile(\n",
        "        ['mileage'],\n",
        "        [0.2, 0.8],\n",
        "        0.05\n",
        "    )\n",
        "    mileage_cap= []\n",
        "    for i in quantiles:\n",
        "        for j in i:\n",
        "            mileage_cap.append(j)\n",
        "    return mileage_cap\n",
        "\n",
        "# # Creating a function to limit the values in engine_displacement between 1000cc and 5000cc in each dataframe\n",
        "\n",
        "def filter_displacement(df):\n",
        "    displacement_cap= [1000, 5000]\n",
        "    return displacement_cap\n",
        "\n",
        "# # Creating a function to limit the values in engine_power between 50HP and 650HP in each dataframe\n",
        "\n",
        "def filter_hp(df):\n",
        "    power_cap= [50, 650]\n",
        "    return power_cap"
      ]
    },
    {
      "cell_type": "code",
      "execution_count": 35,
      "metadata": {
        "id": "6BJue_gR5tRj"
      },
      "outputs": [],
      "source": [
        "# Creating a dictionary list where each key-value item consists of a dataframe name and list of values for each column\n",
        "\n",
        "sub_percentiles= {i: find_percentiles(globals()[i]) for i in brands_list}\n",
        "\n",
        "sub_mileage= {i: cap_mileage(globals()[i]) for i in brands_list}\n",
        "\n",
        "sub_disp= {i: filter_displacement(globals()[i]) for i in brands_list}\n",
        "\n",
        "sub_power= {i: filter_hp(globals()[i]) for i in brands_list}"
      ]
    },
    {
      "cell_type": "code",
      "execution_count": 36,
      "metadata": {
        "id": "wb3WCzZLmk9z"
      },
      "outputs": [],
      "source": [
        "# Creating for loops that winsorize the values in the corresponding columns\n",
        "\n",
        "# Price\n",
        "\n",
        "for df_name in brands_list:\n",
        "    if df_name in globals():\n",
        "        df = globals()[df_name]\n",
        "        df = df.withColumn('quote',\n",
        "                          when(df.price < sub_percentiles[df_name][0], sub_percentiles[df_name][0])\n",
        "                          .when(df.price > sub_percentiles[df_name][1], sub_percentiles[df_name][1])\n",
        "                          .otherwise(df.price))\n",
        "        globals()[df_name] = df\n",
        "\n",
        "# Mileage\n",
        "\n",
        "for df_name in brands_list:\n",
        "    if df_name in globals():\n",
        "        df = globals()[df_name]\n",
        "        df = df.withColumn('miles',\n",
        "                          when(df.mileage_index < sub_mileage[df_name][0], sub_mileage[df_name][0])\n",
        "                          .when(df.mileage_index > sub_mileage[df_name][1], sub_mileage[df_name][1])\n",
        "                          .otherwise(df.mileage_index))\n",
        "        globals()[df_name] = df\n",
        "\n",
        "# Engine displacement\n",
        "\n",
        "for df_name in brands_list:\n",
        "    if df_name in globals():\n",
        "        df = globals()[df_name]\n",
        "        df = df.withColumn('displacement',\n",
        "                          when(df.engine_displacement_index < sub_disp[df_name][0], sub_disp[df_name][0])\n",
        "                          .when(df.engine_displacement_index > sub_disp[df_name][1], sub_disp[df_name][1])\n",
        "                          .otherwise(df.engine_displacement_index))\n",
        "        globals()[df_name] = df\n",
        "\n",
        "# Engine power\n",
        "\n",
        "for df_name in brands_list:\n",
        "    if df_name in globals():\n",
        "        df = globals()[df_name]\n",
        "        df = df.withColumn('power',\n",
        "                          when(df.engine_power_index < sub_power[df_name][0], sub_power[df_name][0])\n",
        "                          .when(df.engine_power_index > sub_power[df_name][1], sub_power[df_name][1])\n",
        "                          .otherwise(df.engine_power_index))\n",
        "        globals()[df_name] = df"
      ]
    },
    {
      "cell_type": "markdown",
      "metadata": {
        "id": "CO-T9IBmrTET"
      },
      "source": [
        "## Merging the dataframes"
      ]
    },
    {
      "cell_type": "code",
      "execution_count": 37,
      "metadata": {
        "id": "Yr_gnt0JwaQf"
      },
      "outputs": [],
      "source": [
        "from functools import reduce\n",
        "\n",
        "df_list = [globals()[brand] for brand in brands_list]\n",
        "\n",
        "merged_df = reduce(lambda audi_df, bentley_df: audi_df.unionAll(bentley_df), df_list) # Perform the union operation"
      ]
    },
    {
      "cell_type": "code",
      "source": [
        "merged_df.show()"
      ],
      "metadata": {
        "colab": {
          "base_uri": "https://localhost:8080/"
        },
        "id": "ot2gelFcorus",
        "outputId": "a2be414f-cfb9-4e67-9f94-f83db13a4f3c"
      },
      "execution_count": 38,
      "outputs": [
        {
          "output_type": "stream",
          "name": "stdout",
          "text": [
            "+----+-------+----------------+-------------------+------------+----------+-----------+----------------------+---------------+------+-------------+-------------------------+------------------+----------------+--------+--------+------------+-----+\n",
            "|make|mileage|manufacture_year|engine_displacement|engine_power|door_count|known_model|new_transmission_index|fuel_type_index| price|mileage_index|engine_displacement_index|engine_power_index|door_count_index|   quote|   miles|displacement|power|\n",
            "+----+-------+----------------+-------------------+------------+----------+-----------+----------------------+---------------+------+-------------+-------------------------+------------------+----------------+--------+--------+------------+-----+\n",
            "|audi| 330000|            1995|               2600|         110|      NULL|          0|                   1.0|            0.0|873428|       330000|                     2600|               110|               4|873428.0|179000.0|        2600|  110|\n",
            "|audi|   NULL|            1995|               NULL|        NULL|      NULL|          1|                   2.0|            0.0| 66616|        85000|                     1968|               120|               4|759912.0| 85000.0|        1968|  120|\n",
            "|audi|   NULL|            1995|              11199|        NULL|      NULL|          0|                   2.0|            0.0| 66616|        85000|                    11199|               120|               4|759912.0| 85000.0|        5000|  120|\n",
            "|audi|   NULL|            1995|               NULL|        NULL|      NULL|          0|                   2.0|            0.0| 66604|        85000|                     1968|               120|               4|759912.0| 85000.0|        1968|  120|\n",
            "|audi| 347000|            1995|               NULL|          85|      NULL|          1|                   1.0|            0.0|843820|       347000|                     1968|                85|               4|843820.0|179000.0|        1968|   85|\n",
            "|audi| 325000|            1995|               NULL|        NULL|      NULL|          1|                   2.0|            0.0|222056|       325000|                     1968|               120|               4|759912.0|179000.0|        1968|  120|\n",
            "|audi|   NULL|            1995|               NULL|        NULL|      NULL|          1|                   2.0|            0.0|266468|        85000|                     1968|               120|               4|759912.0| 85000.0|        1968|  120|\n",
            "|audi|   NULL|            1995|               NULL|          85|      NULL|          1|                   2.0|            0.0|518136|        85000|                     1968|                85|               4|759912.0| 85000.0|        1968|   85|\n",
            "|audi|   NULL|            1995|               NULL|        NULL|      NULL|          1|                   2.0|            0.0|251664|        85000|                     1968|               120|               4|759912.0| 85000.0|        1968|  120|\n",
            "|audi|   NULL|            1995|               NULL|         103|      NULL|          1|                   2.0|            0.0|296076|        85000|                     1968|               103|               4|759912.0| 85000.0|        1968|  103|\n",
            "|audi|   NULL|            1995|              12500|        NULL|      NULL|          1|                   2.0|            0.0|185048|        85000|                    12500|               120|               4|759912.0| 85000.0|        5000|  120|\n",
            "|audi|   NULL|            1995|               2500|         103|      NULL|          1|                   2.0|            0.0|296076|        85000|                     2500|               103|               4|759912.0| 85000.0|        2500|  103|\n",
            "|audi| 351000|            1995|               NULL|        NULL|      NULL|          1|                   2.0|            0.0|814212|       351000|                     1968|               120|               4|814212.0|179000.0|        1968|  120|\n",
            "|audi|   NULL|            1995|               NULL|        NULL|      NULL|          1|                   2.0|            0.0|370096|        85000|                     1968|               120|               4|759912.0| 85000.0|        1968|  120|\n",
            "|audi|   NULL|            1995|               NULL|        NULL|      NULL|          1|                   2.0|            0.0|177648|        85000|                     1968|               120|               4|759912.0| 85000.0|        1968|  120|\n",
            "|audi|   NULL|            1995|               1800|        NULL|      NULL|          1|                   2.0|            0.0|    16|        85000|                     1800|               120|               4|759912.0| 85000.0|        1800|  120|\n",
            "|audi|   NULL|            1995|               8200|        NULL|      NULL|          1|                   2.0|            0.0|310880|        85000|                     8200|               120|               4|759912.0| 85000.0|        5000|  120|\n",
            "|audi|   NULL|            1995|               NULL|          74|      NULL|          1|                   2.0|            0.0|488528|        85000|                     1968|                74|               4|759912.0| 85000.0|        1968|   74|\n",
            "|audi| 282547|            1995|               NULL|        NULL|      NULL|          1|                   2.0|            0.0|220104|       282547|                     1968|               120|               4|759912.0|179000.0|        1968|  120|\n",
            "|audi| 256307|            1995|               NULL|        NULL|      NULL|          1|                   2.0|            0.0|678296|       256307|                     1968|               120|               4|759912.0|179000.0|        1968|  120|\n",
            "+----+-------+----------------+-------------------+------------+----------+-----------+----------------------+---------------+------+-------------+-------------------------+------------------+----------------+--------+--------+------------+-----+\n",
            "only showing top 20 rows\n",
            "\n"
          ]
        }
      ]
    },
    {
      "cell_type": "code",
      "execution_count": 39,
      "metadata": {
        "id": "Y5zZk3B2JdzD"
      },
      "outputs": [],
      "source": [
        "# converting the column types for uniformity\n",
        "\n",
        "merged_df= merged_df.withColumn('quote', merged_df['quote'].cast('long'))\n",
        "merged_df= merged_df.withColumn('miles', merged_df['miles'].cast('int'))"
      ]
    },
    {
      "cell_type": "code",
      "execution_count": 40,
      "metadata": {
        "id": "heLg7MWI6Ran"
      },
      "outputs": [],
      "source": [
        "# duplicating the price colum to a pandas list object\n",
        "\n",
        "price_pdf= merged_df.select('price').toPandas().astype('int64')\n",
        "quote_pdf= merged_df.select('quote').toPandas().astype('int64')"
      ]
    },
    {
      "cell_type": "code",
      "execution_count": 41,
      "metadata": {
        "colab": {
          "base_uri": "https://localhost:8080/",
          "height": 728
        },
        "id": "fBjim1WR70zN",
        "outputId": "f92a7ce8-7005-421f-d71d-6513fd9c7915"
      },
      "outputs": [
        {
          "output_type": "display_data",
          "data": {
            "text/plain": [
              "<Figure size 800x800 with 2 Axes>"
            ],
            "image/png": "[encoded data removed]"
          },
          "metadata": {}
        }
      ],
      "source": [
        "# Visualizing the distribution of the prices before and after winsorization\n",
        "\n",
        "fig, (ax1, ax2)= plt.subplots(ncols= 2, figsize= (8, 8))\n",
        "\n",
        "sns.kdeplot(x= price_pdf['price'], fill= True, ax= ax1)\n",
        "\n",
        "sns.kdeplot(x= quote_pdf['quote'], fill= True, ax= ax2)\n",
        "\n",
        "sns.despine(offset=10, trim=True)\n",
        "plt.title('Price distribution')\n",
        "plt.xlabel('Price')\n",
        "plt.ylabel('Density')\n",
        "plt.show()"
      ]
    },
    {
      "cell_type": "markdown",
      "metadata": {
        "id": "u_lsvzZg8_uD"
      },
      "source": [
        "Based on the plot, we can infer the following:\n",
        "\n",
        "1.   Skewness: The distribution is heavily skewed to the right, meaning there are a few very high-priced items that significantly pull the mean to the right.\n",
        "2.   Multimodality: There are be multiple peaks (modes) in the distribution, showing that there are distinct groups of items with different price ranges. This is due to different car makes.\n",
        "\n"
      ]
    },
    {
      "cell_type": "markdown",
      "metadata": {
        "id": "bLRG85k5-jhU"
      },
      "source": [
        "I would apply a log transformation on the dataframe so that the right-skewed distribution would become less skewed, in a bid to make it more symmetrical."
      ]
    },
    {
      "cell_type": "code",
      "execution_count": 42,
      "metadata": {
        "id": "PGWVlW6h6KkG"
      },
      "outputs": [],
      "source": [
        "merged_df= merged_df.withColumn('log_quote', log(merged_df['quote']))"
      ]
    },
    {
      "cell_type": "code",
      "execution_count": 43,
      "metadata": {
        "id": "b8NYUbtv_Cso"
      },
      "outputs": [],
      "source": [
        "# duplicating the log_price colum to a pandas list object\n",
        "\n",
        "\n",
        "log_price_pdf= merged_df.select('log_quote').toPandas()"
      ]
    },
    {
      "cell_type": "code",
      "execution_count": 44,
      "metadata": {
        "colab": {
          "base_uri": "https://localhost:8080/",
          "height": 481
        },
        "id": "E6eDo_Z9_Ts1",
        "outputId": "eb0a9375-d324-4ee7-d7e2-997d5b2cacbf"
      },
      "outputs": [
        {
          "output_type": "display_data",
          "data": {
            "text/plain": [
              "<Figure size 640x480 with 1 Axes>"
            ],
            "image/png": "[encoded data removed]"
          },
          "metadata": {}
        }
      ],
      "source": [
        "# Visualizing the effect of the log transformation on the distribution\n",
        "\n",
        "sns.kdeplot(x= log_price_pdf['log_quote'], fill= True)\n",
        "sns.despine(offset=10, trim=True)\n",
        "plt.title('Distribution')\n",
        "plt.xlabel('Log')\n",
        "plt.ylabel('Density')\n",
        "plt.show()"
      ]
    },
    {
      "cell_type": "code",
      "execution_count": 45,
      "metadata": {
        "colab": {
          "base_uri": "https://localhost:8080/"
        },
        "id": "tzkTErS_BLk5",
        "outputId": "b004c4bb-f5eb-464f-8538-b05c2753352a"
      },
      "outputs": [
        {
          "output_type": "stream",
          "name": "stdout",
          "text": [
            "+----+-------+----------------+-------------------+------------+----------+-----------+----------------------+---------------+------+-------------+-------------------------+------------------+----------------+------+------+------------+-----+------------------+\n",
            "|make|mileage|manufacture_year|engine_displacement|engine_power|door_count|known_model|new_transmission_index|fuel_type_index| price|mileage_index|engine_displacement_index|engine_power_index|door_count_index| quote| miles|displacement|power|         log_quote|\n",
            "+----+-------+----------------+-------------------+------------+----------+-----------+----------------------+---------------+------+-------------+-------------------------+------------------+----------------+------+------+------------+-----+------------------+\n",
            "|audi| 330000|            1995|               2600|         110|      NULL|          0|                   1.0|            0.0|873428|       330000|                     2600|               110|               4|873428|179000|        2600|  110| 13.68018097814121|\n",
            "|audi|   NULL|            1995|               NULL|        NULL|      NULL|          1|                   2.0|            0.0| 66616|        85000|                     1968|               120|               4|759912| 85000|        1968|  120| 13.54095791608471|\n",
            "|audi|   NULL|            1995|              11199|        NULL|      NULL|          0|                   2.0|            0.0| 66616|        85000|                    11199|               120|               4|759912| 85000|        5000|  120| 13.54095791608471|\n",
            "|audi|   NULL|            1995|               NULL|        NULL|      NULL|          0|                   2.0|            0.0| 66604|        85000|                     1968|               120|               4|759912| 85000|        1968|  120| 13.54095791608471|\n",
            "|audi| 347000|            1995|               NULL|          85|      NULL|          1|                   1.0|            0.0|843820|       347000|                     1968|                85|               4|843820|179000|        1968|   85|13.645694480690603|\n",
            "|audi| 325000|            1995|               NULL|        NULL|      NULL|          1|                   2.0|            0.0|222056|       325000|                     1968|               120|               4|759912|179000|        1968|  120| 13.54095791608471|\n",
            "|audi|   NULL|            1995|               NULL|        NULL|      NULL|          1|                   2.0|            0.0|266468|        85000|                     1968|               120|               4|759912| 85000|        1968|  120| 13.54095791608471|\n",
            "|audi|   NULL|            1995|               NULL|          85|      NULL|          1|                   2.0|            0.0|518136|        85000|                     1968|                85|               4|759912| 85000|        1968|   85| 13.54095791608471|\n",
            "|audi|   NULL|            1995|               NULL|        NULL|      NULL|          1|                   2.0|            0.0|251664|        85000|                     1968|               120|               4|759912| 85000|        1968|  120| 13.54095791608471|\n",
            "|audi|   NULL|            1995|               NULL|         103|      NULL|          1|                   2.0|            0.0|296076|        85000|                     1968|               103|               4|759912| 85000|        1968|  103| 13.54095791608471|\n",
            "|audi|   NULL|            1995|              12500|        NULL|      NULL|          1|                   2.0|            0.0|185048|        85000|                    12500|               120|               4|759912| 85000|        5000|  120| 13.54095791608471|\n",
            "|audi|   NULL|            1995|               2500|         103|      NULL|          1|                   2.0|            0.0|296076|        85000|                     2500|               103|               4|759912| 85000|        2500|  103| 13.54095791608471|\n",
            "|audi| 351000|            1995|               NULL|        NULL|      NULL|          1|                   2.0|            0.0|814212|       351000|                     1968|               120|               4|814212|179000|        1968|  120|13.609976053335922|\n",
            "|audi|   NULL|            1995|               NULL|        NULL|      NULL|          1|                   2.0|            0.0|370096|        85000|                     1968|               120|               4|759912| 85000|        1968|  120| 13.54095791608471|\n",
            "|audi|   NULL|            1995|               NULL|        NULL|      NULL|          1|                   2.0|            0.0|177648|        85000|                     1968|               120|               4|759912| 85000|        1968|  120| 13.54095791608471|\n",
            "|audi|   NULL|            1995|               1800|        NULL|      NULL|          1|                   2.0|            0.0|    16|        85000|                     1800|               120|               4|759912| 85000|        1800|  120| 13.54095791608471|\n",
            "|audi|   NULL|            1995|               8200|        NULL|      NULL|          1|                   2.0|            0.0|310880|        85000|                     8200|               120|               4|759912| 85000|        5000|  120| 13.54095791608471|\n",
            "|audi|   NULL|            1995|               NULL|          74|      NULL|          1|                   2.0|            0.0|488528|        85000|                     1968|                74|               4|759912| 85000|        1968|   74| 13.54095791608471|\n",
            "|audi| 282547|            1995|               NULL|        NULL|      NULL|          1|                   2.0|            0.0|220104|       282547|                     1968|               120|               4|759912|179000|        1968|  120| 13.54095791608471|\n",
            "|audi| 256307|            1995|               NULL|        NULL|      NULL|          1|                   2.0|            0.0|678296|       256307|                     1968|               120|               4|759912|179000|        1968|  120| 13.54095791608471|\n",
            "+----+-------+----------------+-------------------+------------+----------+-----------+----------------------+---------------+------+-------------+-------------------------+------------------+----------------+------+------+------------+-----+------------------+\n",
            "only showing top 20 rows\n",
            "\n"
          ]
        }
      ],
      "source": [
        "# inspecting the dataframe\n",
        "\n",
        "merged_df.show()"
      ]
    },
    {
      "cell_type": "code",
      "execution_count": 46,
      "metadata": {
        "id": "V3GxsAETJ_BB"
      },
      "outputs": [],
      "source": [
        "# Trimming the dataframe to contain only the relevant columns needed for predictions\n",
        "\n",
        "merged_df= merged_df.drop('mileage')\\\n",
        ".drop('engine_displacement')\\\n",
        ".drop('engine_power')\\\n",
        ".drop('door_count')\\\n",
        ".drop('mileage_index')\\\n",
        ".drop('engine_displacement_index')\\\n",
        ".drop('engine_power_index')\\\n",
        ".drop('price')"
      ]
    },
    {
      "cell_type": "code",
      "execution_count": 47,
      "metadata": {
        "id": "8p4W6biKKr1i"
      },
      "outputs": [],
      "source": [
        "# Dropping duplicate rows in the dataframe\n",
        "\n",
        "merged_df= merged_df.distinct()"
      ]
    },
    {
      "cell_type": "code",
      "execution_count": 48,
      "metadata": {
        "colab": {
          "base_uri": "https://localhost:8080/"
        },
        "id": "fjisKI-9qKt7",
        "outputId": "76f03162-2f13-41ca-fbca-0a627910a4e7"
      },
      "outputs": [
        {
          "output_type": "stream",
          "name": "stdout",
          "text": [
            "The dataframe has 504392 rows and 11 columns\n"
          ]
        }
      ],
      "source": [
        "r= merged_df.count()\n",
        "c= len(merged_df.columns)\n",
        "\n",
        "print(f'The dataframe has {r} rows and {c} columns')"
      ]
    },
    {
      "cell_type": "markdown",
      "source": [
        "## Feature Engineering"
      ],
      "metadata": {
        "id": "jpFczYy6u3D7"
      }
    },
    {
      "cell_type": "markdown",
      "source": [
        "I will add two columns to the dataframe:\n",
        "\n",
        "1.   `miles_per_year`: to provide context to how much the car has been used.\n",
        "2.   `engine_effciency`: to indicate how efficient the engine is in converting fuel to power.\n",
        "\n"
      ],
      "metadata": {
        "id": "g_rOsmOOu-Y_"
      }
    },
    {
      "cell_type": "code",
      "execution_count": 49,
      "metadata": {
        "id": "HFpoFeH6hhVB"
      },
      "outputs": [],
      "source": [
        "merged_df= merged_df.withColumn(\n",
        "    'miles_per_year',\n",
        "    F.col('miles') / (2024 - F.col('manufacture_year'))\n",
        ")\n",
        "\n",
        "merged_df= merged_df.withColumn(\n",
        "    'engine_efficiency',\n",
        "    F.col('power') / F.col('displacement')\n",
        ")"
      ]
    },
    {
      "cell_type": "code",
      "execution_count": 50,
      "metadata": {
        "id": "Y8hefJW6NDaw"
      },
      "outputs": [],
      "source": [
        "# Creating a list of relevant features that will be fed into the assembler\n",
        "\n",
        "feature_list= [\n",
        "    'manufacture_year',\n",
        "    'known_model',\n",
        "    'new_transmission_index',\n",
        "    'fuel_type_index',\n",
        "    'miles',\n",
        "    'displacement',\n",
        "    'power',\n",
        "    'door_count_index',\n",
        "    'miles_per_year',\n",
        "    'engine_efficiency'\n",
        "]\n",
        "\n",
        "# Instantiating the assembler\n",
        "\n",
        "assembler= VectorAssembler(\n",
        "    inputCols= feature_list,\n",
        "    outputCol= 'features'\n",
        ")\n",
        "\n",
        "\n",
        "feature_vector= assembler.transform(merged_df)"
      ]
    },
    {
      "cell_type": "markdown",
      "source": [
        "## Train/Test split"
      ],
      "metadata": {
        "id": "4InYuMxqwRiO"
      }
    },
    {
      "cell_type": "code",
      "execution_count": 51,
      "metadata": {
        "id": "GQuIUoOmQu_8"
      },
      "outputs": [],
      "source": [
        "# Splitting the data into both train and test/validation sets\n",
        "\n",
        "train, test= feature_vector.randomSplit([0.8, 0.2], seed= 42)"
      ]
    },
    {
      "cell_type": "markdown",
      "source": [
        "## Scaling the data"
      ],
      "metadata": {
        "id": "uLwQNz4PwaMQ"
      }
    },
    {
      "cell_type": "code",
      "execution_count": 52,
      "metadata": {
        "id": "ukcHx8B0R5H1"
      },
      "outputs": [],
      "source": [
        "# Creating a scaler object\n",
        "\n",
        "scaler= StandardScaler(\n",
        "    inputCol= 'features',\n",
        "    outputCol= 'features_scaled'\n",
        ")\n",
        "\n",
        "# fitting the scaler on the training data\n",
        "\n",
        "scaler_model= scaler.fit(train)\n",
        "\n",
        "# applying the transformation on the training data\n",
        "\n",
        "scaled_train= scaler_model.transform(train)"
      ]
    },
    {
      "cell_type": "markdown",
      "metadata": {
        "id": "UJFOEQ-gkNsG"
      },
      "source": [
        "## Modeling"
      ]
    },
    {
      "cell_type": "markdown",
      "source": [
        "I will use the XGBoost algorithm to make predictions on the data."
      ],
      "metadata": {
        "id": "33hUsFTJx_Gn"
      }
    },
    {
      "cell_type": "code",
      "execution_count": 53,
      "metadata": {
        "colab": {
          "base_uri": "https://localhost:8080/"
        },
        "id": "9KpS0uC4XVkB",
        "outputId": "45c7be8c-ad45-4a85-9fed-050bc70a14e4"
      },
      "outputs": [
        {
          "output_type": "stream",
          "name": "stdout",
          "text": [
            "Requirement already satisfied: xgboost in /usr/local/lib/python3.10/dist-packages (2.1.1)\n",
            "Requirement already satisfied: numpy in /usr/local/lib/python3.10/dist-packages (from xgboost) (1.26.4)\n",
            "Requirement already satisfied: nvidia-nccl-cu12 in /usr/local/lib/python3.10/dist-packages (from xgboost) (2.22.3)\n",
            "Requirement already satisfied: scipy in /usr/local/lib/python3.10/dist-packages (from xgboost) (1.13.1)\n"
          ]
        }
      ],
      "source": [
        "! pip install xgboost\n",
        "from xgboost.spark import SparkXGBRegressor\n",
        "from pyspark.ml.tuning import ParamGridBuilder, CrossValidator\n",
        "from pyspark.ml.evaluation import RegressionEvaluator\n",
        "from pyspark.mllib.evaluation import RegressionMetrics"
      ]
    },
    {
      "cell_type": "code",
      "execution_count": 54,
      "metadata": {
        "id": "dPXIfJEFXv4-"
      },
      "outputs": [],
      "source": [
        "# Defining the model\n",
        "\n",
        "xgb_regressor= SparkXGBRegressor(\n",
        "    features_col= 'features_scaled',\n",
        "    label_col= 'log_quote',\n",
        "    num_workers= 2,\n",
        "    device= 'cpu'\n",
        ")"
      ]
    },
    {
      "cell_type": "code",
      "execution_count": 55,
      "metadata": {
        "id": "ewSFfyNPlght"
      },
      "outputs": [],
      "source": [
        "# Builidng the hyperparameter grid\n",
        "\n",
        "grid= (ParamGridBuilder()\n",
        ".addGrid(xgb_regressor.learning_rate, [0.01, 0.05, 0.1])\n",
        ".addGrid(xgb_regressor.n_estimators, [1000, 1250])\n",
        ".addGrid(xgb_regressor.max_depth, [5, 6, 7])\n",
        ".build()\n",
        ")"
      ]
    },
    {
      "cell_type": "code",
      "execution_count": 56,
      "metadata": {
        "id": "58QjIp2Hm0GL"
      },
      "outputs": [],
      "source": [
        "# Creating an evaluator\n",
        "\n",
        "evaluator= RegressionEvaluator(\n",
        "    labelCol= 'log_quote',\n",
        "    predictionCol= 'prediction',\n",
        "    metricName= 'rmse'\n",
        ")"
      ]
    },
    {
      "cell_type": "code",
      "execution_count": 57,
      "metadata": {
        "id": "nhuEat_lojSw"
      },
      "outputs": [],
      "source": [
        "# Cross validation\n",
        "\n",
        "cv= CrossValidator(\n",
        "    estimator= xgb_regressor,\n",
        "    estimatorParamMaps= grid,\n",
        "    evaluator= evaluator,\n",
        "    numFolds= 5\n",
        ")"
      ]
    },
    {
      "cell_type": "code",
      "execution_count": 58,
      "metadata": {
        "colab": {
          "base_uri": "https://localhost:8080/"
        },
        "collapsed": true,
        "id": "apVSlcypozLB",
        "outputId": "89476bfb-af4f-4dab-fb66-0caaa3e11dff"
      },
      "outputs": [
        {
          "output_type": "stream",
          "name": "stderr",
          "text": [
            "INFO:XGBoost-PySpark:Running xgboost-2.1.1 on 2 workers with\n",
            "\tbooster params: {'device': 'cpu', 'learning_rate': 0.01, 'max_depth': 5, 'objective': 'reg:squarederror', 'nthread': 1}\n",
            "\ttrain_call_kwargs_params: {'verbose_eval': True, 'num_boost_round': 1000}\n",
            "\tdmatrix_kwargs: {'nthread': 1, 'missing': nan}\n",
            "INFO:XGBoost-PySpark:Finished xgboost training!\n",
            "INFO:XGBoost-PySpark:Running xgboost-2.1.1 on 2 workers with\n",
            "\tbooster params: {'device': 'cpu', 'learning_rate': 0.01, 'max_depth': 6, 'objective': 'reg:squarederror', 'nthread': 1}\n",
            "\ttrain_call_kwargs_params: {'verbose_eval': True, 'num_boost_round': 1000}\n",
            "\tdmatrix_kwargs: {'nthread': 1, 'missing': nan}\n",
            "INFO:XGBoost-PySpark:Finished xgboost training!\n",
            "INFO:XGBoost-PySpark:Running xgboost-2.1.1 on 2 workers with\n",
            "\tbooster params: {'device': 'cpu', 'learning_rate': 0.01, 'max_depth': 7, 'objective': 'reg:squarederror', 'nthread': 1}\n",
            "\ttrain_call_kwargs_params: {'verbose_eval': True, 'num_boost_round': 1000}\n",
            "\tdmatrix_kwargs: {'nthread': 1, 'missing': nan}\n",
            "INFO:XGBoost-PySpark:Finished xgboost training!\n",
            "INFO:XGBoost-PySpark:Running xgboost-2.1.1 on 2 workers with\n",
            "\tbooster params: {'device': 'cpu', 'learning_rate': 0.01, 'max_depth': 5, 'objective': 'reg:squarederror', 'nthread': 1}\n",
            "\ttrain_call_kwargs_params: {'verbose_eval': True, 'num_boost_round': 1250}\n",
            "\tdmatrix_kwargs: {'nthread': 1, 'missing': nan}\n",
            "INFO:XGBoost-PySpark:Finished xgboost training!\n",
            "INFO:XGBoost-PySpark:Running xgboost-2.1.1 on 2 workers with\n",
            "\tbooster params: {'device': 'cpu', 'learning_rate': 0.01, 'max_depth': 6, 'objective': 'reg:squarederror', 'nthread': 1}\n",
            "\ttrain_call_kwargs_params: {'verbose_eval': True, 'num_boost_round': 1250}\n",
            "\tdmatrix_kwargs: {'nthread': 1, 'missing': nan}\n",
            "INFO:XGBoost-PySpark:Finished xgboost training!\n",
            "INFO:XGBoost-PySpark:Running xgboost-2.1.1 on 2 workers with\n",
            "\tbooster params: {'device': 'cpu', 'learning_rate': 0.01, 'max_depth': 7, 'objective': 'reg:squarederror', 'nthread': 1}\n",
            "\ttrain_call_kwargs_params: {'verbose_eval': True, 'num_boost_round': 1250}\n",
            "\tdmatrix_kwargs: {'nthread': 1, 'missing': nan}\n",
            "INFO:XGBoost-PySpark:Finished xgboost training!\n",
            "INFO:XGBoost-PySpark:Running xgboost-2.1.1 on 2 workers with\n",
            "\tbooster params: {'device': 'cpu', 'learning_rate': 0.05, 'max_depth': 5, 'objective': 'reg:squarederror', 'nthread': 1}\n",
            "\ttrain_call_kwargs_params: {'verbose_eval': True, 'num_boost_round': 1000}\n",
            "\tdmatrix_kwargs: {'nthread': 1, 'missing': nan}\n",
            "INFO:XGBoost-PySpark:Finished xgboost training!\n",
            "INFO:XGBoost-PySpark:Running xgboost-2.1.1 on 2 workers with\n",
            "\tbooster params: {'device': 'cpu', 'learning_rate': 0.05, 'max_depth': 6, 'objective': 'reg:squarederror', 'nthread': 1}\n",
            "\ttrain_call_kwargs_params: {'verbose_eval': True, 'num_boost_round': 1000}\n",
            "\tdmatrix_kwargs: {'nthread': 1, 'missing': nan}\n",
            "INFO:XGBoost-PySpark:Finished xgboost training!\n",
            "INFO:XGBoost-PySpark:Running xgboost-2.1.1 on 2 workers with\n",
            "\tbooster params: {'device': 'cpu', 'learning_rate': 0.05, 'max_depth': 7, 'objective': 'reg:squarederror', 'nthread': 1}\n",
            "\ttrain_call_kwargs_params: {'verbose_eval': True, 'num_boost_round': 1000}\n",
            "\tdmatrix_kwargs: {'nthread': 1, 'missing': nan}\n",
            "INFO:XGBoost-PySpark:Finished xgboost training!\n",
            "INFO:XGBoost-PySpark:Running xgboost-2.1.1 on 2 workers with\n",
            "\tbooster params: {'device': 'cpu', 'learning_rate': 0.05, 'max_depth': 5, 'objective': 'reg:squarederror', 'nthread': 1}\n",
            "\ttrain_call_kwargs_params: {'verbose_eval': True, 'num_boost_round': 1250}\n",
            "\tdmatrix_kwargs: {'nthread': 1, 'missing': nan}\n",
            "INFO:XGBoost-PySpark:Finished xgboost training!\n",
            "INFO:XGBoost-PySpark:Running xgboost-2.1.1 on 2 workers with\n",
            "\tbooster params: {'device': 'cpu', 'learning_rate': 0.05, 'max_depth': 6, 'objective': 'reg:squarederror', 'nthread': 1}\n",
            "\ttrain_call_kwargs_params: {'verbose_eval': True, 'num_boost_round': 1250}\n",
            "\tdmatrix_kwargs: {'nthread': 1, 'missing': nan}\n",
            "INFO:XGBoost-PySpark:Finished xgboost training!\n",
            "INFO:XGBoost-PySpark:Running xgboost-2.1.1 on 2 workers with\n",
            "\tbooster params: {'device': 'cpu', 'learning_rate': 0.05, 'max_depth': 7, 'objective': 'reg:squarederror', 'nthread': 1}\n",
            "\ttrain_call_kwargs_params: {'verbose_eval': True, 'num_boost_round': 1250}\n",
            "\tdmatrix_kwargs: {'nthread': 1, 'missing': nan}\n",
            "INFO:XGBoost-PySpark:Finished xgboost training!\n",
            "INFO:XGBoost-PySpark:Running xgboost-2.1.1 on 2 workers with\n",
            "\tbooster params: {'device': 'cpu', 'learning_rate': 0.1, 'max_depth': 5, 'objective': 'reg:squarederror', 'nthread': 1}\n",
            "\ttrain_call_kwargs_params: {'verbose_eval': True, 'num_boost_round': 1000}\n",
            "\tdmatrix_kwargs: {'nthread': 1, 'missing': nan}\n",
            "INFO:XGBoost-PySpark:Finished xgboost training!\n",
            "INFO:XGBoost-PySpark:Running xgboost-2.1.1 on 2 workers with\n",
            "\tbooster params: {'device': 'cpu', 'learning_rate': 0.1, 'max_depth': 6, 'objective': 'reg:squarederror', 'nthread': 1}\n",
            "\ttrain_call_kwargs_params: {'verbose_eval': True, 'num_boost_round': 1000}\n",
            "\tdmatrix_kwargs: {'nthread': 1, 'missing': nan}\n",
            "INFO:XGBoost-PySpark:Finished xgboost training!\n",
            "INFO:XGBoost-PySpark:Running xgboost-2.1.1 on 2 workers with\n",
            "\tbooster params: {'device': 'cpu', 'learning_rate': 0.1, 'max_depth': 7, 'objective': 'reg:squarederror', 'nthread': 1}\n",
            "\ttrain_call_kwargs_params: {'verbose_eval': True, 'num_boost_round': 1000}\n",
            "\tdmatrix_kwargs: {'nthread': 1, 'missing': nan}\n",
            "INFO:XGBoost-PySpark:Finished xgboost training!\n",
            "INFO:XGBoost-PySpark:Running xgboost-2.1.1 on 2 workers with\n",
            "\tbooster params: {'device': 'cpu', 'learning_rate': 0.1, 'max_depth': 5, 'objective': 'reg:squarederror', 'nthread': 1}\n",
            "\ttrain_call_kwargs_params: {'verbose_eval': True, 'num_boost_round': 1250}\n",
            "\tdmatrix_kwargs: {'nthread': 1, 'missing': nan}\n",
            "INFO:XGBoost-PySpark:Finished xgboost training!\n",
            "INFO:XGBoost-PySpark:Running xgboost-2.1.1 on 2 workers with\n",
            "\tbooster params: {'device': 'cpu', 'learning_rate': 0.1, 'max_depth': 6, 'objective': 'reg:squarederror', 'nthread': 1}\n",
            "\ttrain_call_kwargs_params: {'verbose_eval': True, 'num_boost_round': 1250}\n",
            "\tdmatrix_kwargs: {'nthread': 1, 'missing': nan}\n",
            "INFO:XGBoost-PySpark:Finished xgboost training!\n",
            "INFO:XGBoost-PySpark:Running xgboost-2.1.1 on 2 workers with\n",
            "\tbooster params: {'device': 'cpu', 'learning_rate': 0.1, 'max_depth': 7, 'objective': 'reg:squarederror', 'nthread': 1}\n",
            "\ttrain_call_kwargs_params: {'verbose_eval': True, 'num_boost_round': 1250}\n",
            "\tdmatrix_kwargs: {'nthread': 1, 'missing': nan}\n",
            "INFO:XGBoost-PySpark:Finished xgboost training!\n",
            "INFO:XGBoost-PySpark:Running xgboost-2.1.1 on 2 workers with\n",
            "\tbooster params: {'device': 'cpu', 'learning_rate': 0.01, 'max_depth': 5, 'objective': 'reg:squarederror', 'nthread': 1}\n",
            "\ttrain_call_kwargs_params: {'verbose_eval': True, 'num_boost_round': 1000}\n",
            "\tdmatrix_kwargs: {'nthread': 1, 'missing': nan}\n",
            "INFO:XGBoost-PySpark:Finished xgboost training!\n",
            "INFO:XGBoost-PySpark:Running xgboost-2.1.1 on 2 workers with\n",
            "\tbooster params: {'device': 'cpu', 'learning_rate': 0.01, 'max_depth': 6, 'objective': 'reg:squarederror', 'nthread': 1}\n",
            "\ttrain_call_kwargs_params: {'verbose_eval': True, 'num_boost_round': 1000}\n",
            "\tdmatrix_kwargs: {'nthread': 1, 'missing': nan}\n",
            "INFO:XGBoost-PySpark:Finished xgboost training!\n",
            "INFO:XGBoost-PySpark:Running xgboost-2.1.1 on 2 workers with\n",
            "\tbooster params: {'device': 'cpu', 'learning_rate': 0.01, 'max_depth': 7, 'objective': 'reg:squarederror', 'nthread': 1}\n",
            "\ttrain_call_kwargs_params: {'verbose_eval': True, 'num_boost_round': 1000}\n",
            "\tdmatrix_kwargs: {'nthread': 1, 'missing': nan}\n",
            "INFO:XGBoost-PySpark:Finished xgboost training!\n",
            "INFO:XGBoost-PySpark:Running xgboost-2.1.1 on 2 workers with\n",
            "\tbooster params: {'device': 'cpu', 'learning_rate': 0.01, 'max_depth': 5, 'objective': 'reg:squarederror', 'nthread': 1}\n",
            "\ttrain_call_kwargs_params: {'verbose_eval': True, 'num_boost_round': 1250}\n",
            "\tdmatrix_kwargs: {'nthread': 1, 'missing': nan}\n",
            "INFO:XGBoost-PySpark:Finished xgboost training!\n",
            "INFO:XGBoost-PySpark:Running xgboost-2.1.1 on 2 workers with\n",
            "\tbooster params: {'device': 'cpu', 'learning_rate': 0.01, 'max_depth': 6, 'objective': 'reg:squarederror', 'nthread': 1}\n",
            "\ttrain_call_kwargs_params: {'verbose_eval': True, 'num_boost_round': 1250}\n",
            "\tdmatrix_kwargs: {'nthread': 1, 'missing': nan}\n",
            "INFO:XGBoost-PySpark:Finished xgboost training!\n",
            "INFO:XGBoost-PySpark:Running xgboost-2.1.1 on 2 workers with\n",
            "\tbooster params: {'device': 'cpu', 'learning_rate': 0.01, 'max_depth': 7, 'objective': 'reg:squarederror', 'nthread': 1}\n",
            "\ttrain_call_kwargs_params: {'verbose_eval': True, 'num_boost_round': 1250}\n",
            "\tdmatrix_kwargs: {'nthread': 1, 'missing': nan}\n",
            "INFO:XGBoost-PySpark:Finished xgboost training!\n",
            "INFO:XGBoost-PySpark:Running xgboost-2.1.1 on 2 workers with\n",
            "\tbooster params: {'device': 'cpu', 'learning_rate': 0.05, 'max_depth': 5, 'objective': 'reg:squarederror', 'nthread': 1}\n",
            "\ttrain_call_kwargs_params: {'verbose_eval': True, 'num_boost_round': 1000}\n",
            "\tdmatrix_kwargs: {'nthread': 1, 'missing': nan}\n",
            "INFO:XGBoost-PySpark:Finished xgboost training!\n",
            "INFO:XGBoost-PySpark:Running xgboost-2.1.1 on 2 workers with\n",
            "\tbooster params: {'device': 'cpu', 'learning_rate': 0.05, 'max_depth': 6, 'objective': 'reg:squarederror', 'nthread': 1}\n",
            "\ttrain_call_kwargs_params: {'verbose_eval': True, 'num_boost_round': 1000}\n",
            "\tdmatrix_kwargs: {'nthread': 1, 'missing': nan}\n",
            "INFO:XGBoost-PySpark:Finished xgboost training!\n",
            "INFO:XGBoost-PySpark:Running xgboost-2.1.1 on 2 workers with\n",
            "\tbooster params: {'device': 'cpu', 'learning_rate': 0.05, 'max_depth': 7, 'objective': 'reg:squarederror', 'nthread': 1}\n",
            "\ttrain_call_kwargs_params: {'verbose_eval': True, 'num_boost_round': 1000}\n",
            "\tdmatrix_kwargs: {'nthread': 1, 'missing': nan}\n",
            "INFO:XGBoost-PySpark:Finished xgboost training!\n",
            "INFO:XGBoost-PySpark:Running xgboost-2.1.1 on 2 workers with\n",
            "\tbooster params: {'device': 'cpu', 'learning_rate': 0.05, 'max_depth': 5, 'objective': 'reg:squarederror', 'nthread': 1}\n",
            "\ttrain_call_kwargs_params: {'verbose_eval': True, 'num_boost_round': 1250}\n",
            "\tdmatrix_kwargs: {'nthread': 1, 'missing': nan}\n",
            "INFO:XGBoost-PySpark:Finished xgboost training!\n",
            "INFO:XGBoost-PySpark:Running xgboost-2.1.1 on 2 workers with\n",
            "\tbooster params: {'device': 'cpu', 'learning_rate': 0.05, 'max_depth': 6, 'objective': 'reg:squarederror', 'nthread': 1}\n",
            "\ttrain_call_kwargs_params: {'verbose_eval': True, 'num_boost_round': 1250}\n",
            "\tdmatrix_kwargs: {'nthread': 1, 'missing': nan}\n",
            "INFO:XGBoost-PySpark:Finished xgboost training!\n",
            "INFO:XGBoost-PySpark:Running xgboost-2.1.1 on 2 workers with\n",
            "\tbooster params: {'device': 'cpu', 'learning_rate': 0.05, 'max_depth': 7, 'objective': 'reg:squarederror', 'nthread': 1}\n",
            "\ttrain_call_kwargs_params: {'verbose_eval': True, 'num_boost_round': 1250}\n",
            "\tdmatrix_kwargs: {'nthread': 1, 'missing': nan}\n",
            "INFO:XGBoost-PySpark:Finished xgboost training!\n",
            "INFO:XGBoost-PySpark:Running xgboost-2.1.1 on 2 workers with\n",
            "\tbooster params: {'device': 'cpu', 'learning_rate': 0.1, 'max_depth': 5, 'objective': 'reg:squarederror', 'nthread': 1}\n",
            "\ttrain_call_kwargs_params: {'verbose_eval': True, 'num_boost_round': 1000}\n",
            "\tdmatrix_kwargs: {'nthread': 1, 'missing': nan}\n",
            "INFO:XGBoost-PySpark:Finished xgboost training!\n",
            "INFO:XGBoost-PySpark:Running xgboost-2.1.1 on 2 workers with\n",
            "\tbooster params: {'device': 'cpu', 'learning_rate': 0.1, 'max_depth': 6, 'objective': 'reg:squarederror', 'nthread': 1}\n",
            "\ttrain_call_kwargs_params: {'verbose_eval': True, 'num_boost_round': 1000}\n",
            "\tdmatrix_kwargs: {'nthread': 1, 'missing': nan}\n",
            "INFO:XGBoost-PySpark:Finished xgboost training!\n",
            "INFO:XGBoost-PySpark:Running xgboost-2.1.1 on 2 workers with\n",
            "\tbooster params: {'device': 'cpu', 'learning_rate': 0.1, 'max_depth': 7, 'objective': 'reg:squarederror', 'nthread': 1}\n",
            "\ttrain_call_kwargs_params: {'verbose_eval': True, 'num_boost_round': 1000}\n",
            "\tdmatrix_kwargs: {'nthread': 1, 'missing': nan}\n",
            "INFO:XGBoost-PySpark:Finished xgboost training!\n",
            "INFO:XGBoost-PySpark:Running xgboost-2.1.1 on 2 workers with\n",
            "\tbooster params: {'device': 'cpu', 'learning_rate': 0.1, 'max_depth': 5, 'objective': 'reg:squarederror', 'nthread': 1}\n",
            "\ttrain_call_kwargs_params: {'verbose_eval': True, 'num_boost_round': 1250}\n",
            "\tdmatrix_kwargs: {'nthread': 1, 'missing': nan}\n",
            "INFO:XGBoost-PySpark:Finished xgboost training!\n",
            "INFO:XGBoost-PySpark:Running xgboost-2.1.1 on 2 workers with\n",
            "\tbooster params: {'device': 'cpu', 'learning_rate': 0.1, 'max_depth': 6, 'objective': 'reg:squarederror', 'nthread': 1}\n",
            "\ttrain_call_kwargs_params: {'verbose_eval': True, 'num_boost_round': 1250}\n",
            "\tdmatrix_kwargs: {'nthread': 1, 'missing': nan}\n",
            "INFO:XGBoost-PySpark:Finished xgboost training!\n",
            "INFO:XGBoost-PySpark:Running xgboost-2.1.1 on 2 workers with\n",
            "\tbooster params: {'device': 'cpu', 'learning_rate': 0.1, 'max_depth': 7, 'objective': 'reg:squarederror', 'nthread': 1}\n",
            "\ttrain_call_kwargs_params: {'verbose_eval': True, 'num_boost_round': 1250}\n",
            "\tdmatrix_kwargs: {'nthread': 1, 'missing': nan}\n",
            "INFO:XGBoost-PySpark:Finished xgboost training!\n",
            "INFO:XGBoost-PySpark:Running xgboost-2.1.1 on 2 workers with\n",
            "\tbooster params: {'device': 'cpu', 'learning_rate': 0.01, 'max_depth': 5, 'objective': 'reg:squarederror', 'nthread': 1}\n",
            "\ttrain_call_kwargs_params: {'verbose_eval': True, 'num_boost_round': 1000}\n",
            "\tdmatrix_kwargs: {'nthread': 1, 'missing': nan}\n",
            "INFO:XGBoost-PySpark:Finished xgboost training!\n",
            "INFO:XGBoost-PySpark:Running xgboost-2.1.1 on 2 workers with\n",
            "\tbooster params: {'device': 'cpu', 'learning_rate': 0.01, 'max_depth': 6, 'objective': 'reg:squarederror', 'nthread': 1}\n",
            "\ttrain_call_kwargs_params: {'verbose_eval': True, 'num_boost_round': 1000}\n",
            "\tdmatrix_kwargs: {'nthread': 1, 'missing': nan}\n",
            "INFO:XGBoost-PySpark:Finished xgboost training!\n",
            "INFO:XGBoost-PySpark:Running xgboost-2.1.1 on 2 workers with\n",
            "\tbooster params: {'device': 'cpu', 'learning_rate': 0.01, 'max_depth': 7, 'objective': 'reg:squarederror', 'nthread': 1}\n",
            "\ttrain_call_kwargs_params: {'verbose_eval': True, 'num_boost_round': 1000}\n",
            "\tdmatrix_kwargs: {'nthread': 1, 'missing': nan}\n",
            "INFO:XGBoost-PySpark:Finished xgboost training!\n",
            "INFO:XGBoost-PySpark:Running xgboost-2.1.1 on 2 workers with\n",
            "\tbooster params: {'device': 'cpu', 'learning_rate': 0.01, 'max_depth': 5, 'objective': 'reg:squarederror', 'nthread': 1}\n",
            "\ttrain_call_kwargs_params: {'verbose_eval': True, 'num_boost_round': 1250}\n",
            "\tdmatrix_kwargs: {'nthread': 1, 'missing': nan}\n",
            "INFO:XGBoost-PySpark:Finished xgboost training!\n",
            "INFO:XGBoost-PySpark:Running xgboost-2.1.1 on 2 workers with\n",
            "\tbooster params: {'device': 'cpu', 'learning_rate': 0.01, 'max_depth': 6, 'objective': 'reg:squarederror', 'nthread': 1}\n",
            "\ttrain_call_kwargs_params: {'verbose_eval': True, 'num_boost_round': 1250}\n",
            "\tdmatrix_kwargs: {'nthread': 1, 'missing': nan}\n",
            "INFO:XGBoost-PySpark:Finished xgboost training!\n",
            "INFO:XGBoost-PySpark:Running xgboost-2.1.1 on 2 workers with\n",
            "\tbooster params: {'device': 'cpu', 'learning_rate': 0.01, 'max_depth': 7, 'objective': 'reg:squarederror', 'nthread': 1}\n",
            "\ttrain_call_kwargs_params: {'verbose_eval': True, 'num_boost_round': 1250}\n",
            "\tdmatrix_kwargs: {'nthread': 1, 'missing': nan}\n",
            "INFO:XGBoost-PySpark:Finished xgboost training!\n",
            "INFO:XGBoost-PySpark:Running xgboost-2.1.1 on 2 workers with\n",
            "\tbooster params: {'device': 'cpu', 'learning_rate': 0.05, 'max_depth': 5, 'objective': 'reg:squarederror', 'nthread': 1}\n",
            "\ttrain_call_kwargs_params: {'verbose_eval': True, 'num_boost_round': 1000}\n",
            "\tdmatrix_kwargs: {'nthread': 1, 'missing': nan}\n",
            "INFO:XGBoost-PySpark:Finished xgboost training!\n",
            "INFO:XGBoost-PySpark:Running xgboost-2.1.1 on 2 workers with\n",
            "\tbooster params: {'device': 'cpu', 'learning_rate': 0.05, 'max_depth': 6, 'objective': 'reg:squarederror', 'nthread': 1}\n",
            "\ttrain_call_kwargs_params: {'verbose_eval': True, 'num_boost_round': 1000}\n",
            "\tdmatrix_kwargs: {'nthread': 1, 'missing': nan}\n",
            "INFO:XGBoost-PySpark:Finished xgboost training!\n",
            "INFO:XGBoost-PySpark:Running xgboost-2.1.1 on 2 workers with\n",
            "\tbooster params: {'device': 'cpu', 'learning_rate': 0.05, 'max_depth': 7, 'objective': 'reg:squarederror', 'nthread': 1}\n",
            "\ttrain_call_kwargs_params: {'verbose_eval': True, 'num_boost_round': 1000}\n",
            "\tdmatrix_kwargs: {'nthread': 1, 'missing': nan}\n",
            "INFO:XGBoost-PySpark:Finished xgboost training!\n",
            "INFO:XGBoost-PySpark:Running xgboost-2.1.1 on 2 workers with\n",
            "\tbooster params: {'device': 'cpu', 'learning_rate': 0.05, 'max_depth': 5, 'objective': 'reg:squarederror', 'nthread': 1}\n",
            "\ttrain_call_kwargs_params: {'verbose_eval': True, 'num_boost_round': 1250}\n",
            "\tdmatrix_kwargs: {'nthread': 1, 'missing': nan}\n",
            "INFO:XGBoost-PySpark:Finished xgboost training!\n",
            "INFO:XGBoost-PySpark:Running xgboost-2.1.1 on 2 workers with\n",
            "\tbooster params: {'device': 'cpu', 'learning_rate': 0.05, 'max_depth': 6, 'objective': 'reg:squarederror', 'nthread': 1}\n",
            "\ttrain_call_kwargs_params: {'verbose_eval': True, 'num_boost_round': 1250}\n",
            "\tdmatrix_kwargs: {'nthread': 1, 'missing': nan}\n",
            "INFO:XGBoost-PySpark:Finished xgboost training!\n",
            "INFO:XGBoost-PySpark:Running xgboost-2.1.1 on 2 workers with\n",
            "\tbooster params: {'device': 'cpu', 'learning_rate': 0.05, 'max_depth': 7, 'objective': 'reg:squarederror', 'nthread': 1}\n",
            "\ttrain_call_kwargs_params: {'verbose_eval': True, 'num_boost_round': 1250}\n",
            "\tdmatrix_kwargs: {'nthread': 1, 'missing': nan}\n",
            "INFO:XGBoost-PySpark:Finished xgboost training!\n",
            "INFO:XGBoost-PySpark:Running xgboost-2.1.1 on 2 workers with\n",
            "\tbooster params: {'device': 'cpu', 'learning_rate': 0.1, 'max_depth': 5, 'objective': 'reg:squarederror', 'nthread': 1}\n",
            "\ttrain_call_kwargs_params: {'verbose_eval': True, 'num_boost_round': 1000}\n",
            "\tdmatrix_kwargs: {'nthread': 1, 'missing': nan}\n",
            "INFO:XGBoost-PySpark:Finished xgboost training!\n",
            "INFO:XGBoost-PySpark:Running xgboost-2.1.1 on 2 workers with\n",
            "\tbooster params: {'device': 'cpu', 'learning_rate': 0.1, 'max_depth': 6, 'objective': 'reg:squarederror', 'nthread': 1}\n",
            "\ttrain_call_kwargs_params: {'verbose_eval': True, 'num_boost_round': 1000}\n",
            "\tdmatrix_kwargs: {'nthread': 1, 'missing': nan}\n",
            "INFO:XGBoost-PySpark:Finished xgboost training!\n",
            "INFO:XGBoost-PySpark:Running xgboost-2.1.1 on 2 workers with\n",
            "\tbooster params: {'device': 'cpu', 'learning_rate': 0.1, 'max_depth': 7, 'objective': 'reg:squarederror', 'nthread': 1}\n",
            "\ttrain_call_kwargs_params: {'verbose_eval': True, 'num_boost_round': 1000}\n",
            "\tdmatrix_kwargs: {'nthread': 1, 'missing': nan}\n",
            "INFO:XGBoost-PySpark:Finished xgboost training!\n",
            "INFO:XGBoost-PySpark:Running xgboost-2.1.1 on 2 workers with\n",
            "\tbooster params: {'device': 'cpu', 'learning_rate': 0.1, 'max_depth': 5, 'objective': 'reg:squarederror', 'nthread': 1}\n",
            "\ttrain_call_kwargs_params: {'verbose_eval': True, 'num_boost_round': 1250}\n",
            "\tdmatrix_kwargs: {'nthread': 1, 'missing': nan}\n",
            "INFO:XGBoost-PySpark:Finished xgboost training!\n",
            "INFO:XGBoost-PySpark:Running xgboost-2.1.1 on 2 workers with\n",
            "\tbooster params: {'device': 'cpu', 'learning_rate': 0.1, 'max_depth': 6, 'objective': 'reg:squarederror', 'nthread': 1}\n",
            "\ttrain_call_kwargs_params: {'verbose_eval': True, 'num_boost_round': 1250}\n",
            "\tdmatrix_kwargs: {'nthread': 1, 'missing': nan}\n",
            "INFO:XGBoost-PySpark:Finished xgboost training!\n",
            "INFO:XGBoost-PySpark:Running xgboost-2.1.1 on 2 workers with\n",
            "\tbooster params: {'device': 'cpu', 'learning_rate': 0.1, 'max_depth': 7, 'objective': 'reg:squarederror', 'nthread': 1}\n",
            "\ttrain_call_kwargs_params: {'verbose_eval': True, 'num_boost_round': 1250}\n",
            "\tdmatrix_kwargs: {'nthread': 1, 'missing': nan}\n",
            "INFO:XGBoost-PySpark:Finished xgboost training!\n",
            "INFO:XGBoost-PySpark:Running xgboost-2.1.1 on 2 workers with\n",
            "\tbooster params: {'device': 'cpu', 'learning_rate': 0.01, 'max_depth': 5, 'objective': 'reg:squarederror', 'nthread': 1}\n",
            "\ttrain_call_kwargs_params: {'verbose_eval': True, 'num_boost_round': 1000}\n",
            "\tdmatrix_kwargs: {'nthread': 1, 'missing': nan}\n",
            "INFO:XGBoost-PySpark:Finished xgboost training!\n",
            "INFO:XGBoost-PySpark:Running xgboost-2.1.1 on 2 workers with\n",
            "\tbooster params: {'device': 'cpu', 'learning_rate': 0.01, 'max_depth': 6, 'objective': 'reg:squarederror', 'nthread': 1}\n",
            "\ttrain_call_kwargs_params: {'verbose_eval': True, 'num_boost_round': 1000}\n",
            "\tdmatrix_kwargs: {'nthread': 1, 'missing': nan}\n",
            "INFO:XGBoost-PySpark:Finished xgboost training!\n",
            "INFO:XGBoost-PySpark:Running xgboost-2.1.1 on 2 workers with\n",
            "\tbooster params: {'device': 'cpu', 'learning_rate': 0.01, 'max_depth': 7, 'objective': 'reg:squarederror', 'nthread': 1}\n",
            "\ttrain_call_kwargs_params: {'verbose_eval': True, 'num_boost_round': 1000}\n",
            "\tdmatrix_kwargs: {'nthread': 1, 'missing': nan}\n",
            "INFO:XGBoost-PySpark:Finished xgboost training!\n",
            "INFO:XGBoost-PySpark:Running xgboost-2.1.1 on 2 workers with\n",
            "\tbooster params: {'device': 'cpu', 'learning_rate': 0.01, 'max_depth': 5, 'objective': 'reg:squarederror', 'nthread': 1}\n",
            "\ttrain_call_kwargs_params: {'verbose_eval': True, 'num_boost_round': 1250}\n",
            "\tdmatrix_kwargs: {'nthread': 1, 'missing': nan}\n",
            "INFO:XGBoost-PySpark:Finished xgboost training!\n",
            "INFO:XGBoost-PySpark:Running xgboost-2.1.1 on 2 workers with\n",
            "\tbooster params: {'device': 'cpu', 'learning_rate': 0.01, 'max_depth': 6, 'objective': 'reg:squarederror', 'nthread': 1}\n",
            "\ttrain_call_kwargs_params: {'verbose_eval': True, 'num_boost_round': 1250}\n",
            "\tdmatrix_kwargs: {'nthread': 1, 'missing': nan}\n",
            "INFO:XGBoost-PySpark:Finished xgboost training!\n",
            "INFO:XGBoost-PySpark:Running xgboost-2.1.1 on 2 workers with\n",
            "\tbooster params: {'device': 'cpu', 'learning_rate': 0.01, 'max_depth': 7, 'objective': 'reg:squarederror', 'nthread': 1}\n",
            "\ttrain_call_kwargs_params: {'verbose_eval': True, 'num_boost_round': 1250}\n",
            "\tdmatrix_kwargs: {'nthread': 1, 'missing': nan}\n",
            "INFO:XGBoost-PySpark:Finished xgboost training!\n",
            "INFO:XGBoost-PySpark:Running xgboost-2.1.1 on 2 workers with\n",
            "\tbooster params: {'device': 'cpu', 'learning_rate': 0.05, 'max_depth': 5, 'objective': 'reg:squarederror', 'nthread': 1}\n",
            "\ttrain_call_kwargs_params: {'verbose_eval': True, 'num_boost_round': 1000}\n",
            "\tdmatrix_kwargs: {'nthread': 1, 'missing': nan}\n",
            "INFO:XGBoost-PySpark:Finished xgboost training!\n",
            "INFO:XGBoost-PySpark:Running xgboost-2.1.1 on 2 workers with\n",
            "\tbooster params: {'device': 'cpu', 'learning_rate': 0.05, 'max_depth': 6, 'objective': 'reg:squarederror', 'nthread': 1}\n",
            "\ttrain_call_kwargs_params: {'verbose_eval': True, 'num_boost_round': 1000}\n",
            "\tdmatrix_kwargs: {'nthread': 1, 'missing': nan}\n",
            "INFO:XGBoost-PySpark:Finished xgboost training!\n",
            "INFO:XGBoost-PySpark:Running xgboost-2.1.1 on 2 workers with\n",
            "\tbooster params: {'device': 'cpu', 'learning_rate': 0.05, 'max_depth': 7, 'objective': 'reg:squarederror', 'nthread': 1}\n",
            "\ttrain_call_kwargs_params: {'verbose_eval': True, 'num_boost_round': 1000}\n",
            "\tdmatrix_kwargs: {'nthread': 1, 'missing': nan}\n",
            "INFO:XGBoost-PySpark:Finished xgboost training!\n",
            "INFO:XGBoost-PySpark:Running xgboost-2.1.1 on 2 workers with\n",
            "\tbooster params: {'device': 'cpu', 'learning_rate': 0.05, 'max_depth': 5, 'objective': 'reg:squarederror', 'nthread': 1}\n",
            "\ttrain_call_kwargs_params: {'verbose_eval': True, 'num_boost_round': 1250}\n",
            "\tdmatrix_kwargs: {'nthread': 1, 'missing': nan}\n",
            "INFO:XGBoost-PySpark:Finished xgboost training!\n",
            "INFO:XGBoost-PySpark:Running xgboost-2.1.1 on 2 workers with\n",
            "\tbooster params: {'device': 'cpu', 'learning_rate': 0.05, 'max_depth': 6, 'objective': 'reg:squarederror', 'nthread': 1}\n",
            "\ttrain_call_kwargs_params: {'verbose_eval': True, 'num_boost_round': 1250}\n",
            "\tdmatrix_kwargs: {'nthread': 1, 'missing': nan}\n",
            "INFO:XGBoost-PySpark:Finished xgboost training!\n",
            "INFO:XGBoost-PySpark:Running xgboost-2.1.1 on 2 workers with\n",
            "\tbooster params: {'device': 'cpu', 'learning_rate': 0.05, 'max_depth': 7, 'objective': 'reg:squarederror', 'nthread': 1}\n",
            "\ttrain_call_kwargs_params: {'verbose_eval': True, 'num_boost_round': 1250}\n",
            "\tdmatrix_kwargs: {'nthread': 1, 'missing': nan}\n",
            "INFO:XGBoost-PySpark:Finished xgboost training!\n",
            "INFO:XGBoost-PySpark:Running xgboost-2.1.1 on 2 workers with\n",
            "\tbooster params: {'device': 'cpu', 'learning_rate': 0.1, 'max_depth': 5, 'objective': 'reg:squarederror', 'nthread': 1}\n",
            "\ttrain_call_kwargs_params: {'verbose_eval': True, 'num_boost_round': 1000}\n",
            "\tdmatrix_kwargs: {'nthread': 1, 'missing': nan}\n",
            "INFO:XGBoost-PySpark:Finished xgboost training!\n",
            "INFO:XGBoost-PySpark:Running xgboost-2.1.1 on 2 workers with\n",
            "\tbooster params: {'device': 'cpu', 'learning_rate': 0.1, 'max_depth': 6, 'objective': 'reg:squarederror', 'nthread': 1}\n",
            "\ttrain_call_kwargs_params: {'verbose_eval': True, 'num_boost_round': 1000}\n",
            "\tdmatrix_kwargs: {'nthread': 1, 'missing': nan}\n",
            "INFO:XGBoost-PySpark:Finished xgboost training!\n",
            "INFO:XGBoost-PySpark:Running xgboost-2.1.1 on 2 workers with\n",
            "\tbooster params: {'device': 'cpu', 'learning_rate': 0.1, 'max_depth': 7, 'objective': 'reg:squarederror', 'nthread': 1}\n",
            "\ttrain_call_kwargs_params: {'verbose_eval': True, 'num_boost_round': 1000}\n",
            "\tdmatrix_kwargs: {'nthread': 1, 'missing': nan}\n",
            "INFO:XGBoost-PySpark:Finished xgboost training!\n",
            "INFO:XGBoost-PySpark:Running xgboost-2.1.1 on 2 workers with\n",
            "\tbooster params: {'device': 'cpu', 'learning_rate': 0.1, 'max_depth': 5, 'objective': 'reg:squarederror', 'nthread': 1}\n",
            "\ttrain_call_kwargs_params: {'verbose_eval': True, 'num_boost_round': 1250}\n",
            "\tdmatrix_kwargs: {'nthread': 1, 'missing': nan}\n",
            "INFO:XGBoost-PySpark:Finished xgboost training!\n",
            "INFO:XGBoost-PySpark:Running xgboost-2.1.1 on 2 workers with\n",
            "\tbooster params: {'device': 'cpu', 'learning_rate': 0.1, 'max_depth': 6, 'objective': 'reg:squarederror', 'nthread': 1}\n",
            "\ttrain_call_kwargs_params: {'verbose_eval': True, 'num_boost_round': 1250}\n",
            "\tdmatrix_kwargs: {'nthread': 1, 'missing': nan}\n",
            "INFO:XGBoost-PySpark:Finished xgboost training!\n",
            "INFO:XGBoost-PySpark:Running xgboost-2.1.1 on 2 workers with\n",
            "\tbooster params: {'device': 'cpu', 'learning_rate': 0.1, 'max_depth': 7, 'objective': 'reg:squarederror', 'nthread': 1}\n",
            "\ttrain_call_kwargs_params: {'verbose_eval': True, 'num_boost_round': 1250}\n",
            "\tdmatrix_kwargs: {'nthread': 1, 'missing': nan}\n",
            "INFO:XGBoost-PySpark:Finished xgboost training!\n",
            "INFO:XGBoost-PySpark:Running xgboost-2.1.1 on 2 workers with\n",
            "\tbooster params: {'device': 'cpu', 'learning_rate': 0.01, 'max_depth': 5, 'objective': 'reg:squarederror', 'nthread': 1}\n",
            "\ttrain_call_kwargs_params: {'verbose_eval': True, 'num_boost_round': 1000}\n",
            "\tdmatrix_kwargs: {'nthread': 1, 'missing': nan}\n",
            "INFO:XGBoost-PySpark:Finished xgboost training!\n",
            "INFO:XGBoost-PySpark:Running xgboost-2.1.1 on 2 workers with\n",
            "\tbooster params: {'device': 'cpu', 'learning_rate': 0.01, 'max_depth': 6, 'objective': 'reg:squarederror', 'nthread': 1}\n",
            "\ttrain_call_kwargs_params: {'verbose_eval': True, 'num_boost_round': 1000}\n",
            "\tdmatrix_kwargs: {'nthread': 1, 'missing': nan}\n",
            "INFO:XGBoost-PySpark:Finished xgboost training!\n",
            "INFO:XGBoost-PySpark:Running xgboost-2.1.1 on 2 workers with\n",
            "\tbooster params: {'device': 'cpu', 'learning_rate': 0.01, 'max_depth': 7, 'objective': 'reg:squarederror', 'nthread': 1}\n",
            "\ttrain_call_kwargs_params: {'verbose_eval': True, 'num_boost_round': 1000}\n",
            "\tdmatrix_kwargs: {'nthread': 1, 'missing': nan}\n",
            "INFO:XGBoost-PySpark:Finished xgboost training!\n",
            "INFO:XGBoost-PySpark:Running xgboost-2.1.1 on 2 workers with\n",
            "\tbooster params: {'device': 'cpu', 'learning_rate': 0.01, 'max_depth': 5, 'objective': 'reg:squarederror', 'nthread': 1}\n",
            "\ttrain_call_kwargs_params: {'verbose_eval': True, 'num_boost_round': 1250}\n",
            "\tdmatrix_kwargs: {'nthread': 1, 'missing': nan}\n",
            "INFO:XGBoost-PySpark:Finished xgboost training!\n",
            "INFO:XGBoost-PySpark:Running xgboost-2.1.1 on 2 workers with\n",
            "\tbooster params: {'device': 'cpu', 'learning_rate': 0.01, 'max_depth': 6, 'objective': 'reg:squarederror', 'nthread': 1}\n",
            "\ttrain_call_kwargs_params: {'verbose_eval': True, 'num_boost_round': 1250}\n",
            "\tdmatrix_kwargs: {'nthread': 1, 'missing': nan}\n",
            "INFO:XGBoost-PySpark:Finished xgboost training!\n",
            "INFO:XGBoost-PySpark:Running xgboost-2.1.1 on 2 workers with\n",
            "\tbooster params: {'device': 'cpu', 'learning_rate': 0.01, 'max_depth': 7, 'objective': 'reg:squarederror', 'nthread': 1}\n",
            "\ttrain_call_kwargs_params: {'verbose_eval': True, 'num_boost_round': 1250}\n",
            "\tdmatrix_kwargs: {'nthread': 1, 'missing': nan}\n",
            "INFO:XGBoost-PySpark:Finished xgboost training!\n",
            "INFO:XGBoost-PySpark:Running xgboost-2.1.1 on 2 workers with\n",
            "\tbooster params: {'device': 'cpu', 'learning_rate': 0.05, 'max_depth': 5, 'objective': 'reg:squarederror', 'nthread': 1}\n",
            "\ttrain_call_kwargs_params: {'verbose_eval': True, 'num_boost_round': 1000}\n",
            "\tdmatrix_kwargs: {'nthread': 1, 'missing': nan}\n",
            "INFO:XGBoost-PySpark:Finished xgboost training!\n",
            "INFO:XGBoost-PySpark:Running xgboost-2.1.1 on 2 workers with\n",
            "\tbooster params: {'device': 'cpu', 'learning_rate': 0.05, 'max_depth': 6, 'objective': 'reg:squarederror', 'nthread': 1}\n",
            "\ttrain_call_kwargs_params: {'verbose_eval': True, 'num_boost_round': 1000}\n",
            "\tdmatrix_kwargs: {'nthread': 1, 'missing': nan}\n",
            "INFO:XGBoost-PySpark:Finished xgboost training!\n",
            "INFO:XGBoost-PySpark:Running xgboost-2.1.1 on 2 workers with\n",
            "\tbooster params: {'device': 'cpu', 'learning_rate': 0.05, 'max_depth': 7, 'objective': 'reg:squarederror', 'nthread': 1}\n",
            "\ttrain_call_kwargs_params: {'verbose_eval': True, 'num_boost_round': 1000}\n",
            "\tdmatrix_kwargs: {'nthread': 1, 'missing': nan}\n",
            "INFO:XGBoost-PySpark:Finished xgboost training!\n",
            "INFO:XGBoost-PySpark:Running xgboost-2.1.1 on 2 workers with\n",
            "\tbooster params: {'device': 'cpu', 'learning_rate': 0.05, 'max_depth': 5, 'objective': 'reg:squarederror', 'nthread': 1}\n",
            "\ttrain_call_kwargs_params: {'verbose_eval': True, 'num_boost_round': 1250}\n",
            "\tdmatrix_kwargs: {'nthread': 1, 'missing': nan}\n",
            "INFO:XGBoost-PySpark:Finished xgboost training!\n",
            "INFO:XGBoost-PySpark:Running xgboost-2.1.1 on 2 workers with\n",
            "\tbooster params: {'device': 'cpu', 'learning_rate': 0.05, 'max_depth': 6, 'objective': 'reg:squarederror', 'nthread': 1}\n",
            "\ttrain_call_kwargs_params: {'verbose_eval': True, 'num_boost_round': 1250}\n",
            "\tdmatrix_kwargs: {'nthread': 1, 'missing': nan}\n",
            "INFO:XGBoost-PySpark:Finished xgboost training!\n",
            "INFO:XGBoost-PySpark:Running xgboost-2.1.1 on 2 workers with\n",
            "\tbooster params: {'device': 'cpu', 'learning_rate': 0.05, 'max_depth': 7, 'objective': 'reg:squarederror', 'nthread': 1}\n",
            "\ttrain_call_kwargs_params: {'verbose_eval': True, 'num_boost_round': 1250}\n",
            "\tdmatrix_kwargs: {'nthread': 1, 'missing': nan}\n",
            "INFO:XGBoost-PySpark:Finished xgboost training!\n",
            "INFO:XGBoost-PySpark:Running xgboost-2.1.1 on 2 workers with\n",
            "\tbooster params: {'device': 'cpu', 'learning_rate': 0.1, 'max_depth': 5, 'objective': 'reg:squarederror', 'nthread': 1}\n",
            "\ttrain_call_kwargs_params: {'verbose_eval': True, 'num_boost_round': 1000}\n",
            "\tdmatrix_kwargs: {'nthread': 1, 'missing': nan}\n",
            "INFO:XGBoost-PySpark:Finished xgboost training!\n",
            "INFO:XGBoost-PySpark:Running xgboost-2.1.1 on 2 workers with\n",
            "\tbooster params: {'device': 'cpu', 'learning_rate': 0.1, 'max_depth': 6, 'objective': 'reg:squarederror', 'nthread': 1}\n",
            "\ttrain_call_kwargs_params: {'verbose_eval': True, 'num_boost_round': 1000}\n",
            "\tdmatrix_kwargs: {'nthread': 1, 'missing': nan}\n",
            "INFO:XGBoost-PySpark:Finished xgboost training!\n",
            "INFO:XGBoost-PySpark:Running xgboost-2.1.1 on 2 workers with\n",
            "\tbooster params: {'device': 'cpu', 'learning_rate': 0.1, 'max_depth': 7, 'objective': 'reg:squarederror', 'nthread': 1}\n",
            "\ttrain_call_kwargs_params: {'verbose_eval': True, 'num_boost_round': 1000}\n",
            "\tdmatrix_kwargs: {'nthread': 1, 'missing': nan}\n",
            "INFO:XGBoost-PySpark:Finished xgboost training!\n",
            "INFO:XGBoost-PySpark:Running xgboost-2.1.1 on 2 workers with\n",
            "\tbooster params: {'device': 'cpu', 'learning_rate': 0.1, 'max_depth': 5, 'objective': 'reg:squarederror', 'nthread': 1}\n",
            "\ttrain_call_kwargs_params: {'verbose_eval': True, 'num_boost_round': 1250}\n",
            "\tdmatrix_kwargs: {'nthread': 1, 'missing': nan}\n",
            "INFO:XGBoost-PySpark:Finished xgboost training!\n",
            "INFO:XGBoost-PySpark:Running xgboost-2.1.1 on 2 workers with\n",
            "\tbooster params: {'device': 'cpu', 'learning_rate': 0.1, 'max_depth': 6, 'objective': 'reg:squarederror', 'nthread': 1}\n",
            "\ttrain_call_kwargs_params: {'verbose_eval': True, 'num_boost_round': 1250}\n",
            "\tdmatrix_kwargs: {'nthread': 1, 'missing': nan}\n",
            "INFO:XGBoost-PySpark:Finished xgboost training!\n",
            "INFO:XGBoost-PySpark:Running xgboost-2.1.1 on 2 workers with\n",
            "\tbooster params: {'device': 'cpu', 'learning_rate': 0.1, 'max_depth': 7, 'objective': 'reg:squarederror', 'nthread': 1}\n",
            "\ttrain_call_kwargs_params: {'verbose_eval': True, 'num_boost_round': 1250}\n",
            "\tdmatrix_kwargs: {'nthread': 1, 'missing': nan}\n",
            "INFO:XGBoost-PySpark:Finished xgboost training!\n",
            "INFO:XGBoost-PySpark:Running xgboost-2.1.1 on 2 workers with\n",
            "\tbooster params: {'device': 'cpu', 'learning_rate': 0.1, 'max_depth': 7, 'objective': 'reg:squarederror', 'nthread': 1}\n",
            "\ttrain_call_kwargs_params: {'verbose_eval': True, 'num_boost_round': 1250}\n",
            "\tdmatrix_kwargs: {'nthread': 1, 'missing': nan}\n",
            "INFO:XGBoost-PySpark:Finished xgboost training!\n"
          ]
        }
      ],
      "source": [
        "# Fitting the model\n",
        "\n",
        "cv_model= cv.fit(scaled_train)"
      ]
    },
    {
      "cell_type": "code",
      "execution_count": 59,
      "metadata": {
        "collapsed": true,
        "id": "b6lzLmtDtHp6",
        "colab": {
          "base_uri": "https://localhost:8080/"
        },
        "outputId": "0c868f62-6524-4ba4-9113-e0d22d7a47f9"
      },
      "outputs": [
        {
          "output_type": "stream",
          "name": "stdout",
          "text": [
            "Best Hyperparameters:\n",
            "enable_sparse_data_optim: False\n",
            "featuresCol: features_scaled\n",
            "features_cols: []\n",
            "labelCol: log_quote\n",
            "predictionCol: prediction\n",
            "arbitrary_params_dict: {}\n",
            "base_score: None\n",
            "booster: None\n",
            "callbacks: None\n",
            "colsample_bylevel: None\n",
            "colsample_bynode: None\n",
            "colsample_bytree: None\n",
            "device: cpu\n",
            "early_stopping_rounds: None\n",
            "eval_metric: None\n",
            "feature_names: None\n",
            "feature_types: None\n",
            "feature_weights: None\n",
            "force_repartition: False\n",
            "gamma: None\n",
            "grow_policy: None\n",
            "importance_type: None\n",
            "interaction_constraints: None\n",
            "iteration_range: None\n",
            "learning_rate: 0.1\n",
            "max_bin: None\n",
            "max_cat_threshold: None\n",
            "max_cat_to_onehot: None\n",
            "max_delta_step: None\n",
            "max_depth: 7\n",
            "max_leaves: None\n",
            "min_child_weight: None\n",
            "missing: nan\n",
            "monotone_constraints: None\n",
            "multi_strategy: None\n",
            "n_estimators: 1250\n",
            "num_parallel_tree: None\n",
            "num_workers: 2\n",
            "objective: reg:squarederror\n",
            "random_state: None\n",
            "reg_alpha: None\n",
            "reg_lambda: None\n",
            "repartition_random_shuffle: False\n",
            "sampling_method: None\n",
            "scale_pos_weight: None\n",
            "subsample: None\n",
            "tree_method: None\n",
            "use_gpu: False\n",
            "validate_parameters: None\n",
            "verbose: True\n",
            "verbosity: None\n",
            "xgb_model: None\n"
          ]
        }
      ],
      "source": [
        "# Assuming cvModel is your fitted CrossValidator model\n",
        "best_model = cv_model.bestModel\n",
        "\n",
        "# Access the best hyperparameters using extractParamMap\n",
        "best_hyperparameters = best_model.extractParamMap()\n",
        "\n",
        "print(\"Best Hyperparameters:\")\n",
        "for param, value in best_hyperparameters.items():\n",
        "    print(f\"{param.name}: {value}\")"
      ]
    },
    {
      "cell_type": "code",
      "execution_count": 60,
      "metadata": {
        "id": "ll7KrlxBu_C9"
      },
      "outputs": [],
      "source": [
        "# applying the scalaer transform to the test data\n",
        "\n",
        "scaled_test= scaler_model.transform(test)"
      ]
    },
    {
      "cell_type": "markdown",
      "source": [
        "## Predictions"
      ],
      "metadata": {
        "id": "SlZ7y8nplJTY"
      }
    },
    {
      "cell_type": "code",
      "execution_count": 61,
      "metadata": {
        "id": "wTNixwk2vlDk",
        "colab": {
          "base_uri": "https://localhost:8080/"
        },
        "outputId": "f47850f0-5326-4ddd-f1df-865a18636b53"
      },
      "outputs": [
        {
          "output_type": "stream",
          "name": "stdout",
          "text": [
            "The RMSE is 0.2632620191540652\n"
          ]
        }
      ],
      "source": [
        "# test predictions\n",
        "test_predictions= best_model.transform(scaled_test)\n",
        "test_rmse= evaluator.evaluate(test_predictions)\n",
        "\n",
        "print(f'The RMSE is {test_rmse}')"
      ]
    },
    {
      "cell_type": "code",
      "execution_count": 65,
      "metadata": {
        "id": "S-uo8FpfzO7p",
        "colab": {
          "base_uri": "https://localhost:8080/"
        },
        "outputId": "61057a12-34f9-4fb2-b6e7-f7eceeaefb80"
      },
      "outputs": [
        {
          "output_type": "stream",
          "name": "stderr",
          "text": [
            "/usr/local/lib/python3.10/dist-packages/pyspark/sql/context.py:158: FutureWarning: Deprecated in 3.0.0. Use SparkSession.builder.getOrCreate() instead.\n",
            "  warnings.warn(\n"
          ]
        },
        {
          "output_type": "stream",
          "name": "stdout",
          "text": [
            "The R-squared score is: 0.916966961719136\n"
          ]
        }
      ],
      "source": [
        "target_and_preds= test_predictions.select('log_quote', 'prediction').rdd\n",
        "metrics= RegressionMetrics(target_and_preds)\n",
        "r2_score= metrics.r2\n",
        "print(f'The R-squared score is: {r2_score}')"
      ]
    },
    {
      "cell_type": "code",
      "execution_count": 66,
      "metadata": {
        "id": "4kmR9EWr2fa3"
      },
      "outputs": [],
      "source": [
        "test_predictions= test_predictions.withColumn('predicted_quote', exp(test_predictions['prediction']))\n",
        "test_predictions= test_predictions.withColumn('predicted_quote', test_predictions['predicted_quote'].cast('int'))"
      ]
    },
    {
      "cell_type": "code",
      "source": [
        "test_predictions= test_predictions.withColumn('error', test_predictions['quote'] - test_predictions['predicted_quote'])"
      ],
      "metadata": {
        "id": "Oa7LikobncYy"
      },
      "execution_count": 68,
      "outputs": []
    },
    {
      "cell_type": "code",
      "source": [
        "preds_df= test_predictions.select('quote', 'predicted_quote', 'error')\n",
        "preds_df.show()"
      ],
      "metadata": {
        "colab": {
          "base_uri": "https://localhost:8080/"
        },
        "id": "opvLbmDnoBy0",
        "outputId": "6de877fe-23e4-43bf-ed20-4b02f11739d9"
      },
      "execution_count": 69,
      "outputs": [
        {
          "output_type": "stream",
          "name": "stdout",
          "text": [
            "+-------+---------------+-------+\n",
            "|  quote|predicted_quote|  error|\n",
            "+-------+---------------+-------+\n",
            "| 759912|         749999|   9913|\n",
            "| 873428|         834183|  39245|\n",
            "|1000120|         974455|  25665|\n",
            "| 759912|         751215|   8697|\n",
            "| 759912|         726204|  33708|\n",
            "| 759912|         559122| 200790|\n",
            "| 759912|         662452|  97460|\n",
            "| 796120|         805119|  -8999|\n",
            "|1200356|         874858| 325498|\n",
            "|1300192|         928343| 371849|\n",
            "|1960148|        1704048| 256100|\n",
            "|3686160|         610476|3075684|\n",
            "|1500564|        1164789| 335775|\n",
            "| 759912|         921101|-161189|\n",
            "|1600472|         776019| 824453|\n",
            "| 759912|         920133|-160221|\n",
            "| 800120|        1062004|-261884|\n",
            "|2401332|        1546687| 854645|\n",
            "|1700504|        1015559| 684945|\n",
            "|1420784|         875182| 545602|\n",
            "+-------+---------------+-------+\n",
            "only showing top 20 rows\n",
            "\n"
          ]
        }
      ]
    },
    {
      "cell_type": "markdown",
      "source": [
        "## Saving the model"
      ],
      "metadata": {
        "id": "N2ZBOJNKpowb"
      }
    },
    {
      "cell_type": "code",
      "source": [
        "# saving the model\n",
        "best_model.write().overwrite().save('xgb_regressor')"
      ],
      "metadata": {
        "id": "ElcMupQNoy_L"
      },
      "execution_count": 76,
      "outputs": []
    },
    {
      "cell_type": "code",
      "source": [],
      "metadata": {
        "id": "K_yexGmlrlEU"
      },
      "execution_count": null,
      "outputs": []
    }
  ],
  "metadata": {
    "colab": {
      "provenance": []
    },
    "kernelspec": {
      "display_name": "Python 3",
      "name": "python3"
    },
    "language_info": {
      "name": "python"
    }
  },
  "nbformat": 4,
  "nbformat_minor": 0
}