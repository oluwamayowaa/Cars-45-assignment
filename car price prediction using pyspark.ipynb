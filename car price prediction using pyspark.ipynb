{
  "cells": [
    {
      "cell_type": "markdown",
      "metadata": {
        "id": "view-in-github",
        "colab_type": "text"
      },
      "source": [
        "<a href=\"https://colab.research.google.com/github/oluwamayowaa/Cars-45-assignment/blob/main/car%20price%20prediction%20using%20pyspark.ipynb\" target=\"_parent\"><img src=\"https://colab.research.google.com/assets/colab-badge.svg\" alt=\"Open In Colab\"/></a>"
      ]
    },
    {
      "cell_type": "markdown",
      "metadata": {
        "id": "n4nH6pxisEtf"
      },
      "source": [
        "## Importing libraries"
      ]
    },
    {
      "cell_type": "code",
      "execution_count": 1,
      "metadata": {
        "id": "GC3CuhXMgu6a",
        "colab": {
          "base_uri": "https://localhost:8080/"
        },
        "outputId": "af0f2739-5aec-4fd0-835a-3e16e1d8e4f7"
      },
      "outputs": [
        {
          "output_type": "stream",
          "name": "stdout",
          "text": [
            "3.5.3\n"
          ]
        }
      ],
      "source": [
        "import pyspark\n",
        "import numpy as np\n",
        "import pandas as pd\n",
        "import matplotlib.pyplot as plt\n",
        "import seaborn as sns\n",
        "import pyspark.sql.functions as F\n",
        "from pyspark.sql.functions import *\n",
        "from pyspark.sql.types import *\n",
        "from pyspark.ml.feature import Imputer\n",
        "from pyspark.ml.feature import StandardScaler\n",
        "from pyspark.ml.feature import StringIndexer\n",
        "from pyspark.ml.feature import VectorAssembler\n",
        "%matplotlib inline\n",
        "sns.set_theme(context= 'paper', style= 'whitegrid', palette= 'deep', font= 'monospace', font_scale= 1)\n",
        "print(pyspark.__version__)"
      ]
    },
    {
      "cell_type": "code",
      "source": [
        "from pyspark.sql import SparkSession\n",
        "spark= SparkSession.builder.appName('regression').getOrCreate()"
      ],
      "metadata": {
        "id": "_km1cisB_60V"
      },
      "execution_count": 2,
      "outputs": []
    },
    {
      "cell_type": "code",
      "execution_count": 3,
      "metadata": {
        "id": "U2L-7FkOmtoO"
      },
      "outputs": [],
      "source": [
        "def load_and_preprocess_data(file_path):\n",
        "    df= spark.read.csv(file_path, inferSchema= True, header= True)\n",
        "    return df"
      ]
    },
    {
      "cell_type": "code",
      "source": [
        "df= load_and_preprocess_data('/content/drive/MyDrive/ds assignment/Cars_Data_CSV.csv')\n",
        "df.show()"
      ],
      "metadata": {
        "colab": {
          "base_uri": "https://localhost:8080/"
        },
        "id": "D_N3M-Xp_psZ",
        "outputId": "f6b84d96-aa7e-48a2-ecf2-1c1c408ce68b"
      },
      "execution_count": 4,
      "outputs": [
        {
          "output_type": "stream",
          "name": "stdout",
          "text": [
            "+----+-----+-------+----------------+-------------------+------------+---------+----------+------------+----------+----------+---------+--------------------+---------+\n",
            "|make|model|mileage|manufacture_year|engine_displacement|engine_power|body_type|color_slug|transmission|door_count|seat_count|fuel_type|        date_created|price_NGN|\n",
            "+----+-----+-------+----------------+-------------------+------------+---------+----------+------------+----------+----------+---------+--------------------+---------+\n",
            "|audi| NULL| 330000|            1995|               2600|         110|  compact|      NULL|        auto|      None|      None| gasoline|2015-11-14 20:10:...|   873428|\n",
            "|audi|  200|   NULL|            1995|               NULL|        NULL|  compact|      NULL|        NULL|      None|      None| gasoline|2015-11-14 20:11:...|    66616|\n",
            "|audi| NULL|   NULL|            1995|              11199|        NULL|  compact|      NULL|        NULL|      None|      None| gasoline|2015-11-14 20:11:...|    66616|\n",
            "|audi| NULL|   NULL|            1995|               NULL|        NULL|  compact|      NULL|        NULL|      None|      None| gasoline|2015-11-14 20:11:...|    66604|\n",
            "|audi|   a6| 347000|            1995|               NULL|          85|  compact|      NULL|        auto|      None|      None| gasoline|2015-11-14 20:12:...|   843820|\n",
            "|audi|   a4| 325000|            1995|               NULL|        NULL|  compact|      NULL|        NULL|      None|      None| gasoline|2015-11-14 20:24:...|   222056|\n",
            "|audi|   a4|   NULL|            1995|               NULL|        NULL|  compact|      NULL|        NULL|      None|      None| gasoline|2015-11-14 20:30:...|   266468|\n",
            "|audi|   a6|   NULL|            1995|               NULL|          85|  compact|      NULL|        NULL|      None|      None| gasoline|2015-11-14 20:40:...|   518136|\n",
            "|audi|   a4|   NULL|            1995|               NULL|        NULL|  compact|      NULL|        NULL|      None|      None| gasoline|2015-11-14 20:45:...|   251664|\n",
            "|audi|   a6|   NULL|            1995|               NULL|         103|  compact|      NULL|        NULL|      None|      None| gasoline|2015-11-14 20:45:...|   296076|\n",
            "|audi|   a4|   NULL|            1995|              12500|        NULL|  compact|      NULL|        NULL|      None|      None| gasoline|2015-11-14 20:46:...|   185048|\n",
            "|audi|   a6|   NULL|            1995|               2500|         103|  compact|      NULL|        NULL|      None|      None| gasoline|2015-11-14 20:50:...|   296076|\n",
            "|audi|   a6| 351000|            1995|               NULL|        NULL|  compact|      NULL|        NULL|      None|      None| gasoline|2015-11-14 20:52:...|   814212|\n",
            "|audi|   a4|   NULL|            1995|               NULL|        NULL|  compact|      NULL|        NULL|      None|      None| gasoline|2015-11-14 20:57:...|   370096|\n",
            "|audi|   a4|   NULL|            1995|               NULL|        NULL|  compact|      NULL|        NULL|      None|      None| gasoline|2015-11-14 21:00:...|   177648|\n",
            "|audi|   a4|   NULL|            1995|               1800|        NULL|  compact|      NULL|        NULL|      None|      None| gasoline|2015-11-14 21:01:...|       16|\n",
            "|audi|   a8|   NULL|            1995|               8200|        NULL|  compact|      NULL|        NULL|      None|      None| gasoline|2015-11-14 21:05:...|   310880|\n",
            "|audi|   a4|   NULL|            1995|               NULL|          74|  compact|      NULL|        NULL|      None|      None| gasoline|2015-11-14 21:06:...|   488528|\n",
            "|audi|   a4| 282547|            1995|               NULL|        NULL|     NULL|      NULL|        NULL|      None|      None| gasoline|2015-11-14 21:59:...|   220104|\n",
            "|audi|   a4| 256307|            1995|               NULL|        NULL|     NULL|      NULL|        NULL|      None|      None| gasoline|2015-11-14 22:00:...|   678296|\n",
            "+----+-----+-------+----------------+-------------------+------------+---------+----------+------------+----------+----------+---------+--------------------+---------+\n",
            "only showing top 20 rows\n",
            "\n"
          ]
        }
      ]
    },
    {
      "cell_type": "code",
      "execution_count": 5,
      "metadata": {
        "colab": {
          "base_uri": "https://localhost:8080/"
        },
        "id": "cox_oEEkm-Tn",
        "outputId": "cbc5eeba-852f-4546-90a8-9e0bee7285ac"
      },
      "outputs": [
        {
          "output_type": "stream",
          "name": "stdout",
          "text": [
            "root\n",
            " |-- make: string (nullable = true)\n",
            " |-- model: string (nullable = true)\n",
            " |-- mileage: integer (nullable = true)\n",
            " |-- manufacture_year: integer (nullable = true)\n",
            " |-- engine_displacement: integer (nullable = true)\n",
            " |-- engine_power: integer (nullable = true)\n",
            " |-- body_type: string (nullable = true)\n",
            " |-- color_slug: string (nullable = true)\n",
            " |-- transmission: string (nullable = true)\n",
            " |-- door_count: string (nullable = true)\n",
            " |-- seat_count: string (nullable = true)\n",
            " |-- fuel_type: string (nullable = true)\n",
            " |-- date_created: timestamp (nullable = true)\n",
            " |-- price_NGN: long (nullable = true)\n",
            "\n"
          ]
        }
      ],
      "source": [
        "# inspecting the column dtypes\n",
        "\n",
        "df.printSchema()"
      ]
    },
    {
      "cell_type": "code",
      "execution_count": 6,
      "metadata": {
        "id": "OZme_zlSoNVK"
      },
      "outputs": [],
      "source": [
        "numerical_columns= ['door_count', 'seat_count']"
      ]
    },
    {
      "cell_type": "code",
      "execution_count": 7,
      "metadata": {
        "id": "V3KvFWEJnWBN"
      },
      "outputs": [],
      "source": [
        "# converting numerical columns to the appropriate data type\n",
        "for i in numerical_columns:\n",
        "    df= df.withColumn(i, df[i].cast('int'))"
      ]
    },
    {
      "cell_type": "code",
      "execution_count": 8,
      "metadata": {
        "colab": {
          "base_uri": "https://localhost:8080/"
        },
        "id": "DwO_l1gjpTtO",
        "outputId": "47b6ff09-f681-43f5-b40f-483a55998e1d"
      },
      "outputs": [
        {
          "output_type": "stream",
          "name": "stdout",
          "text": [
            "root\n",
            " |-- make: string (nullable = true)\n",
            " |-- model: string (nullable = true)\n",
            " |-- mileage: integer (nullable = true)\n",
            " |-- manufacture_year: integer (nullable = true)\n",
            " |-- engine_displacement: integer (nullable = true)\n",
            " |-- engine_power: integer (nullable = true)\n",
            " |-- body_type: string (nullable = true)\n",
            " |-- color_slug: string (nullable = true)\n",
            " |-- transmission: string (nullable = true)\n",
            " |-- door_count: integer (nullable = true)\n",
            " |-- seat_count: integer (nullable = true)\n",
            " |-- fuel_type: string (nullable = true)\n",
            " |-- date_created: timestamp (nullable = true)\n",
            " |-- price_NGN: long (nullable = true)\n",
            "\n"
          ]
        }
      ],
      "source": [
        "df.printSchema()"
      ]
    },
    {
      "cell_type": "code",
      "execution_count": 9,
      "metadata": {
        "colab": {
          "base_uri": "https://localhost:8080/"
        },
        "id": "-K8QYzUycS6s",
        "outputId": "98d00026-8bfa-4b0c-91e1-d297d61025da"
      },
      "outputs": [
        {
          "output_type": "stream",
          "name": "stdout",
          "text": [
            "+-------+------+------------------+------------------+-----------------+-------------------+------------------+---------+----------+------------+------------------+------------------+---------+--------------------+\n",
            "|summary|  make|             model|           mileage| manufacture_year|engine_displacement|      engine_power|body_type|color_slug|transmission|        door_count|        seat_count|fuel_type|           price_NGN|\n",
            "+-------+------+------------------+------------------+-----------------+-------------------+------------------+---------+----------+------------+------------------+------------------+---------+--------------------+\n",
            "|  count|638562|            454990|            603981|           638562|             489134|            537375|    72636|         0|      541441|            451206|            409865|   638562|              638562|\n",
            "|   mean|  NULL|306.40944189228816|115283.86027209465|2008.724717411935| 2100.2289311313466|105.05205117469178|     NULL|      NULL|        NULL| 3.679583161571433| 4.867810132604638|     NULL|   6171796.440903154|\n",
            "| stddev|  NULL| 315.5725913205059| 365012.4206961075| 5.49549003180245| 1931.0723759889524| 53.30300585077408|     NULL|      NULL|        NULL|0.8441266801049992|0.8618768205936925|     NULL|1.7985859242684588E8|\n",
            "|    min|  audi|               100|                 0|             1995|                 10|                 3|  compact|      NULL|        auto|                 1|                 1|   diesel|                  16|\n",
            "|    max| volvo|                zx|           9999999|             2016|              32000|               999|      van|      NULL|         man|                 6|                74| gasoline|         82310297260|\n",
            "+-------+------+------------------+------------------+-----------------+-------------------+------------------+---------+----------+------------+------------------+------------------+---------+--------------------+\n",
            "\n"
          ]
        }
      ],
      "source": [
        "df.describe().show()"
      ]
    },
    {
      "cell_type": "markdown",
      "metadata": {
        "id": "OeEd2Yb4bzYY"
      },
      "source": [
        "## Handling Missing Values"
      ]
    },
    {
      "cell_type": "code",
      "execution_count": 10,
      "metadata": {
        "colab": {
          "base_uri": "https://localhost:8080/"
        },
        "id": "T4HLSKEKYciU",
        "outputId": "5409dcc0-83f6-4ae9-b30e-438db1b6e0f6"
      },
      "outputs": [
        {
          "output_type": "stream",
          "name": "stdout",
          "text": [
            "+----+-----------------+----------------+----------------+-------------------+------------------+----------------+----------+------------------+------------------+-----------------+---------+------------+---------+\n",
            "|make|            model|         mileage|manufacture_year|engine_displacement|      engine_power|       body_type|color_slug|      transmission|        door_count|       seat_count|fuel_type|date_created|price_NGN|\n",
            "+----+-----------------+----------------+----------------+-------------------+------------------+----------------+----------+------------------+------------------+-----------------+---------+------------+---------+\n",
            "| 0.0|28.74771752782032|5.41544908716773|             0.0|  23.40070345557675|15.846072895036034|88.6250669472972|     100.0|15.209329712698219|29.340298984280306|35.81437667759747|      0.0|         0.0|      0.0|\n",
            "+----+-----------------+----------------+----------------+-------------------+------------------+----------------+----------+------------------+------------------+-----------------+---------+------------+---------+\n",
            "\n"
          ]
        }
      ],
      "source": [
        "# Calculate the percentage of null values for each column in the DataFrame\n",
        "\n",
        "null_percentage_df = df.select([\n",
        "    (count(when(col(c).isNull(), c)) / df.count() * 100).alias(c) for c in df.columns])\n",
        "\n",
        "null_percentage_df.show()"
      ]
    },
    {
      "cell_type": "code",
      "execution_count": 11,
      "metadata": {
        "colab": {
          "base_uri": "https://localhost:8080/",
          "height": 488
        },
        "id": "a41AoPb6dEDq",
        "outputId": "1ee091ac-9162-48d9-ce9b-97872bd75d21"
      },
      "outputs": [
        {
          "output_type": "execute_result",
          "data": {
            "text/plain": [
              "                       %\n",
              "make                   0\n",
              "model                 28\n",
              "mileage                5\n",
              "manufacture_year       0\n",
              "engine_displacement   23\n",
              "engine_power          15\n",
              "body_type             88\n",
              "color_slug           100\n",
              "transmission          15\n",
              "door_count            29\n",
              "seat_count            35\n",
              "fuel_type              0\n",
              "date_created           0\n",
              "price_NGN              0"
            ],
            "text/html": [
              "\n",
              "  <div id=\"df-156c29d0-0533-45fb-bbf8-923fbbd41463\" class=\"colab-df-container\">\n",
              "    <div>\n",
              "<style scoped>\n",
              "    .dataframe tbody tr th:only-of-type {\n",
              "        vertical-align: middle;\n",
              "    }\n",
              "\n",
              "    .dataframe tbody tr th {\n",
              "        vertical-align: top;\n",
              "    }\n",
              "\n",
              "    .dataframe thead th {\n",
              "        text-align: right;\n",
              "    }\n",
              "</style>\n",
              "<table border=\"1\" class=\"dataframe\">\n",
              "  <thead>\n",
              "    <tr style=\"text-align: right;\">\n",
              "      <th></th>\n",
              "      <th>%</th>\n",
              "    </tr>\n",
              "  </thead>\n",
              "  <tbody>\n",
              "    <tr>\n",
              "      <th>make</th>\n",
              "      <td>0</td>\n",
              "    </tr>\n",
              "    <tr>\n",
              "      <th>model</th>\n",
              "      <td>28</td>\n",
              "    </tr>\n",
              "    <tr>\n",
              "      <th>mileage</th>\n",
              "      <td>5</td>\n",
              "    </tr>\n",
              "    <tr>\n",
              "      <th>manufacture_year</th>\n",
              "      <td>0</td>\n",
              "    </tr>\n",
              "    <tr>\n",
              "      <th>engine_displacement</th>\n",
              "      <td>23</td>\n",
              "    </tr>\n",
              "    <tr>\n",
              "      <th>engine_power</th>\n",
              "      <td>15</td>\n",
              "    </tr>\n",
              "    <tr>\n",
              "      <th>body_type</th>\n",
              "      <td>88</td>\n",
              "    </tr>\n",
              "    <tr>\n",
              "      <th>color_slug</th>\n",
              "      <td>100</td>\n",
              "    </tr>\n",
              "    <tr>\n",
              "      <th>transmission</th>\n",
              "      <td>15</td>\n",
              "    </tr>\n",
              "    <tr>\n",
              "      <th>door_count</th>\n",
              "      <td>29</td>\n",
              "    </tr>\n",
              "    <tr>\n",
              "      <th>seat_count</th>\n",
              "      <td>35</td>\n",
              "    </tr>\n",
              "    <tr>\n",
              "      <th>fuel_type</th>\n",
              "      <td>0</td>\n",
              "    </tr>\n",
              "    <tr>\n",
              "      <th>date_created</th>\n",
              "      <td>0</td>\n",
              "    </tr>\n",
              "    <tr>\n",
              "      <th>price_NGN</th>\n",
              "      <td>0</td>\n",
              "    </tr>\n",
              "  </tbody>\n",
              "</table>\n",
              "</div>\n",
              "    <div class=\"colab-df-buttons\">\n",
              "\n",
              "  <div class=\"colab-df-container\">\n",
              "    <button class=\"colab-df-convert\" onclick=\"convertToInteractive('df-156c29d0-0533-45fb-bbf8-923fbbd41463')\"\n",
              "            title=\"Convert this dataframe to an interactive table.\"\n",
              "            style=\"display:none;\">\n",
              "\n",
              "  <svg xmlns=\"http://www.w3.org/2000/svg\" height=\"24px\" viewBox=\"0 -960 960 960\">\n",
              "    <path d=\"M120-120v-720h720v720H120Zm60-500h600v-160H180v160Zm220 220h160v-160H400v160Zm0 220h160v-160H400v160ZM180-400h160v-160H180v160Zm440 0h160v-160H620v160ZM180-180h160v-160H180v160Zm440 0h160v-160H620v160Z\"/>\n",
              "  </svg>\n",
              "    </button>\n",
              "\n",
              "  <style>\n",
              "    .colab-df-container {\n",
              "      display:flex;\n",
              "      gap: 12px;\n",
              "    }\n",
              "\n",
              "    .colab-df-convert {\n",
              "      background-color: #E8F0FE;\n",
              "      border: none;\n",
              "      border-radius: 50%;\n",
              "      cursor: pointer;\n",
              "      display: none;\n",
              "      fill: #1967D2;\n",
              "      height: 32px;\n",
              "      padding: 0 0 0 0;\n",
              "      width: 32px;\n",
              "    }\n",
              "\n",
              "    .colab-df-convert:hover {\n",
              "      background-color: #E2EBFA;\n",
              "      box-shadow: 0px 1px 2px rgba(60, 64, 67, 0.3), 0px 1px 3px 1px rgba(60, 64, 67, 0.15);\n",
              "      fill: #174EA6;\n",
              "    }\n",
              "\n",
              "    .colab-df-buttons div {\n",
              "      margin-bottom: 4px;\n",
              "    }\n",
              "\n",
              "    [theme=dark] .colab-df-convert {\n",
              "      background-color: #3B4455;\n",
              "      fill: #D2E3FC;\n",
              "    }\n",
              "\n",
              "    [theme=dark] .colab-df-convert:hover {\n",
              "      background-color: #434B5C;\n",
              "      box-shadow: 0px 1px 3px 1px rgba(0, 0, 0, 0.15);\n",
              "      filter: drop-shadow(0px 1px 2px rgba(0, 0, 0, 0.3));\n",
              "      fill: #FFFFFF;\n",
              "    }\n",
              "  </style>\n",
              "\n",
              "    <script>\n",
              "      const buttonEl =\n",
              "        document.querySelector('#df-156c29d0-0533-45fb-bbf8-923fbbd41463 button.colab-df-convert');\n",
              "      buttonEl.style.display =\n",
              "        google.colab.kernel.accessAllowed ? 'block' : 'none';\n",
              "\n",
              "      async function convertToInteractive(key) {\n",
              "        const element = document.querySelector('#df-156c29d0-0533-45fb-bbf8-923fbbd41463');\n",
              "        const dataTable =\n",
              "          await google.colab.kernel.invokeFunction('convertToInteractive',\n",
              "                                                    [key], {});\n",
              "        if (!dataTable) return;\n",
              "\n",
              "        const docLinkHtml = 'Like what you see? Visit the ' +\n",
              "          '<a target=\"_blank\" href=https://colab.research.google.com/notebooks/data_table.ipynb>data table notebook</a>'\n",
              "          + ' to learn more about interactive tables.';\n",
              "        element.innerHTML = '';\n",
              "        dataTable['output_type'] = 'display_data';\n",
              "        await google.colab.output.renderOutput(dataTable, element);\n",
              "        const docLink = document.createElement('div');\n",
              "        docLink.innerHTML = docLinkHtml;\n",
              "        element.appendChild(docLink);\n",
              "      }\n",
              "    </script>\n",
              "  </div>\n",
              "\n",
              "\n",
              "<div id=\"df-2d01bc7d-084b-4a70-a77b-e3bd4c3f2fd5\">\n",
              "  <button class=\"colab-df-quickchart\" onclick=\"quickchart('df-2d01bc7d-084b-4a70-a77b-e3bd4c3f2fd5')\"\n",
              "            title=\"Suggest charts\"\n",
              "            style=\"display:none;\">\n",
              "\n",
              "<svg xmlns=\"http://www.w3.org/2000/svg\" height=\"24px\"viewBox=\"0 0 24 24\"\n",
              "     width=\"24px\">\n",
              "    <g>\n",
              "        <path d=\"M19 3H5c-1.1 0-2 .9-2 2v14c0 1.1.9 2 2 2h14c1.1 0 2-.9 2-2V5c0-1.1-.9-2-2-2zM9 17H7v-7h2v7zm4 0h-2V7h2v10zm4 0h-2v-4h2v4z\"/>\n",
              "    </g>\n",
              "</svg>\n",
              "  </button>\n",
              "\n",
              "<style>\n",
              "  .colab-df-quickchart {\n",
              "      --bg-color: #E8F0FE;\n",
              "      --fill-color: #1967D2;\n",
              "      --hover-bg-color: #E2EBFA;\n",
              "      --hover-fill-color: #174EA6;\n",
              "      --disabled-fill-color: #AAA;\n",
              "      --disabled-bg-color: #DDD;\n",
              "  }\n",
              "\n",
              "  [theme=dark] .colab-df-quickchart {\n",
              "      --bg-color: #3B4455;\n",
              "      --fill-color: #D2E3FC;\n",
              "      --hover-bg-color: #434B5C;\n",
              "      --hover-fill-color: #FFFFFF;\n",
              "      --disabled-bg-color: #3B4455;\n",
              "      --disabled-fill-color: #666;\n",
              "  }\n",
              "\n",
              "  .colab-df-quickchart {\n",
              "    background-color: var(--bg-color);\n",
              "    border: none;\n",
              "    border-radius: 50%;\n",
              "    cursor: pointer;\n",
              "    display: none;\n",
              "    fill: var(--fill-color);\n",
              "    height: 32px;\n",
              "    padding: 0;\n",
              "    width: 32px;\n",
              "  }\n",
              "\n",
              "  .colab-df-quickchart:hover {\n",
              "    background-color: var(--hover-bg-color);\n",
              "    box-shadow: 0 1px 2px rgba(60, 64, 67, 0.3), 0 1px 3px 1px rgba(60, 64, 67, 0.15);\n",
              "    fill: var(--button-hover-fill-color);\n",
              "  }\n",
              "\n",
              "  .colab-df-quickchart-complete:disabled,\n",
              "  .colab-df-quickchart-complete:disabled:hover {\n",
              "    background-color: var(--disabled-bg-color);\n",
              "    fill: var(--disabled-fill-color);\n",
              "    box-shadow: none;\n",
              "  }\n",
              "\n",
              "  .colab-df-spinner {\n",
              "    border: 2px solid var(--fill-color);\n",
              "    border-color: transparent;\n",
              "    border-bottom-color: var(--fill-color);\n",
              "    animation:\n",
              "      spin 1s steps(1) infinite;\n",
              "  }\n",
              "\n",
              "  @keyframes spin {\n",
              "    0% {\n",
              "      border-color: transparent;\n",
              "      border-bottom-color: var(--fill-color);\n",
              "      border-left-color: var(--fill-color);\n",
              "    }\n",
              "    20% {\n",
              "      border-color: transparent;\n",
              "      border-left-color: var(--fill-color);\n",
              "      border-top-color: var(--fill-color);\n",
              "    }\n",
              "    30% {\n",
              "      border-color: transparent;\n",
              "      border-left-color: var(--fill-color);\n",
              "      border-top-color: var(--fill-color);\n",
              "      border-right-color: var(--fill-color);\n",
              "    }\n",
              "    40% {\n",
              "      border-color: transparent;\n",
              "      border-right-color: var(--fill-color);\n",
              "      border-top-color: var(--fill-color);\n",
              "    }\n",
              "    60% {\n",
              "      border-color: transparent;\n",
              "      border-right-color: var(--fill-color);\n",
              "    }\n",
              "    80% {\n",
              "      border-color: transparent;\n",
              "      border-right-color: var(--fill-color);\n",
              "      border-bottom-color: var(--fill-color);\n",
              "    }\n",
              "    90% {\n",
              "      border-color: transparent;\n",
              "      border-bottom-color: var(--fill-color);\n",
              "    }\n",
              "  }\n",
              "</style>\n",
              "\n",
              "  <script>\n",
              "    async function quickchart(key) {\n",
              "      const quickchartButtonEl =\n",
              "        document.querySelector('#' + key + ' button');\n",
              "      quickchartButtonEl.disabled = true;  // To prevent multiple clicks.\n",
              "      quickchartButtonEl.classList.add('colab-df-spinner');\n",
              "      try {\n",
              "        const charts = await google.colab.kernel.invokeFunction(\n",
              "            'suggestCharts', [key], {});\n",
              "      } catch (error) {\n",
              "        console.error('Error during call to suggestCharts:', error);\n",
              "      }\n",
              "      quickchartButtonEl.classList.remove('colab-df-spinner');\n",
              "      quickchartButtonEl.classList.add('colab-df-quickchart-complete');\n",
              "    }\n",
              "    (() => {\n",
              "      let quickchartButtonEl =\n",
              "        document.querySelector('#df-2d01bc7d-084b-4a70-a77b-e3bd4c3f2fd5 button');\n",
              "      quickchartButtonEl.style.display =\n",
              "        google.colab.kernel.accessAllowed ? 'block' : 'none';\n",
              "    })();\n",
              "  </script>\n",
              "</div>\n",
              "\n",
              "    </div>\n",
              "  </div>\n"
            ],
            "application/vnd.google.colaboratory.intrinsic+json": {
              "type": "dataframe",
              "summary": "{\n  \"name\": \"missing_df[:]\",\n  \"rows\": 14,\n  \"fields\": [\n    {\n      \"column\": \"%\",\n      \"properties\": {\n        \"dtype\": \"number\",\n        \"std\": 32,\n        \"min\": 0,\n        \"max\": 100,\n        \"num_unique_values\": 9,\n        \"samples\": [\n          29,\n          28,\n          88\n        ],\n        \"semantic_type\": \"\",\n        \"description\": \"\"\n      }\n    }\n  ]\n}"
            }
          },
          "metadata": {},
          "execution_count": 11
        }
      ],
      "source": [
        "total_rows= df.count() # the total numbers of enteries in the dataset\n",
        "missing_perct= df.select([((count(when(col(c).isNull(), c)) / total_rows * 100)).alias(c) for c in df.columns])\n",
        "missing_df= missing_perct.toPandas().astype('int').T\n",
        "missing_df.columns = ['%']\n",
        "missing_df[:]"
      ]
    },
    {
      "cell_type": "markdown",
      "metadata": {
        "id": "zG-5_Spwtnqy"
      },
      "source": [
        "Visualizing the plot of missing values per column:"
      ]
    },
    {
      "cell_type": "code",
      "execution_count": 12,
      "metadata": {
        "colab": {
          "base_uri": "https://localhost:8080/",
          "height": 609
        },
        "id": "GSIzes3qEkEA",
        "outputId": "91003cc9-8729-42bd-8fe5-87d98805b8a5"
      },
      "outputs": [
        {
          "output_type": "display_data",
          "data": {
            "text/plain": [
              "<Figure size 640x480 with 1 Axes>"
            ],
            "image/png": "[encoded data removed]"
          },
          "metadata": {}
        }
      ],
      "source": [
        "sns.barplot(data= missing_df, x= missing_df.index, y= '%')\n",
        "sns.despine(offset=10, trim=True)\n",
        "plt.xticks(rotation= 90)\n",
        "plt.ylabel('Percent missing')\n",
        "plt.xlabel('Column')\n",
        "plt.title('Missing Value Plot')\n",
        "plt.show()"
      ]
    },
    {
      "cell_type": "markdown",
      "metadata": {
        "id": "F-BlpIu2CmaR"
      },
      "source": [
        "The analysis of the dataset reveals that the `body_type` and `color_slug` columns have a significant proportion of missing values—88% and 100%, respectively. I will drop columns with 30% or more missing values. Additionally, the `date_created` column is not useful for modeling. Consequently, the `body_type`, `color_slug`, `seat_count`, and `date_created` columns will be removed from the dataframe.\n"
      ]
    },
    {
      "cell_type": "code",
      "source": [
        "def handle_missing_values(df, columns_to_drop):\n",
        "    for column in columns_to_drop:\n",
        "        df= df.drop(column)\n",
        "    return df"
      ],
      "metadata": {
        "id": "tsRhf3b4CHn3"
      },
      "execution_count": 13,
      "outputs": []
    },
    {
      "cell_type": "code",
      "execution_count": 14,
      "metadata": {
        "id": "LVEah6QCEdV9"
      },
      "outputs": [],
      "source": [
        "columns_to_drop= ['body_type', 'color_slug', 'seat_count', 'date_created']\n",
        "df= handle_missing_values(df, columns_to_drop)"
      ]
    },
    {
      "cell_type": "markdown",
      "metadata": {
        "id": "ezRfFXeexqK6"
      },
      "source": [
        "### Handling missing values in categorical columns."
      ]
    },
    {
      "cell_type": "markdown",
      "metadata": {
        "id": "WyUn4UK3z3AP"
      },
      "source": [
        "**Model**"
      ]
    },
    {
      "cell_type": "code",
      "execution_count": 15,
      "metadata": {
        "colab": {
          "base_uri": "https://localhost:8080/"
        },
        "id": "e3KUr9Zl0DuA",
        "outputId": "b08900a2-0c5d-4151-90de-47e511df55ea"
      },
      "outputs": [
        {
          "output_type": "stream",
          "name": "stdout",
          "text": [
            "There are 183572 null values in the model colum\n"
          ]
        }
      ],
      "source": [
        "missing_model_count= df.filter(col('model').isNull()).count()\n",
        "print(f'There are {missing_model_count} null values in the model colum')"
      ]
    },
    {
      "cell_type": "markdown",
      "metadata": {
        "id": "L1kHSy5S2NPG"
      },
      "source": [
        "\n",
        "I will create a new column in the DataFrame to indicate whether the `model` column contains null values.\n"
      ]
    },
    {
      "cell_type": "code",
      "execution_count": 16,
      "metadata": {
        "id": "k8NgkIG30klT"
      },
      "outputs": [],
      "source": [
        "df= df.withColumn('known_model', when(df.model.isNotNull(), 1).otherwise(0))"
      ]
    },
    {
      "cell_type": "markdown",
      "metadata": {
        "id": "OyEXrzN69CVU"
      },
      "source": [
        "**Transmission**"
      ]
    },
    {
      "cell_type": "code",
      "execution_count": 17,
      "metadata": {
        "colab": {
          "base_uri": "https://localhost:8080/"
        },
        "id": "tSn3UCtH9lgt",
        "outputId": "8726d040-b951-47e2-e58c-70c9d123d1b9"
      },
      "outputs": [
        {
          "output_type": "stream",
          "name": "stdout",
          "text": [
            "+------------+---------+----------+\n",
            "|transmission|frequency|null_count|\n",
            "+------------+---------+----------+\n",
            "|         man|   360588|         0|\n",
            "|        auto|   180853|         0|\n",
            "|        NULL|        0|     97121|\n",
            "+------------+---------+----------+\n",
            "\n"
          ]
        }
      ],
      "source": [
        "# finding the number of missing values in the transmission column\n",
        "\n",
        "transmission_count= df.groupBy('transmission').agg(\n",
        "    count('transmission').alias('frequency'),\n",
        "    count(when(col('transmission').isNull(), 1)).alias('null_count'))\n",
        "\n",
        "transmission_count.show()"
      ]
    },
    {
      "cell_type": "markdown",
      "metadata": {
        "id": "-HYU8E7oqYs3"
      },
      "source": [
        "\n",
        "\n",
        "I will add a new column to the DataFrame to indicate the presence of unknown transmission types.\n"
      ]
    },
    {
      "cell_type": "code",
      "execution_count": 18,
      "metadata": {
        "id": "NQDThoTPqQ6F"
      },
      "outputs": [],
      "source": [
        "df= df.withColumn(\n",
        "    'new_transmission',\n",
        "    when(df.transmission == 'man', 'manual')\n",
        "    .when(df.transmission == 'auto', 'automatic')\n",
        "    .otherwise('unknown')\n",
        ")"
      ]
    },
    {
      "cell_type": "markdown",
      "metadata": {
        "id": "F2678LBgE4au"
      },
      "source": [
        "**Fuel Type**"
      ]
    },
    {
      "cell_type": "code",
      "execution_count": 19,
      "metadata": {
        "colab": {
          "base_uri": "https://localhost:8080/"
        },
        "id": "mfkHJFv2E3sI",
        "outputId": "bfd9ef05-423e-43ad-a57a-ce0b07ec4e6b"
      },
      "outputs": [
        {
          "output_type": "stream",
          "name": "stdout",
          "text": [
            "+---------+---------+----------+\n",
            "|fuel_type|frequency|null_count|\n",
            "+---------+---------+----------+\n",
            "| gasoline|   340676|         0|\n",
            "|   diesel|   297886|         0|\n",
            "+---------+---------+----------+\n",
            "\n"
          ]
        }
      ],
      "source": [
        "# Group by fuel_type\n",
        "\n",
        "fuel_type_count= df.groupBy('fuel_type').agg(\n",
        "    count('fuel_type').alias('frequency'),\n",
        "    count(when(col('fuel_type').isNull(), 1)).alias('null_count')\n",
        ")\n",
        "\n",
        "fuel_type_count.show()"
      ]
    },
    {
      "cell_type": "markdown",
      "metadata": {
        "id": "--AAV3AZrBii"
      },
      "source": [
        "I will utilize Spark's StringIndexer to transform the `new_transmission` and `fuel_type` columns into indexed values."
      ]
    },
    {
      "cell_type": "code",
      "execution_count": 20,
      "metadata": {
        "id": "V0vajr2FpS1R"
      },
      "outputs": [],
      "source": [
        "categorical_cols= ['new_transmission', 'fuel_type']\n",
        "\n",
        "indexer= StringIndexer(\n",
        "    inputCols= categorical_cols,\n",
        "    outputCols= [c + '_index' for c in categorical_cols]\n",
        ")\n",
        "\n",
        "df= indexer.fit(df).transform(df)"
      ]
    },
    {
      "cell_type": "code",
      "source": [
        "df= df.drop('transmission')\\\n",
        ".drop('new_transmission')\\\n",
        ".drop('fuel_type')\n"
      ],
      "metadata": {
        "id": "kdNELmfwEgb0"
      },
      "execution_count": 21,
      "outputs": []
    },
    {
      "cell_type": "code",
      "execution_count": 22,
      "metadata": {
        "colab": {
          "base_uri": "https://localhost:8080/"
        },
        "id": "alel_BpyxfDP",
        "outputId": "5c872d21-8352-4440-eedf-b1b570a8a3f0"
      },
      "outputs": [
        {
          "output_type": "stream",
          "name": "stdout",
          "text": [
            "+----+-----+-------+----------------+-------------------+------------+----------+---------+-----------+----------------------+---------------+\n",
            "|make|model|mileage|manufacture_year|engine_displacement|engine_power|door_count|price_NGN|known_model|new_transmission_index|fuel_type_index|\n",
            "+----+-----+-------+----------------+-------------------+------------+----------+---------+-----------+----------------------+---------------+\n",
            "|audi| NULL| 330000|            1995|               2600|         110|      NULL|   873428|          0|                   1.0|            0.0|\n",
            "|audi|  200|   NULL|            1995|               NULL|        NULL|      NULL|    66616|          1|                   2.0|            0.0|\n",
            "|audi| NULL|   NULL|            1995|              11199|        NULL|      NULL|    66616|          0|                   2.0|            0.0|\n",
            "|audi| NULL|   NULL|            1995|               NULL|        NULL|      NULL|    66604|          0|                   2.0|            0.0|\n",
            "|audi|   a6| 347000|            1995|               NULL|          85|      NULL|   843820|          1|                   1.0|            0.0|\n",
            "+----+-----+-------+----------------+-------------------+------------+----------+---------+-----------+----------------------+---------------+\n",
            "only showing top 5 rows\n",
            "\n"
          ]
        }
      ],
      "source": [
        "# Inspecting the dataframe\n",
        "\n",
        "df.show(5)"
      ]
    },
    {
      "cell_type": "markdown",
      "metadata": {
        "id": "2X-bEIhC0vE6"
      },
      "source": [
        "### Handling missing values in numerical columns."
      ]
    },
    {
      "cell_type": "code",
      "execution_count": 23,
      "metadata": {
        "colab": {
          "base_uri": "https://localhost:8080/"
        },
        "id": "a-Ch8_jvsXbf",
        "outputId": "a2b28a30-4d18-45a5-d133-8896a89e12ba"
      },
      "outputs": [
        {
          "output_type": "execute_result",
          "data": {
            "text/plain": [
              "37"
            ]
          },
          "metadata": {},
          "execution_count": 23
        }
      ],
      "source": [
        "# Inspecting the unique car brands in the dataframe\n",
        "\n",
        "df.select('make').distinct().count()"
      ]
    },
    {
      "cell_type": "code",
      "execution_count": 24,
      "metadata": {
        "colab": {
          "base_uri": "https://localhost:8080/"
        },
        "id": "ySIr70KiXBEu",
        "outputId": "fb7802b3-bb80-40f9-cf5e-217b03119e07"
      },
      "outputs": [
        {
          "output_type": "stream",
          "name": "stdout",
          "text": [
            "+----+-------+----------------+-------------------+------------+----------+-----------+----------------------+---------------+------+\n",
            "|make|mileage|manufacture_year|engine_displacement|engine_power|door_count|known_model|new_transmission_index|fuel_type_index| price|\n",
            "+----+-------+----------------+-------------------+------------+----------+-----------+----------------------+---------------+------+\n",
            "|audi| 330000|            1995|               2600|         110|      NULL|          0|                   1.0|            0.0|873428|\n",
            "|audi|   NULL|            1995|               NULL|        NULL|      NULL|          1|                   2.0|            0.0| 66616|\n",
            "|audi|   NULL|            1995|              11199|        NULL|      NULL|          0|                   2.0|            0.0| 66616|\n",
            "|audi|   NULL|            1995|               NULL|        NULL|      NULL|          0|                   2.0|            0.0| 66604|\n",
            "|audi| 347000|            1995|               NULL|          85|      NULL|          1|                   1.0|            0.0|843820|\n",
            "|audi| 325000|            1995|               NULL|        NULL|      NULL|          1|                   2.0|            0.0|222056|\n",
            "|audi|   NULL|            1995|               NULL|        NULL|      NULL|          1|                   2.0|            0.0|266468|\n",
            "|audi|   NULL|            1995|               NULL|          85|      NULL|          1|                   2.0|            0.0|518136|\n",
            "|audi|   NULL|            1995|               NULL|        NULL|      NULL|          1|                   2.0|            0.0|251664|\n",
            "|audi|   NULL|            1995|               NULL|         103|      NULL|          1|                   2.0|            0.0|296076|\n",
            "|audi|   NULL|            1995|              12500|        NULL|      NULL|          1|                   2.0|            0.0|185048|\n",
            "|audi|   NULL|            1995|               2500|         103|      NULL|          1|                   2.0|            0.0|296076|\n",
            "|audi| 351000|            1995|               NULL|        NULL|      NULL|          1|                   2.0|            0.0|814212|\n",
            "|audi|   NULL|            1995|               NULL|        NULL|      NULL|          1|                   2.0|            0.0|370096|\n",
            "|audi|   NULL|            1995|               NULL|        NULL|      NULL|          1|                   2.0|            0.0|177648|\n",
            "|audi|   NULL|            1995|               1800|        NULL|      NULL|          1|                   2.0|            0.0|    16|\n",
            "|audi|   NULL|            1995|               8200|        NULL|      NULL|          1|                   2.0|            0.0|310880|\n",
            "|audi|   NULL|            1995|               NULL|          74|      NULL|          1|                   2.0|            0.0|488528|\n",
            "|audi| 282547|            1995|               NULL|        NULL|      NULL|          1|                   2.0|            0.0|220104|\n",
            "|audi| 256307|            1995|               NULL|        NULL|      NULL|          1|                   2.0|            0.0|678296|\n",
            "+----+-------+----------------+-------------------+------------+----------+-----------+----------------------+---------------+------+\n",
            "only showing top 20 rows\n",
            "\n"
          ]
        }
      ],
      "source": [
        "df2= df.select('make', 'mileage', 'manufacture_year', 'engine_displacement', 'engine_power', 'door_count', 'known_model', 'new_transmission_index', 'fuel_type_index', (df.price_NGN).alias('price'))\n",
        "\n",
        "df2.show()"
      ]
    },
    {
      "cell_type": "code",
      "execution_count": 25,
      "metadata": {
        "id": "f3sn7C4guxQu"
      },
      "outputs": [],
      "source": [
        "distinct_brands= df.select('make').distinct().toPandas()\n",
        "brand_list= sorted(distinct_brands['make'].tolist())"
      ]
    },
    {
      "cell_type": "code",
      "execution_count": 26,
      "metadata": {
        "id": "QeCONVHXgQPt"
      },
      "outputs": [],
      "source": [
        "feature_columns= ['mileage', 'engine_displacement', 'engine_power', 'door_count']\n",
        "\n",
        "# Initiating the imputer\n",
        "imputer= Imputer(inputCols= feature_columns, outputCols= [f'imputed_{c}' for c in feature_columns])"
      ]
    },
    {
      "cell_type": "markdown",
      "metadata": {
        "id": "F54qi--KZbh8"
      },
      "source": [
        "Splitting the dataframe into a list of dataframes with each dataframe containing only enteries with distinct makes."
      ]
    },
    {
      "cell_type": "code",
      "execution_count": 27,
      "metadata": {
        "id": "ZheuWHQp9xm7"
      },
      "outputs": [],
      "source": [
        "data= []\n",
        "\n",
        "for i in brand_list:\n",
        "    sub_df= df2.filter(col('make')== i)\n",
        "    transformed_df= imputer.setStrategy('median').fit(sub_df).transform(sub_df)\n",
        "    data.append(transformed_df)"
      ]
    },
    {
      "cell_type": "markdown",
      "metadata": {
        "id": "wzfBLdaHq0zF"
      },
      "source": [
        "## Handling Outliers in the dataset."
      ]
    },
    {
      "cell_type": "code",
      "execution_count": 28,
      "metadata": {
        "colab": {
          "base_uri": "https://localhost:8080/"
        },
        "id": "FE7ZblNgv_UT",
        "outputId": "0130c708-09be-4897-8812-c3d146ab9700"
      },
      "outputs": [
        {
          "output_type": "stream",
          "name": "stdout",
          "text": [
            "+-------+------------------+-------------------+------------------+------------------+--------------------+\n",
            "|summary|           mileage|engine_displacement|      engine_power|        door_count|               price|\n",
            "+-------+------------------+-------------------+------------------+------------------+--------------------+\n",
            "|  count|            603981|             489134|            537375|            451206|              638562|\n",
            "|   mean|115283.86027209465| 2100.2289311313466|105.05205117469178| 3.679583161571433|   6171796.440903154|\n",
            "| stddev| 365012.4206961075| 1931.0723759889524| 53.30300585077408|0.8441266801049992|1.7985859242684588E8|\n",
            "|    min|                 0|                 10|                 3|                 1|                  16|\n",
            "|    25%|             22000|               1461|                73|                 4|             1600592|\n",
            "|    50%|             82500|               1898|                94|                 4|             3980296|\n",
            "|    75%|            150000|               2143|               125|                 4|             7375928|\n",
            "|    max|           9999999|              32000|               999|                 6|         82310297260|\n",
            "+-------+------------------+-------------------+------------------+------------------+--------------------+\n",
            "\n"
          ]
        }
      ],
      "source": [
        "# Inspecting the columns with numerical values\n",
        "\n",
        "df2.select('mileage', 'engine_displacement', 'engine_power', 'door_count', 'price').summary().show()"
      ]
    },
    {
      "cell_type": "markdown",
      "metadata": {
        "id": "RyUtKnm4tDhs"
      },
      "source": [
        "Key observations based on the information obtained:\n",
        "\n",
        "\n",
        "1.   The dataset exhibits a significant disparity between the minimum and maximum car prices.\n",
        "2.   The `mileage` column also displays a substantial range between its third quantile and maximum values, indicating the presence of potential outliers. Same with `engine_displacement`.\n",
        "3.   A maximum value of 999 HP for `engine_power` is also very high. While some cars might pack such power, one could assume that this is a data entry error.\n"
      ]
    },
    {
      "cell_type": "markdown",
      "metadata": {
        "id": "CD0ulAZpzwMc"
      },
      "source": [
        "To handle outliers in the dataset, I will apply winsorization. This technique involves capping the extreme values in the data to reduce the effect of possibly outliers. By limiting the range of the data, winsorization helps to ensure that the analysis is not influenced by extreme values, leading to more reliable results."
      ]
    },
    {
      "cell_type": "code",
      "source": [
        "def calculate_quantile(data, column_name, lower_limit, upper_limit):\n",
        "    quantiles= data.approxQuantile([column_name], [lower_limit, upper_limit], 0.05)\n",
        "    return quantiles[0]\n",
        "\n",
        "def filter_value(data, column_name, min_value, max_value):\n",
        "    data= data.withColumn(column_name,\n",
        "        when(data[column_name] < min_value, min_value)\n",
        "        .when(data[column_name] > max_value, max_value)\n",
        "        .otherwise(data[column_name]))\n",
        "    return data"
      ],
      "metadata": {
        "id": "tz1k_52YJ7_9"
      },
      "execution_count": 29,
      "outputs": []
    },
    {
      "cell_type": "code",
      "source": [
        "train_df= []\n",
        "\n",
        "for i in data:\n",
        "    price_caps= calculate_quantile(data= i, column_name= 'price', lower_limit=0.1, upper_limit=0.9)\n",
        "    mileage_caps= calculate_quantile(data= i, column_name= 'imputed_mileage', lower_limit=0.2, upper_limit=0.8)\n",
        "\n",
        "    df= filter_value(data= i, column_name= 'price', min_value= price_caps[0], max_value= price_caps[1])\n",
        "    df= filter_value(data= df, column_name= 'imputed_mileage', min_value= mileage_caps[0], max_value= mileage_caps[1])\n",
        "    df= filter_value(data= df, column_name= 'imputed_engine_displacement', min_value= 1000, max_value= 5000)\n",
        "    df= filter_value(data= df, column_name= 'imputed_engine_power', min_value= 50, max_value= 650)\n",
        "\n",
        "    train_df.append(df)\n"
      ],
      "metadata": {
        "id": "RtfydenPOB14"
      },
      "execution_count": 30,
      "outputs": []
    },
    {
      "cell_type": "markdown",
      "metadata": {
        "id": "CO-T9IBmrTET"
      },
      "source": [
        "## Merging the dataframes"
      ]
    },
    {
      "cell_type": "code",
      "source": [
        "merged_df= train_df[0]\n",
        "for i in train_df[1:]:\n",
        "    merged_df= merged_df.union(i)"
      ],
      "metadata": {
        "id": "ejErzxIOUKNT"
      },
      "execution_count": 31,
      "outputs": []
    },
    {
      "cell_type": "code",
      "execution_count": 32,
      "metadata": {
        "colab": {
          "base_uri": "https://localhost:8080/"
        },
        "id": "ot2gelFcorus",
        "outputId": "345f8ca8-40b4-49ac-e478-cf84b92ad88f"
      },
      "outputs": [
        {
          "output_type": "stream",
          "name": "stdout",
          "text": [
            "+----+-------+----------------+-------------------+------------+----------+-----------+----------------------+---------------+--------+---------------+---------------------------+--------------------+------------------+\n",
            "|make|mileage|manufacture_year|engine_displacement|engine_power|door_count|known_model|new_transmission_index|fuel_type_index|   price|imputed_mileage|imputed_engine_displacement|imputed_engine_power|imputed_door_count|\n",
            "+----+-------+----------------+-------------------+------------+----------+-----------+----------------------+---------------+--------+---------------+---------------------------+--------------------+------------------+\n",
            "|audi| 330000|            1995|               2600|         110|      NULL|          0|                   1.0|            0.0|873428.0|       173500.0|                       2600|                 110|                 4|\n",
            "|audi|   NULL|            1995|               NULL|        NULL|      NULL|          1|                   2.0|            0.0|759912.0|        85000.0|                       1968|                 120|                 4|\n",
            "|audi|   NULL|            1995|              11199|        NULL|      NULL|          0|                   2.0|            0.0|759912.0|        85000.0|                       5000|                 120|                 4|\n",
            "|audi|   NULL|            1995|               NULL|        NULL|      NULL|          0|                   2.0|            0.0|759912.0|        85000.0|                       1968|                 120|                 4|\n",
            "|audi| 347000|            1995|               NULL|          85|      NULL|          1|                   1.0|            0.0|843820.0|       173500.0|                       1968|                  85|                 4|\n",
            "+----+-------+----------------+-------------------+------------+----------+-----------+----------------------+---------------+--------+---------------+---------------------------+--------------------+------------------+\n",
            "only showing top 5 rows\n",
            "\n"
          ]
        }
      ],
      "source": [
        "merged_df.show(5)"
      ]
    },
    {
      "cell_type": "code",
      "execution_count": 33,
      "metadata": {
        "id": "Y5zZk3B2JdzD"
      },
      "outputs": [],
      "source": [
        "# converting the column types for uniformity\n",
        "\n",
        "merged_df= merged_df.withColumn('new_transmission_index', merged_df['new_transmission_index'].cast('int'))\n",
        "merged_df= merged_df.withColumn('fuel_type_index', merged_df['fuel_type_index'].cast('int'))\n",
        "merged_df= merged_df.withColumn('price', merged_df['price'].cast('long'))\n",
        "merged_df= merged_df.withColumn('imputed_mileage', merged_df['imputed_mileage'].cast('int'))"
      ]
    },
    {
      "cell_type": "code",
      "source": [
        "merged_df= handle_missing_values(merged_df, ['mileage', 'engine_displacement', 'engine_power', 'door_count'])"
      ],
      "metadata": {
        "id": "a0JPzEzLcthG"
      },
      "execution_count": 34,
      "outputs": []
    },
    {
      "cell_type": "code",
      "execution_count": 35,
      "metadata": {
        "id": "heLg7MWI6Ran"
      },
      "outputs": [],
      "source": [
        "# duplicating the price colum to a pandas list object\n",
        "\n",
        "price_pdf= merged_df.select('price').toPandas().astype('int64')\n",
        "quote_pdf= df2.select('price').toPandas().astype('int64')"
      ]
    },
    {
      "cell_type": "code",
      "execution_count": 36,
      "metadata": {
        "colab": {
          "base_uri": "https://localhost:8080/",
          "height": 497
        },
        "id": "fBjim1WR70zN",
        "outputId": "2aca96dc-df26-401b-8c3e-913385f5de1c"
      },
      "outputs": [
        {
          "output_type": "display_data",
          "data": {
            "text/plain": [
              "<Figure size 1400x500 with 2 Axes>"
            ],
            "image/png": "[encoded data removed]"
          },
          "metadata": {}
        }
      ],
      "source": [
        "# Visualizing the distribution of the prices before (R) and after (L) winsorization\n",
        "\n",
        "fig, (ax1, ax2)= plt.subplots(ncols= 2, figsize= (14, 5))\n",
        "\n",
        "sns.kdeplot(x= price_pdf['price'], fill= True, ax= ax1)\n",
        "\n",
        "sns.kdeplot(x= quote_pdf['price'], fill= True, ax= ax2)\n",
        "\n",
        "sns.despine(offset=10, trim=True)\n",
        "plt.title('Price distribution')\n",
        "plt.xlabel('Price')\n",
        "plt.ylabel('Density')\n",
        "plt.show()"
      ]
    },
    {
      "cell_type": "markdown",
      "metadata": {
        "id": "u_lsvzZg8_uD"
      },
      "source": [
        "Based on the plot, we can infer the following:\n",
        "\n",
        "1.   Skewness: The distribution is heavily skewed to the right, meaning there are a few very high-priced items that significantly pull the mean to the right.\n",
        "2.   Multimodality: There are be multiple peaks (modes) in the distribution, showing that there are distinct groups of items with different price ranges. This is due to different car makes.\n",
        "\n"
      ]
    },
    {
      "cell_type": "markdown",
      "metadata": {
        "id": "bLRG85k5-jhU"
      },
      "source": [
        "I would apply a log transformation on the dataframe so that the right-skewed distribution would become less skewed, in a bid to make it more symmetrical."
      ]
    },
    {
      "cell_type": "code",
      "execution_count": 37,
      "metadata": {
        "id": "PGWVlW6h6KkG"
      },
      "outputs": [],
      "source": [
        "merged_df= merged_df.withColumn('log_price', log(merged_df['price']))"
      ]
    },
    {
      "cell_type": "code",
      "execution_count": 38,
      "metadata": {
        "id": "b8NYUbtv_Cso"
      },
      "outputs": [],
      "source": [
        "# duplicating the log_price colum to a pandas list object\n",
        "\n",
        "log_price_pdf= merged_df.select('log_price').toPandas()"
      ]
    },
    {
      "cell_type": "code",
      "execution_count": 39,
      "metadata": {
        "colab": {
          "base_uri": "https://localhost:8080/",
          "height": 481
        },
        "id": "E6eDo_Z9_Ts1",
        "outputId": "09cb0e6d-94d6-4ba6-a5f3-77421991a1b5"
      },
      "outputs": [
        {
          "output_type": "display_data",
          "data": {
            "text/plain": [
              "<Figure size 640x480 with 1 Axes>"
            ],
            "image/png": "[encoded data removed]"
          },
          "metadata": {}
        }
      ],
      "source": [
        "# Visualizing the effect of the log transformation on the distribution\n",
        "\n",
        "sns.kdeplot(x= log_price_pdf['log_price'], fill= True)\n",
        "sns.despine(offset=10, trim=True)\n",
        "plt.title('Distribution')\n",
        "plt.xlabel('Log')\n",
        "plt.ylabel('Density')\n",
        "plt.show()"
      ]
    },
    {
      "cell_type": "code",
      "execution_count": 40,
      "metadata": {
        "id": "8p4W6biKKr1i"
      },
      "outputs": [],
      "source": [
        "# Dropping duplicate rows in the dataframe\n",
        "\n",
        "merged_df= merged_df.distinct()"
      ]
    },
    {
      "cell_type": "markdown",
      "metadata": {
        "id": "jpFczYy6u3D7"
      },
      "source": [
        "## Feature Engineering"
      ]
    },
    {
      "cell_type": "markdown",
      "metadata": {
        "id": "g_rOsmOOu-Y_"
      },
      "source": [
        "I will add two columns to the dataframe:\n",
        "\n",
        "1.   `miles_per_year`: to provide context to how much the car has been used.\n",
        "2.   `engine_effciency`: to indicate how efficient the engine is in converting fuel to power.\n",
        "\n"
      ]
    },
    {
      "cell_type": "code",
      "source": [
        "def engineer_features (data):\n",
        "    data= data.withColumn('miles_per_year', F.col('imputed_mileage') / (2024 - F.col('manufacture_year')))\n",
        "    data= data.withColumn('engine_efficiency', F.col('imputed_engine_power') / F.col('imputed_engine_displacement'))\n",
        "    return data"
      ],
      "metadata": {
        "id": "5KlAzuP1haxP"
      },
      "execution_count": 41,
      "outputs": []
    },
    {
      "cell_type": "code",
      "execution_count": 42,
      "metadata": {
        "id": "HFpoFeH6hhVB"
      },
      "outputs": [],
      "source": [
        "merged_df= engineer_features(merged_df)"
      ]
    },
    {
      "cell_type": "code",
      "source": [
        "merged_df.show(5)"
      ],
      "metadata": {
        "colab": {
          "base_uri": "https://localhost:8080/"
        },
        "id": "3GynEweF4FJb",
        "outputId": "6030b519-c5a8-44ad-e0fc-8ea3d239561b"
      },
      "execution_count": 43,
      "outputs": [
        {
          "output_type": "stream",
          "name": "stdout",
          "text": [
            "+----+----------------+-----------+----------------------+---------------+--------+---------------+---------------------------+--------------------+------------------+------------------+------------------+-------------------+\n",
            "|make|manufacture_year|known_model|new_transmission_index|fuel_type_index|   price|imputed_mileage|imputed_engine_displacement|imputed_engine_power|imputed_door_count|         log_price|    miles_per_year|  engine_efficiency|\n",
            "+----+----------------+-----------+----------------------+---------------+--------+---------------+---------------------------+--------------------+------------------+------------------+------------------+-------------------+\n",
            "|audi|            1995|          1|                     2|              0|  759912|          85000|                       1800|                 120|                 4| 13.54095791608471|2931.0344827586205|0.06666666666666667|\n",
            "|audi|            1995|          1|                     2|              0| 2201228|         173500|                       1968|                 120|                 4|14.604525944421201| 5982.758620689655|0.06097560975609756|\n",
            "|audi|            1995|          0|                     2|              0|12000932|          90000|                       1968|                 120|                 4|16.300494871403043| 3103.448275862069|0.06097560975609756|\n",
            "|audi|            1995|          1|                     1|              0|  759912|         159000|                       1781|                  92|                 4| 13.54095791608471| 5482.758620689655|0.05165637282425604|\n",
            "|audi|            1996|          1|                     2|              0|  759912|          12097|                       1968|                 120|                 4| 13.54095791608471| 432.0357142857143|0.06097560975609756|\n",
            "+----+----------------+-----------+----------------------+---------------+--------+---------------+---------------------------+--------------------+------------------+------------------+------------------+-------------------+\n",
            "only showing top 5 rows\n",
            "\n"
          ]
        }
      ]
    },
    {
      "cell_type": "code",
      "execution_count": 44,
      "metadata": {
        "id": "Y8hefJW6NDaw"
      },
      "outputs": [],
      "source": [
        "# Creating a list of relevant features that will be fed into the assembler\n",
        "\n",
        "feature_list= [\n",
        "    'manufacture_year',\n",
        "    'known_model',\n",
        "    'new_transmission_index',\n",
        "    'fuel_type_index',\n",
        "    'imputed_mileage',\n",
        "    'imputed_engine_displacement',\n",
        "    'imputed_engine_power',\n",
        "    'imputed_door_count',\n",
        "    'miles_per_year',\n",
        "    'engine_efficiency'\n",
        "]\n",
        "\n",
        "# Instantiating the assembler\n",
        "\n",
        "assembler= VectorAssembler(\n",
        "    inputCols= feature_list,\n",
        "    outputCol= 'features'\n",
        ")\n",
        "\n",
        "\n",
        "feature_vector= assembler.transform(merged_df)"
      ]
    },
    {
      "cell_type": "markdown",
      "metadata": {
        "id": "4InYuMxqwRiO"
      },
      "source": [
        "## Train/Test split"
      ]
    },
    {
      "cell_type": "code",
      "execution_count": 45,
      "metadata": {
        "id": "GQuIUoOmQu_8"
      },
      "outputs": [],
      "source": [
        "# Splitting the data into both train and test/validation sets\n",
        "\n",
        "train, test= feature_vector.randomSplit([0.7, 0.3], seed= 42)"
      ]
    },
    {
      "cell_type": "markdown",
      "metadata": {
        "id": "uLwQNz4PwaMQ"
      },
      "source": [
        "## Scaling the data"
      ]
    },
    {
      "cell_type": "code",
      "execution_count": 46,
      "metadata": {
        "id": "ukcHx8B0R5H1"
      },
      "outputs": [],
      "source": [
        "# Creating a scaler object\n",
        "\n",
        "scaler= StandardScaler(\n",
        "    inputCol= 'features',\n",
        "    outputCol= 'features_scaled'\n",
        ")\n",
        "\n",
        "# fitting the scaler on the training data\n",
        "\n",
        "scaler_model= scaler.fit(train)\n",
        "\n",
        "# applying the transformation on the training data\n",
        "\n",
        "scaled_train= scaler_model.transform(train)"
      ]
    },
    {
      "cell_type": "markdown",
      "metadata": {
        "id": "UJFOEQ-gkNsG"
      },
      "source": [
        "## Modeling"
      ]
    },
    {
      "cell_type": "markdown",
      "metadata": {
        "id": "33hUsFTJx_Gn"
      },
      "source": [
        "I will use the XGBoost algorithm to make predictions on the data."
      ]
    },
    {
      "cell_type": "code",
      "source": [
        "! pip install xgboost\n",
        "from xgboost.spark import SparkXGBRegressor\n",
        "from pyspark.ml.tuning import ParamGridBuilder, CrossValidator\n",
        "from pyspark.ml.evaluation import RegressionEvaluator\n",
        "from pyspark.mllib.evaluation import RegressionMetrics"
      ],
      "metadata": {
        "colab": {
          "base_uri": "https://localhost:8080/"
        },
        "id": "5OG8xvhaHVkQ",
        "outputId": "a648a707-727c-4856-dd2c-5b7feeab1b73"
      },
      "execution_count": 47,
      "outputs": [
        {
          "output_type": "stream",
          "name": "stdout",
          "text": [
            "Requirement already satisfied: xgboost in /usr/local/lib/python3.10/dist-packages (2.1.2)\n",
            "Requirement already satisfied: numpy in /usr/local/lib/python3.10/dist-packages (from xgboost) (1.26.4)\n",
            "Requirement already satisfied: nvidia-nccl-cu12 in /usr/local/lib/python3.10/dist-packages (from xgboost) (2.23.4)\n",
            "Requirement already satisfied: scipy in /usr/local/lib/python3.10/dist-packages (from xgboost) (1.13.1)\n"
          ]
        }
      ]
    },
    {
      "cell_type": "code",
      "execution_count": 48,
      "metadata": {
        "id": "dPXIfJEFXv4-"
      },
      "outputs": [],
      "source": [
        "# Defining the model\n",
        "\n",
        "xgb_regressor= SparkXGBRegressor(features_col= 'features_scaled',\n",
        "                                 label_col= 'log_price',\n",
        "                                 num_workers= 2,\n",
        "                                 device= 'cpu')"
      ]
    },
    {
      "cell_type": "code",
      "execution_count": 51,
      "metadata": {
        "id": "ewSFfyNPlght"
      },
      "outputs": [],
      "source": [
        "# Builidng the hyperparameter grid\n",
        "\n",
        "grid= (ParamGridBuilder()\n",
        ".addGrid(xgb_regressor.learning_rate, [0.05, 0.1])\n",
        ".addGrid(xgb_regressor.n_estimators, [1000, 1250])\n",
        ".addGrid(xgb_regressor.max_depth, [7])\n",
        ".build()\n",
        ")"
      ]
    },
    {
      "cell_type": "code",
      "execution_count": 52,
      "metadata": {
        "id": "58QjIp2Hm0GL"
      },
      "outputs": [],
      "source": [
        "# Creating an evaluator\n",
        "\n",
        "evaluator= RegressionEvaluator(labelCol= 'log_price', predictionCol= 'prediction', metricName= 'rmse')"
      ]
    },
    {
      "cell_type": "code",
      "execution_count": 53,
      "metadata": {
        "id": "nhuEat_lojSw"
      },
      "outputs": [],
      "source": [
        "# Cross validation\n",
        "\n",
        "cv= CrossValidator(estimator= xgb_regressor,\n",
        "                   estimatorParamMaps= grid,\n",
        "                   evaluator= evaluator,\n",
        "                   numFolds= 5)"
      ]
    },
    {
      "cell_type": "code",
      "execution_count": 54,
      "metadata": {
        "colab": {
          "base_uri": "https://localhost:8080/"
        },
        "collapsed": true,
        "id": "apVSlcypozLB",
        "outputId": "8ac0f154-20a8-4fa9-847c-764a165af3fa"
      },
      "outputs": [
        {
          "output_type": "stream",
          "name": "stderr",
          "text": [
            "INFO:XGBoost-PySpark:Running xgboost-2.1.2 on 2 workers with\n",
            "\tbooster params: {'device': 'cpu', 'learning_rate': 0.05, 'max_depth': 7, 'objective': 'reg:squarederror', 'nthread': 1}\n",
            "\ttrain_call_kwargs_params: {'verbose_eval': True, 'num_boost_round': 1000}\n",
            "\tdmatrix_kwargs: {'nthread': 1, 'missing': nan}\n",
            "INFO:XGBoost-PySpark:Finished xgboost training!\n",
            "INFO:XGBoost-PySpark:Running xgboost-2.1.2 on 2 workers with\n",
            "\tbooster params: {'device': 'cpu', 'learning_rate': 0.05, 'max_depth': 7, 'objective': 'reg:squarederror', 'nthread': 1}\n",
            "\ttrain_call_kwargs_params: {'verbose_eval': True, 'num_boost_round': 1250}\n",
            "\tdmatrix_kwargs: {'nthread': 1, 'missing': nan}\n",
            "INFO:XGBoost-PySpark:Finished xgboost training!\n",
            "INFO:XGBoost-PySpark:Running xgboost-2.1.2 on 2 workers with\n",
            "\tbooster params: {'device': 'cpu', 'learning_rate': 0.1, 'max_depth': 7, 'objective': 'reg:squarederror', 'nthread': 1}\n",
            "\ttrain_call_kwargs_params: {'verbose_eval': True, 'num_boost_round': 1000}\n",
            "\tdmatrix_kwargs: {'nthread': 1, 'missing': nan}\n",
            "INFO:XGBoost-PySpark:Finished xgboost training!\n",
            "INFO:XGBoost-PySpark:Running xgboost-2.1.2 on 2 workers with\n",
            "\tbooster params: {'device': 'cpu', 'learning_rate': 0.1, 'max_depth': 7, 'objective': 'reg:squarederror', 'nthread': 1}\n",
            "\ttrain_call_kwargs_params: {'verbose_eval': True, 'num_boost_round': 1250}\n",
            "\tdmatrix_kwargs: {'nthread': 1, 'missing': nan}\n",
            "INFO:XGBoost-PySpark:Finished xgboost training!\n",
            "INFO:XGBoost-PySpark:Running xgboost-2.1.2 on 2 workers with\n",
            "\tbooster params: {'device': 'cpu', 'learning_rate': 0.05, 'max_depth': 7, 'objective': 'reg:squarederror', 'nthread': 1}\n",
            "\ttrain_call_kwargs_params: {'verbose_eval': True, 'num_boost_round': 1000}\n",
            "\tdmatrix_kwargs: {'nthread': 1, 'missing': nan}\n",
            "INFO:XGBoost-PySpark:Finished xgboost training!\n",
            "INFO:XGBoost-PySpark:Running xgboost-2.1.2 on 2 workers with\n",
            "\tbooster params: {'device': 'cpu', 'learning_rate': 0.05, 'max_depth': 7, 'objective': 'reg:squarederror', 'nthread': 1}\n",
            "\ttrain_call_kwargs_params: {'verbose_eval': True, 'num_boost_round': 1250}\n",
            "\tdmatrix_kwargs: {'nthread': 1, 'missing': nan}\n",
            "INFO:XGBoost-PySpark:Finished xgboost training!\n",
            "INFO:XGBoost-PySpark:Running xgboost-2.1.2 on 2 workers with\n",
            "\tbooster params: {'device': 'cpu', 'learning_rate': 0.1, 'max_depth': 7, 'objective': 'reg:squarederror', 'nthread': 1}\n",
            "\ttrain_call_kwargs_params: {'verbose_eval': True, 'num_boost_round': 1000}\n",
            "\tdmatrix_kwargs: {'nthread': 1, 'missing': nan}\n",
            "INFO:XGBoost-PySpark:Finished xgboost training!\n",
            "INFO:XGBoost-PySpark:Running xgboost-2.1.2 on 2 workers with\n",
            "\tbooster params: {'device': 'cpu', 'learning_rate': 0.1, 'max_depth': 7, 'objective': 'reg:squarederror', 'nthread': 1}\n",
            "\ttrain_call_kwargs_params: {'verbose_eval': True, 'num_boost_round': 1250}\n",
            "\tdmatrix_kwargs: {'nthread': 1, 'missing': nan}\n",
            "INFO:XGBoost-PySpark:Finished xgboost training!\n",
            "INFO:XGBoost-PySpark:Running xgboost-2.1.2 on 2 workers with\n",
            "\tbooster params: {'device': 'cpu', 'learning_rate': 0.05, 'max_depth': 7, 'objective': 'reg:squarederror', 'nthread': 1}\n",
            "\ttrain_call_kwargs_params: {'verbose_eval': True, 'num_boost_round': 1000}\n",
            "\tdmatrix_kwargs: {'nthread': 1, 'missing': nan}\n",
            "INFO:XGBoost-PySpark:Finished xgboost training!\n",
            "INFO:XGBoost-PySpark:Running xgboost-2.1.2 on 2 workers with\n",
            "\tbooster params: {'device': 'cpu', 'learning_rate': 0.05, 'max_depth': 7, 'objective': 'reg:squarederror', 'nthread': 1}\n",
            "\ttrain_call_kwargs_params: {'verbose_eval': True, 'num_boost_round': 1250}\n",
            "\tdmatrix_kwargs: {'nthread': 1, 'missing': nan}\n",
            "INFO:XGBoost-PySpark:Finished xgboost training!\n",
            "INFO:XGBoost-PySpark:Running xgboost-2.1.2 on 2 workers with\n",
            "\tbooster params: {'device': 'cpu', 'learning_rate': 0.1, 'max_depth': 7, 'objective': 'reg:squarederror', 'nthread': 1}\n",
            "\ttrain_call_kwargs_params: {'verbose_eval': True, 'num_boost_round': 1000}\n",
            "\tdmatrix_kwargs: {'nthread': 1, 'missing': nan}\n",
            "INFO:XGBoost-PySpark:Finished xgboost training!\n",
            "INFO:XGBoost-PySpark:Running xgboost-2.1.2 on 2 workers with\n",
            "\tbooster params: {'device': 'cpu', 'learning_rate': 0.1, 'max_depth': 7, 'objective': 'reg:squarederror', 'nthread': 1}\n",
            "\ttrain_call_kwargs_params: {'verbose_eval': True, 'num_boost_round': 1250}\n",
            "\tdmatrix_kwargs: {'nthread': 1, 'missing': nan}\n",
            "INFO:XGBoost-PySpark:Finished xgboost training!\n",
            "INFO:XGBoost-PySpark:Running xgboost-2.1.2 on 2 workers with\n",
            "\tbooster params: {'device': 'cpu', 'learning_rate': 0.05, 'max_depth': 7, 'objective': 'reg:squarederror', 'nthread': 1}\n",
            "\ttrain_call_kwargs_params: {'verbose_eval': True, 'num_boost_round': 1000}\n",
            "\tdmatrix_kwargs: {'nthread': 1, 'missing': nan}\n",
            "INFO:XGBoost-PySpark:Finished xgboost training!\n",
            "INFO:XGBoost-PySpark:Running xgboost-2.1.2 on 2 workers with\n",
            "\tbooster params: {'device': 'cpu', 'learning_rate': 0.05, 'max_depth': 7, 'objective': 'reg:squarederror', 'nthread': 1}\n",
            "\ttrain_call_kwargs_params: {'verbose_eval': True, 'num_boost_round': 1250}\n",
            "\tdmatrix_kwargs: {'nthread': 1, 'missing': nan}\n",
            "INFO:XGBoost-PySpark:Finished xgboost training!\n",
            "INFO:XGBoost-PySpark:Running xgboost-2.1.2 on 2 workers with\n",
            "\tbooster params: {'device': 'cpu', 'learning_rate': 0.1, 'max_depth': 7, 'objective': 'reg:squarederror', 'nthread': 1}\n",
            "\ttrain_call_kwargs_params: {'verbose_eval': True, 'num_boost_round': 1000}\n",
            "\tdmatrix_kwargs: {'nthread': 1, 'missing': nan}\n",
            "INFO:XGBoost-PySpark:Finished xgboost training!\n",
            "INFO:XGBoost-PySpark:Running xgboost-2.1.2 on 2 workers with\n",
            "\tbooster params: {'device': 'cpu', 'learning_rate': 0.1, 'max_depth': 7, 'objective': 'reg:squarederror', 'nthread': 1}\n",
            "\ttrain_call_kwargs_params: {'verbose_eval': True, 'num_boost_round': 1250}\n",
            "\tdmatrix_kwargs: {'nthread': 1, 'missing': nan}\n",
            "INFO:XGBoost-PySpark:Finished xgboost training!\n",
            "INFO:XGBoost-PySpark:Running xgboost-2.1.2 on 2 workers with\n",
            "\tbooster params: {'device': 'cpu', 'learning_rate': 0.05, 'max_depth': 7, 'objective': 'reg:squarederror', 'nthread': 1}\n",
            "\ttrain_call_kwargs_params: {'verbose_eval': True, 'num_boost_round': 1000}\n",
            "\tdmatrix_kwargs: {'nthread': 1, 'missing': nan}\n",
            "INFO:XGBoost-PySpark:Finished xgboost training!\n",
            "INFO:XGBoost-PySpark:Running xgboost-2.1.2 on 2 workers with\n",
            "\tbooster params: {'device': 'cpu', 'learning_rate': 0.05, 'max_depth': 7, 'objective': 'reg:squarederror', 'nthread': 1}\n",
            "\ttrain_call_kwargs_params: {'verbose_eval': True, 'num_boost_round': 1250}\n",
            "\tdmatrix_kwargs: {'nthread': 1, 'missing': nan}\n",
            "INFO:XGBoost-PySpark:Finished xgboost training!\n",
            "INFO:XGBoost-PySpark:Running xgboost-2.1.2 on 2 workers with\n",
            "\tbooster params: {'device': 'cpu', 'learning_rate': 0.1, 'max_depth': 7, 'objective': 'reg:squarederror', 'nthread': 1}\n",
            "\ttrain_call_kwargs_params: {'verbose_eval': True, 'num_boost_round': 1000}\n",
            "\tdmatrix_kwargs: {'nthread': 1, 'missing': nan}\n",
            "INFO:XGBoost-PySpark:Finished xgboost training!\n",
            "INFO:XGBoost-PySpark:Running xgboost-2.1.2 on 2 workers with\n",
            "\tbooster params: {'device': 'cpu', 'learning_rate': 0.1, 'max_depth': 7, 'objective': 'reg:squarederror', 'nthread': 1}\n",
            "\ttrain_call_kwargs_params: {'verbose_eval': True, 'num_boost_round': 1250}\n",
            "\tdmatrix_kwargs: {'nthread': 1, 'missing': nan}\n",
            "INFO:XGBoost-PySpark:Finished xgboost training!\n",
            "INFO:XGBoost-PySpark:Running xgboost-2.1.2 on 2 workers with\n",
            "\tbooster params: {'device': 'cpu', 'learning_rate': 0.1, 'max_depth': 7, 'objective': 'reg:squarederror', 'nthread': 1}\n",
            "\ttrain_call_kwargs_params: {'verbose_eval': True, 'num_boost_round': 1250}\n",
            "\tdmatrix_kwargs: {'nthread': 1, 'missing': nan}\n",
            "INFO:XGBoost-PySpark:Finished xgboost training!\n"
          ]
        }
      ],
      "source": [
        "# Fitting the model\n",
        "\n",
        "cv_model= cv.fit(scaled_train)"
      ]
    },
    {
      "cell_type": "code",
      "execution_count": 55,
      "metadata": {
        "colab": {
          "base_uri": "https://localhost:8080/"
        },
        "collapsed": true,
        "id": "b6lzLmtDtHp6",
        "outputId": "bf877971-6828-4cb2-e6fe-b5a44228527e"
      },
      "outputs": [
        {
          "output_type": "stream",
          "name": "stdout",
          "text": [
            "Best Hyperparameters:\n",
            "enable_sparse_data_optim: False\n",
            "featuresCol: features_scaled\n",
            "features_cols: []\n",
            "labelCol: log_price\n",
            "predictionCol: prediction\n",
            "arbitrary_params_dict: {}\n",
            "base_score: None\n",
            "booster: None\n",
            "callbacks: None\n",
            "colsample_bylevel: None\n",
            "colsample_bynode: None\n",
            "colsample_bytree: None\n",
            "device: cpu\n",
            "early_stopping_rounds: None\n",
            "eval_metric: None\n",
            "feature_names: None\n",
            "feature_types: None\n",
            "feature_weights: None\n",
            "force_repartition: False\n",
            "gamma: None\n",
            "grow_policy: None\n",
            "importance_type: None\n",
            "interaction_constraints: None\n",
            "iteration_range: None\n",
            "learning_rate: 0.1\n",
            "max_bin: None\n",
            "max_cat_threshold: None\n",
            "max_cat_to_onehot: None\n",
            "max_delta_step: None\n",
            "max_depth: 7\n",
            "max_leaves: None\n",
            "min_child_weight: None\n",
            "missing: nan\n",
            "monotone_constraints: None\n",
            "multi_strategy: None\n",
            "n_estimators: 1250\n",
            "num_parallel_tree: None\n",
            "num_workers: 2\n",
            "objective: reg:squarederror\n",
            "random_state: None\n",
            "reg_alpha: None\n",
            "reg_lambda: None\n",
            "repartition_random_shuffle: False\n",
            "sampling_method: None\n",
            "scale_pos_weight: None\n",
            "subsample: None\n",
            "tree_method: None\n",
            "use_gpu: False\n",
            "validate_parameters: None\n",
            "verbose: True\n",
            "verbosity: None\n",
            "xgb_model: None\n"
          ]
        }
      ],
      "source": [
        "# Assuming cvModel is your fitted CrossValidator model\n",
        "best_model = cv_model.bestModel\n",
        "\n",
        "# Access the best hyperparameters using extractParamMap\n",
        "best_hyperparameters = best_model.extractParamMap()\n",
        "\n",
        "print(\"Best Hyperparameters:\")\n",
        "for param, value in best_hyperparameters.items():\n",
        "    print(f\"{param.name}: {value}\")"
      ]
    },
    {
      "cell_type": "code",
      "execution_count": 56,
      "metadata": {
        "id": "ll7KrlxBu_C9"
      },
      "outputs": [],
      "source": [
        "# applying the scalaer transform to the test data\n",
        "\n",
        "scaled_test= scaler_model.transform(test)"
      ]
    },
    {
      "cell_type": "markdown",
      "metadata": {
        "id": "SlZ7y8nplJTY"
      },
      "source": [
        "## Predictions"
      ]
    },
    {
      "cell_type": "code",
      "execution_count": 57,
      "metadata": {
        "colab": {
          "base_uri": "https://localhost:8080/"
        },
        "id": "wTNixwk2vlDk",
        "outputId": "0b8835d3-a72a-45c1-dccd-c81079d1ffc6"
      },
      "outputs": [
        {
          "output_type": "stream",
          "name": "stdout",
          "text": [
            "The RMSE is 0.2647241898264987\n"
          ]
        }
      ],
      "source": [
        "# test predictions\n",
        "test_predictions= best_model.transform(scaled_test)\n",
        "test_rmse= evaluator.evaluate(test_predictions)\n",
        "\n",
        "print(f'The RMSE is {test_rmse}')"
      ]
    },
    {
      "cell_type": "code",
      "execution_count": 58,
      "metadata": {
        "colab": {
          "base_uri": "https://localhost:8080/"
        },
        "id": "S-uo8FpfzO7p",
        "outputId": "5941bc06-57ea-42d3-928b-545f9067ebf7"
      },
      "outputs": [
        {
          "output_type": "stream",
          "name": "stderr",
          "text": [
            "/usr/local/lib/python3.10/dist-packages/pyspark/sql/context.py:158: FutureWarning: Deprecated in 3.0.0. Use SparkSession.builder.getOrCreate() instead.\n",
            "  warnings.warn(\n"
          ]
        },
        {
          "output_type": "stream",
          "name": "stdout",
          "text": [
            "The R-squared score is: 0.916211818715235\n"
          ]
        }
      ],
      "source": [
        "target_and_preds= test_predictions.select('log_price', 'prediction').rdd\n",
        "metrics= RegressionMetrics(target_and_preds)\n",
        "r2_score= metrics.r2\n",
        "print(f'The R-squared score is: {r2_score}')"
      ]
    },
    {
      "cell_type": "code",
      "execution_count": 59,
      "metadata": {
        "id": "4kmR9EWr2fa3"
      },
      "outputs": [],
      "source": [
        "test_predictions= test_predictions.withColumn('predicted_price', exp(test_predictions['prediction']))\n",
        "test_predictions= test_predictions.withColumn('predicted_price', test_predictions['predicted_price'].cast('long'))"
      ]
    },
    {
      "cell_type": "code",
      "execution_count": 60,
      "metadata": {
        "id": "Oa7LikobncYy"
      },
      "outputs": [],
      "source": [
        "test_predictions= test_predictions.withColumn('error', test_predictions['price'] - test_predictions['predicted_price'])"
      ]
    },
    {
      "cell_type": "code",
      "execution_count": 61,
      "metadata": {
        "id": "opvLbmDnoBy0",
        "colab": {
          "base_uri": "https://localhost:8080/"
        },
        "outputId": "152b7416-bbee-45a6-f4ee-aea6ce368fb2"
      },
      "outputs": [
        {
          "output_type": "stream",
          "name": "stdout",
          "text": [
            "+-------+---------------+-------+\n",
            "|  price|predicted_price|  error|\n",
            "+-------+---------------+-------+\n",
            "| 759912|         792834| -32922|\n",
            "| 759912|         823569| -63657|\n",
            "|1200444|        1670607|-470163|\n",
            "|2100236|        1353653| 746583|\n",
            "| 759912|         537034| 222878|\n",
            "| 759912|         738985|  20927|\n",
            "| 759912|         822887| -62975|\n",
            "| 759912|         756634|   3278|\n",
            "| 759912|         848215| -88303|\n",
            "| 759912|        1263904|-503992|\n",
            "| 759912|         556301| 203611|\n",
            "| 759912|         838192| -78280|\n",
            "| 759912|         838701| -78789|\n",
            "| 759912|         711946|  47966|\n",
            "| 759912|         906618|-146706|\n",
            "| 759912|        1236982|-477070|\n",
            "| 759912|         975682|-215770|\n",
            "| 759912|         864119|-104207|\n",
            "| 796120|         864119| -67999|\n",
            "| 799688|         642892| 156796|\n",
            "+-------+---------------+-------+\n",
            "only showing top 20 rows\n",
            "\n"
          ]
        }
      ],
      "source": [
        "preds_df= test_predictions.select('price', 'predicted_price', 'error')\n",
        "preds_df.show()"
      ]
    },
    {
      "cell_type": "code",
      "source": [],
      "metadata": {
        "id": "WyadJJOYlWbp"
      },
      "execution_count": null,
      "outputs": []
    }
  ],
  "metadata": {
    "colab": {
      "provenance": [],
      "mount_file_id": "1nbYhQ6zZrIgo4KqABP1UMhbFsRD5BgJk",
      "authorship_tag": "ABX9TyNpU1MWBHmfUL8QdzEvtfnM",
      "include_colab_link": true
    },
    "kernelspec": {
      "display_name": "Python 3",
      "name": "python3"
    },
    "language_info": {
      "name": "python"
    }
  },
  "nbformat": 4,
  "nbformat_minor": 0
}